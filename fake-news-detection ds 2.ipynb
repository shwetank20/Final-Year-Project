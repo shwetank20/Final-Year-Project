{
 "cells": [
  {
   "cell_type": "code",
   "execution_count": 1,
   "id": "c9552774",
   "metadata": {
    "_cell_guid": "b1076dfc-b9ad-4769-8c92-a6c4dae69d19",
    "_uuid": "8f2839f25d086af736a60e9eeb907d3b93b6e0e5",
    "execution": {
     "iopub.execute_input": "2022-05-25T13:09:34.403674Z",
     "iopub.status.busy": "2022-05-25T13:09:34.403051Z",
     "iopub.status.idle": "2022-05-25T13:09:35.606818Z",
     "shell.execute_reply": "2022-05-25T13:09:35.605677Z"
    },
    "papermill": {
     "duration": 1.251657,
     "end_time": "2022-05-25T13:09:35.609581",
     "exception": false,
     "start_time": "2022-05-25T13:09:34.357924",
     "status": "completed"
    },
    "tags": []
   },
   "outputs": [],
   "source": [
    "import numpy as np\n",
    "import pandas as pd\n",
    "import matplotlib.pyplot as plt\n",
    "import seaborn as sns"
   ]
  },
  {
   "cell_type": "code",
   "execution_count": 2,
   "id": "30ca5019",
   "metadata": {
    "execution": {
     "iopub.execute_input": "2022-05-25T13:09:35.695163Z",
     "iopub.status.busy": "2022-05-25T13:09:35.694846Z",
     "iopub.status.idle": "2022-05-25T13:09:39.129962Z",
     "shell.execute_reply": "2022-05-25T13:09:39.128960Z"
    },
    "papermill": {
     "duration": 3.480391,
     "end_time": "2022-05-25T13:09:39.132556",
     "exception": false,
     "start_time": "2022-05-25T13:09:35.652165",
     "status": "completed"
    },
    "tags": []
   },
   "outputs": [],
   "source": [
    "train = pd.read_csv('C:/Users/LAKSHYA/Documents/ML/datasets/fake news/train.csv')\n",
    "test = pd.read_csv('C:/Users/LAKSHYA/Documents/ML/datasets/fake news/test.csv')\n",
    "submit=pd.read_csv('C:/Users/LAKSHYA/Documents/ML/datasets/fake news/submit.csv')"
   ]
  },
  {
   "cell_type": "code",
   "execution_count": 3,
   "id": "6dd32fb5",
   "metadata": {
    "execution": {
     "iopub.execute_input": "2022-05-25T13:09:39.220972Z",
     "iopub.status.busy": "2022-05-25T13:09:39.220699Z",
     "iopub.status.idle": "2022-05-25T13:09:39.244489Z",
     "shell.execute_reply": "2022-05-25T13:09:39.243462Z"
    },
    "papermill": {
     "duration": 0.071138,
     "end_time": "2022-05-25T13:09:39.247504",
     "exception": false,
     "start_time": "2022-05-25T13:09:39.176366",
     "status": "completed"
    },
    "tags": []
   },
   "outputs": [
    {
     "data": {
      "text/html": [
       "<div>\n",
       "<style scoped>\n",
       "    .dataframe tbody tr th:only-of-type {\n",
       "        vertical-align: middle;\n",
       "    }\n",
       "\n",
       "    .dataframe tbody tr th {\n",
       "        vertical-align: top;\n",
       "    }\n",
       "\n",
       "    .dataframe thead th {\n",
       "        text-align: right;\n",
       "    }\n",
       "</style>\n",
       "<table border=\"1\" class=\"dataframe\">\n",
       "  <thead>\n",
       "    <tr style=\"text-align: right;\">\n",
       "      <th></th>\n",
       "      <th>id</th>\n",
       "      <th>title</th>\n",
       "      <th>author</th>\n",
       "      <th>text</th>\n",
       "      <th>label</th>\n",
       "    </tr>\n",
       "  </thead>\n",
       "  <tbody>\n",
       "    <tr>\n",
       "      <th>0</th>\n",
       "      <td>0</td>\n",
       "      <td>House Dem Aide: We Didn’t Even See Comey’s Let...</td>\n",
       "      <td>Darrell Lucus</td>\n",
       "      <td>House Dem Aide: We Didn’t Even See Comey’s Let...</td>\n",
       "      <td>1</td>\n",
       "    </tr>\n",
       "    <tr>\n",
       "      <th>1</th>\n",
       "      <td>1</td>\n",
       "      <td>FLYNN: Hillary Clinton, Big Woman on Campus - ...</td>\n",
       "      <td>Daniel J. Flynn</td>\n",
       "      <td>Ever get the feeling your life circles the rou...</td>\n",
       "      <td>0</td>\n",
       "    </tr>\n",
       "    <tr>\n",
       "      <th>2</th>\n",
       "      <td>2</td>\n",
       "      <td>Why the Truth Might Get You Fired</td>\n",
       "      <td>Consortiumnews.com</td>\n",
       "      <td>Why the Truth Might Get You Fired October 29, ...</td>\n",
       "      <td>1</td>\n",
       "    </tr>\n",
       "    <tr>\n",
       "      <th>3</th>\n",
       "      <td>3</td>\n",
       "      <td>15 Civilians Killed In Single US Airstrike Hav...</td>\n",
       "      <td>Jessica Purkiss</td>\n",
       "      <td>Videos 15 Civilians Killed In Single US Airstr...</td>\n",
       "      <td>1</td>\n",
       "    </tr>\n",
       "    <tr>\n",
       "      <th>4</th>\n",
       "      <td>4</td>\n",
       "      <td>Iranian woman jailed for fictional unpublished...</td>\n",
       "      <td>Howard Portnoy</td>\n",
       "      <td>Print \\nAn Iranian woman has been sentenced to...</td>\n",
       "      <td>1</td>\n",
       "    </tr>\n",
       "  </tbody>\n",
       "</table>\n",
       "</div>"
      ],
      "text/plain": [
       "   id                                              title              author  \\\n",
       "0   0  House Dem Aide: We Didn’t Even See Comey’s Let...       Darrell Lucus   \n",
       "1   1  FLYNN: Hillary Clinton, Big Woman on Campus - ...     Daniel J. Flynn   \n",
       "2   2                  Why the Truth Might Get You Fired  Consortiumnews.com   \n",
       "3   3  15 Civilians Killed In Single US Airstrike Hav...     Jessica Purkiss   \n",
       "4   4  Iranian woman jailed for fictional unpublished...      Howard Portnoy   \n",
       "\n",
       "                                                text  label  \n",
       "0  House Dem Aide: We Didn’t Even See Comey’s Let...      1  \n",
       "1  Ever get the feeling your life circles the rou...      0  \n",
       "2  Why the Truth Might Get You Fired October 29, ...      1  \n",
       "3  Videos 15 Civilians Killed In Single US Airstr...      1  \n",
       "4  Print \\nAn Iranian woman has been sentenced to...      1  "
      ]
     },
     "execution_count": 3,
     "metadata": {},
     "output_type": "execute_result"
    }
   ],
   "source": [
    "train.head()"
   ]
  },
  {
   "cell_type": "code",
   "execution_count": 4,
   "id": "2a080ae0",
   "metadata": {
    "execution": {
     "iopub.execute_input": "2022-05-25T13:09:39.336529Z",
     "iopub.status.busy": "2022-05-25T13:09:39.336223Z",
     "iopub.status.idle": "2022-05-25T13:09:39.355744Z",
     "shell.execute_reply": "2022-05-25T13:09:39.354851Z"
    },
    "papermill": {
     "duration": 0.065536,
     "end_time": "2022-05-25T13:09:39.358140",
     "exception": false,
     "start_time": "2022-05-25T13:09:39.292604",
     "status": "completed"
    },
    "tags": []
   },
   "outputs": [
    {
     "data": {
      "text/plain": [
       "id           0\n",
       "title      558\n",
       "author    1957\n",
       "text        39\n",
       "label        0\n",
       "dtype: int64"
      ]
     },
     "execution_count": 4,
     "metadata": {},
     "output_type": "execute_result"
    }
   ],
   "source": [
    "train.isnull().sum()"
   ]
  },
  {
   "cell_type": "code",
   "execution_count": 5,
   "id": "356503e3",
   "metadata": {
    "execution": {
     "iopub.execute_input": "2022-05-25T13:09:39.450164Z",
     "iopub.status.busy": "2022-05-25T13:09:39.449755Z",
     "iopub.status.idle": "2022-05-25T13:09:39.453932Z",
     "shell.execute_reply": "2022-05-25T13:09:39.453076Z"
    },
    "papermill": {
     "duration": 0.054002,
     "end_time": "2022-05-25T13:09:39.456304",
     "exception": false,
     "start_time": "2022-05-25T13:09:39.402302",
     "status": "completed"
    },
    "tags": []
   },
   "outputs": [],
   "source": [
    "#drop row with none value\n",
    "# train.dropna(thresh = train.shape[1] , inplace = True)"
   ]
  },
  {
   "cell_type": "code",
   "execution_count": 6,
   "id": "5b8dff9c",
   "metadata": {
    "execution": {
     "iopub.execute_input": "2022-05-25T13:09:39.544123Z",
     "iopub.status.busy": "2022-05-25T13:09:39.543815Z",
     "iopub.status.idle": "2022-05-25T13:09:39.559745Z",
     "shell.execute_reply": "2022-05-25T13:09:39.559014Z"
    },
    "papermill": {
     "duration": 0.061735,
     "end_time": "2022-05-25T13:09:39.561997",
     "exception": false,
     "start_time": "2022-05-25T13:09:39.500262",
     "status": "completed"
    },
    "tags": []
   },
   "outputs": [],
   "source": [
    "train = train.fillna('')"
   ]
  },
  {
   "cell_type": "code",
   "execution_count": 7,
   "id": "a322a62b",
   "metadata": {
    "execution": {
     "iopub.execute_input": "2022-05-25T13:09:39.649696Z",
     "iopub.status.busy": "2022-05-25T13:09:39.648906Z",
     "iopub.status.idle": "2022-05-25T13:09:39.667128Z",
     "shell.execute_reply": "2022-05-25T13:09:39.666094Z"
    },
    "papermill": {
     "duration": 0.064706,
     "end_time": "2022-05-25T13:09:39.669602",
     "exception": false,
     "start_time": "2022-05-25T13:09:39.604896",
     "status": "completed"
    },
    "tags": []
   },
   "outputs": [
    {
     "data": {
      "text/plain": [
       "id        0\n",
       "title     0\n",
       "author    0\n",
       "text      0\n",
       "label     0\n",
       "dtype: int64"
      ]
     },
     "execution_count": 7,
     "metadata": {},
     "output_type": "execute_result"
    }
   ],
   "source": [
    "train.isnull().sum()"
   ]
  },
  {
   "cell_type": "code",
   "execution_count": 8,
   "id": "89651dd1",
   "metadata": {
    "execution": {
     "iopub.execute_input": "2022-05-25T13:09:39.759642Z",
     "iopub.status.busy": "2022-05-25T13:09:39.759320Z",
     "iopub.status.idle": "2022-05-25T13:09:39.770903Z",
     "shell.execute_reply": "2022-05-25T13:09:39.770052Z"
    },
    "papermill": {
     "duration": 0.059443,
     "end_time": "2022-05-25T13:09:39.773222",
     "exception": false,
     "start_time": "2022-05-25T13:09:39.713779",
     "status": "completed"
    },
    "tags": []
   },
   "outputs": [
    {
     "data": {
      "text/plain": [
       "id          0\n",
       "title     122\n",
       "author    503\n",
       "text        7\n",
       "dtype: int64"
      ]
     },
     "execution_count": 8,
     "metadata": {},
     "output_type": "execute_result"
    }
   ],
   "source": [
    "test.isnull().sum()"
   ]
  },
  {
   "cell_type": "code",
   "execution_count": 9,
   "id": "d7413fee",
   "metadata": {
    "execution": {
     "iopub.execute_input": "2022-05-25T13:09:39.861678Z",
     "iopub.status.busy": "2022-05-25T13:09:39.860909Z",
     "iopub.status.idle": "2022-05-25T13:09:39.869271Z",
     "shell.execute_reply": "2022-05-25T13:09:39.868236Z"
    },
    "papermill": {
     "duration": 0.054974,
     "end_time": "2022-05-25T13:09:39.871498",
     "exception": false,
     "start_time": "2022-05-25T13:09:39.816524",
     "status": "completed"
    },
    "tags": []
   },
   "outputs": [],
   "source": [
    "test = test.fillna('')"
   ]
  },
  {
   "cell_type": "code",
   "execution_count": 10,
   "id": "cea3da54",
   "metadata": {
    "execution": {
     "iopub.execute_input": "2022-05-25T13:09:39.962947Z",
     "iopub.status.busy": "2022-05-25T13:09:39.962648Z",
     "iopub.status.idle": "2022-05-25T13:09:39.968529Z",
     "shell.execute_reply": "2022-05-25T13:09:39.967647Z"
    },
    "papermill": {
     "duration": 0.055543,
     "end_time": "2022-05-25T13:09:39.971234",
     "exception": false,
     "start_time": "2022-05-25T13:09:39.915691",
     "status": "completed"
    },
    "tags": []
   },
   "outputs": [
    {
     "data": {
      "text/plain": [
       "(20800, 5)"
      ]
     },
     "execution_count": 10,
     "metadata": {},
     "output_type": "execute_result"
    }
   ],
   "source": [
    "train.shape"
   ]
  },
  {
   "cell_type": "code",
   "execution_count": 11,
   "id": "c57eef69",
   "metadata": {
    "execution": {
     "iopub.execute_input": "2022-05-25T13:09:40.080708Z",
     "iopub.status.busy": "2022-05-25T13:09:40.080274Z",
     "iopub.status.idle": "2022-05-25T13:09:40.097648Z",
     "shell.execute_reply": "2022-05-25T13:09:40.096788Z"
    },
    "papermill": {
     "duration": 0.081519,
     "end_time": "2022-05-25T13:09:40.099882",
     "exception": false,
     "start_time": "2022-05-25T13:09:40.018363",
     "status": "completed"
    },
    "tags": []
   },
   "outputs": [
    {
     "data": {
      "text/plain": [
       "4202"
      ]
     },
     "execution_count": 11,
     "metadata": {},
     "output_type": "execute_result"
    }
   ],
   "source": [
    "train.author.nunique()"
   ]
  },
  {
   "cell_type": "code",
   "execution_count": 12,
   "id": "770c2299",
   "metadata": {
    "execution": {
     "iopub.execute_input": "2022-05-25T13:09:40.193716Z",
     "iopub.status.busy": "2022-05-25T13:09:40.193272Z",
     "iopub.status.idle": "2022-05-25T13:09:40.207725Z",
     "shell.execute_reply": "2022-05-25T13:09:40.206874Z"
    },
    "papermill": {
     "duration": 0.0639,
     "end_time": "2022-05-25T13:09:40.209926",
     "exception": false,
     "start_time": "2022-05-25T13:09:40.146026",
     "status": "completed"
    },
    "tags": []
   },
   "outputs": [
    {
     "data": {
      "text/plain": [
       "           1957\n",
       "Pam Key     243\n",
       "admin       193\n",
       "Name: author, dtype: int64"
      ]
     },
     "execution_count": 12,
     "metadata": {},
     "output_type": "execute_result"
    }
   ],
   "source": [
    "train.author.value_counts()[:3]"
   ]
  },
  {
   "cell_type": "code",
   "execution_count": 13,
   "id": "7b9dccd1",
   "metadata": {},
   "outputs": [
    {
     "name": "stderr",
     "output_type": "stream",
     "text": [
      "[nltk_data] Downloading package stopwords to\n",
      "[nltk_data]     C:\\Users\\LAKSHYA\\AppData\\Roaming\\nltk_data...\n",
      "[nltk_data]   Package stopwords is already up-to-date!\n"
     ]
    },
    {
     "data": {
      "text/plain": [
       "True"
      ]
     },
     "execution_count": 13,
     "metadata": {},
     "output_type": "execute_result"
    }
   ],
   "source": [
    "import nltk\n",
    "nltk.download('stopwords')"
   ]
  },
  {
   "cell_type": "code",
   "execution_count": 14,
   "id": "a534715f",
   "metadata": {
    "execution": {
     "iopub.execute_input": "2022-05-25T13:09:40.304508Z",
     "iopub.status.busy": "2022-05-25T13:09:40.304198Z",
     "iopub.status.idle": "2022-05-25T13:09:41.187900Z",
     "shell.execute_reply": "2022-05-25T13:09:41.186918Z"
    },
    "papermill": {
     "duration": 0.933822,
     "end_time": "2022-05-25T13:09:41.190421",
     "exception": false,
     "start_time": "2022-05-25T13:09:40.256599",
     "status": "completed"
    },
    "tags": []
   },
   "outputs": [],
   "source": [
    "import string\n",
    "import re\n",
    "from nltk.corpus import stopwords\n",
    "stop_word = stopwords.words('english')\n",
    "def cleaning_data(x):\n",
    "    #lower the value\n",
    "    x =x.lower()\n",
    "    #converting in ascii value\n",
    "    x = x.encode('ascii' , 'ignore').decode()\n",
    "    #removing all the stopword\n",
    "    x = ' '.join([word for word in x.split(' ') if word not in stop_word])\n",
    "    #remove mentions\n",
    "    x = re.sub('@\\S+' , ' ' , x)\n",
    "    #remove url\n",
    "    x = re.sub('https*\\S+' , ' ' , x)\n",
    "    #remove hastag\n",
    "    x= re.sub('#\\S+' , ' ' , x)\n",
    "    #remove ticks and next character\n",
    "    x = re.sub(\"\\'\\w+\" , ' ' , x)\n",
    "    #remove punctuations\n",
    "    x = re.sub('[%s]' % re.escape(string.punctuation) , ' ' , x)\n",
    "    #remove number\n",
    "    x = re.sub(r'\\w+\\d+\\w*' ,'  ' , x)\n",
    "    #remove the over spaces\n",
    "    x = re.sub('\\s{2,}' , '' , x)\n",
    "    return x\n",
    "    "
   ]
  },
  {
   "cell_type": "code",
   "execution_count": 15,
   "id": "271a3abb",
   "metadata": {
    "execution": {
     "iopub.execute_input": "2022-05-25T13:09:41.283662Z",
     "iopub.status.busy": "2022-05-25T13:09:41.283345Z",
     "iopub.status.idle": "2022-05-25T13:10:11.284432Z",
     "shell.execute_reply": "2022-05-25T13:10:11.283233Z"
    },
    "papermill": {
     "duration": 30.049165,
     "end_time": "2022-05-25T13:10:11.287014",
     "exception": false,
     "start_time": "2022-05-25T13:09:41.237849",
     "status": "completed"
    },
    "tags": []
   },
   "outputs": [],
   "source": [
    "train.title = train.title.apply(cleaning_data)\n",
    "train.author = train.author.apply(cleaning_data)\n",
    "train.text =  train.text.apply(cleaning_data)"
   ]
  },
  {
   "cell_type": "code",
   "execution_count": 16,
   "id": "98801214",
   "metadata": {
    "execution": {
     "iopub.execute_input": "2022-05-25T13:10:11.381305Z",
     "iopub.status.busy": "2022-05-25T13:10:11.381011Z",
     "iopub.status.idle": "2022-05-25T13:10:11.392644Z",
     "shell.execute_reply": "2022-05-25T13:10:11.391671Z"
    },
    "papermill": {
     "duration": 0.06105,
     "end_time": "2022-05-25T13:10:11.394916",
     "exception": false,
     "start_time": "2022-05-25T13:10:11.333866",
     "status": "completed"
    },
    "tags": []
   },
   "outputs": [
    {
     "data": {
      "text/html": [
       "<div>\n",
       "<style scoped>\n",
       "    .dataframe tbody tr th:only-of-type {\n",
       "        vertical-align: middle;\n",
       "    }\n",
       "\n",
       "    .dataframe tbody tr th {\n",
       "        vertical-align: top;\n",
       "    }\n",
       "\n",
       "    .dataframe thead th {\n",
       "        text-align: right;\n",
       "    }\n",
       "</style>\n",
       "<table border=\"1\" class=\"dataframe\">\n",
       "  <thead>\n",
       "    <tr style=\"text-align: right;\">\n",
       "      <th></th>\n",
       "      <th>id</th>\n",
       "      <th>title</th>\n",
       "      <th>author</th>\n",
       "      <th>text</th>\n",
       "      <th>label</th>\n",
       "    </tr>\n",
       "  </thead>\n",
       "  <tbody>\n",
       "    <tr>\n",
       "      <th>0</th>\n",
       "      <td>0</td>\n",
       "      <td>house dem aidedidnt even see comeys letter jas...</td>\n",
       "      <td>darrell lucus</td>\n",
       "      <td>house dem aidedidnt even see comeys letter jas...</td>\n",
       "      <td>1</td>\n",
       "    </tr>\n",
       "    <tr>\n",
       "      <th>1</th>\n",
       "      <td>1</td>\n",
       "      <td>flynnhillary clintonbig woman campusbreitbart</td>\n",
       "      <td>daniel jflynn</td>\n",
       "      <td>ever get feeling life circles roundabout rathe...</td>\n",
       "      <td>0</td>\n",
       "    </tr>\n",
       "    <tr>\n",
       "      <th>2</th>\n",
       "      <td>2</td>\n",
       "      <td>truth might get fired</td>\n",
       "      <td>consortiumnews com</td>\n",
       "      <td>truth might get fired octoberthe tension intel...</td>\n",
       "      <td>1</td>\n",
       "    </tr>\n",
       "    <tr>\n",
       "      <th>3</th>\n",
       "      <td>3</td>\n",
       "      <td>civilians killed single us airstrike identified</td>\n",
       "      <td>jessica purkiss</td>\n",
       "      <td>videoscivilians killed single us airstrike ide...</td>\n",
       "      <td>1</td>\n",
       "    </tr>\n",
       "    <tr>\n",
       "      <th>4</th>\n",
       "      <td>4</td>\n",
       "      <td>iranian woman jailed fictional unpublished sto...</td>\n",
       "      <td>howard portnoy</td>\n",
       "      <td>printan iranian woman sentenced six years pris...</td>\n",
       "      <td>1</td>\n",
       "    </tr>\n",
       "  </tbody>\n",
       "</table>\n",
       "</div>"
      ],
      "text/plain": [
       "   id                                              title              author  \\\n",
       "0   0  house dem aidedidnt even see comeys letter jas...       darrell lucus   \n",
       "1   1      flynnhillary clintonbig woman campusbreitbart       daniel jflynn   \n",
       "2   2                              truth might get fired  consortiumnews com   \n",
       "3   3    civilians killed single us airstrike identified     jessica purkiss   \n",
       "4   4  iranian woman jailed fictional unpublished sto...      howard portnoy   \n",
       "\n",
       "                                                text  label  \n",
       "0  house dem aidedidnt even see comeys letter jas...      1  \n",
       "1  ever get feeling life circles roundabout rathe...      0  \n",
       "2  truth might get fired octoberthe tension intel...      1  \n",
       "3  videoscivilians killed single us airstrike ide...      1  \n",
       "4  printan iranian woman sentenced six years pris...      1  "
      ]
     },
     "execution_count": 16,
     "metadata": {},
     "output_type": "execute_result"
    }
   ],
   "source": [
    "train.head()"
   ]
  },
  {
   "cell_type": "code",
   "execution_count": 17,
   "id": "cb7c3106",
   "metadata": {
    "execution": {
     "iopub.execute_input": "2022-05-25T13:10:11.487668Z",
     "iopub.status.busy": "2022-05-25T13:10:11.487336Z",
     "iopub.status.idle": "2022-05-25T13:10:11.492682Z",
     "shell.execute_reply": "2022-05-25T13:10:11.491656Z"
    },
    "papermill": {
     "duration": 0.053901,
     "end_time": "2022-05-25T13:10:11.494840",
     "exception": false,
     "start_time": "2022-05-25T13:10:11.440939",
     "status": "completed"
    },
    "tags": []
   },
   "outputs": [],
   "source": [
    "from nltk.stem.porter import PorterStemmer\n",
    "port = PorterStemmer()\n",
    "def lemetazation(x):\n",
    "    x = ' '.join([port.stem(word) for word in x.split(' ')])\n",
    "    return x\n",
    "\n",
    "    "
   ]
  },
  {
   "cell_type": "code",
   "execution_count": 18,
   "id": "9abbbaa8",
   "metadata": {
    "execution": {
     "iopub.execute_input": "2022-05-25T13:10:11.587525Z",
     "iopub.status.busy": "2022-05-25T13:10:11.586846Z",
     "iopub.status.idle": "2022-05-25T13:15:00.568999Z",
     "shell.execute_reply": "2022-05-25T13:15:00.568050Z"
    },
    "papermill": {
     "duration": 289.031516,
     "end_time": "2022-05-25T13:15:00.572004",
     "exception": false,
     "start_time": "2022-05-25T13:10:11.540488",
     "status": "completed"
    },
    "tags": []
   },
   "outputs": [],
   "source": [
    "train.text =  train.text.apply(lemetazation)\n",
    "train.title =  train.title.apply(lemetazation)"
   ]
  },
  {
   "cell_type": "code",
   "execution_count": 19,
   "id": "34b4e25a",
   "metadata": {
    "execution": {
     "iopub.execute_input": "2022-05-25T13:15:00.667347Z",
     "iopub.status.busy": "2022-05-25T13:15:00.667043Z",
     "iopub.status.idle": "2022-05-25T13:15:00.678711Z",
     "shell.execute_reply": "2022-05-25T13:15:00.677856Z"
    },
    "papermill": {
     "duration": 0.06298,
     "end_time": "2022-05-25T13:15:00.680920",
     "exception": false,
     "start_time": "2022-05-25T13:15:00.617940",
     "status": "completed"
    },
    "tags": []
   },
   "outputs": [
    {
     "data": {
      "text/html": [
       "<div>\n",
       "<style scoped>\n",
       "    .dataframe tbody tr th:only-of-type {\n",
       "        vertical-align: middle;\n",
       "    }\n",
       "\n",
       "    .dataframe tbody tr th {\n",
       "        vertical-align: top;\n",
       "    }\n",
       "\n",
       "    .dataframe thead th {\n",
       "        text-align: right;\n",
       "    }\n",
       "</style>\n",
       "<table border=\"1\" class=\"dataframe\">\n",
       "  <thead>\n",
       "    <tr style=\"text-align: right;\">\n",
       "      <th></th>\n",
       "      <th>id</th>\n",
       "      <th>title</th>\n",
       "      <th>author</th>\n",
       "      <th>text</th>\n",
       "      <th>label</th>\n",
       "    </tr>\n",
       "  </thead>\n",
       "  <tbody>\n",
       "    <tr>\n",
       "      <th>0</th>\n",
       "      <td>0</td>\n",
       "      <td>hous dem aidedidnt even see comey letter jason...</td>\n",
       "      <td>darrell lucus</td>\n",
       "      <td>hous dem aidedidnt even see comey letter jason...</td>\n",
       "      <td>1</td>\n",
       "    </tr>\n",
       "    <tr>\n",
       "      <th>1</th>\n",
       "      <td>1</td>\n",
       "      <td>flynnhillari clintonbig woman campusbreitbart</td>\n",
       "      <td>daniel jflynn</td>\n",
       "      <td>ever get feel life circl roundabout rather hea...</td>\n",
       "      <td>0</td>\n",
       "    </tr>\n",
       "    <tr>\n",
       "      <th>2</th>\n",
       "      <td>2</td>\n",
       "      <td>truth might get fire</td>\n",
       "      <td>consortiumnews com</td>\n",
       "      <td>truth might get fire octoberth tension intelli...</td>\n",
       "      <td>1</td>\n",
       "    </tr>\n",
       "    <tr>\n",
       "      <th>3</th>\n",
       "      <td>3</td>\n",
       "      <td>civilian kill singl us airstrik identifi</td>\n",
       "      <td>jessica purkiss</td>\n",
       "      <td>videoscivilian kill singl us airstrik identifi...</td>\n",
       "      <td>1</td>\n",
       "    </tr>\n",
       "    <tr>\n",
       "      <th>4</th>\n",
       "      <td>4</td>\n",
       "      <td>iranian woman jail fiction unpublish stori wom...</td>\n",
       "      <td>howard portnoy</td>\n",
       "      <td>printan iranian woman sentenc six year prison ...</td>\n",
       "      <td>1</td>\n",
       "    </tr>\n",
       "  </tbody>\n",
       "</table>\n",
       "</div>"
      ],
      "text/plain": [
       "   id                                              title              author  \\\n",
       "0   0  hous dem aidedidnt even see comey letter jason...       darrell lucus   \n",
       "1   1      flynnhillari clintonbig woman campusbreitbart       daniel jflynn   \n",
       "2   2                               truth might get fire  consortiumnews com   \n",
       "3   3           civilian kill singl us airstrik identifi     jessica purkiss   \n",
       "4   4  iranian woman jail fiction unpublish stori wom...      howard portnoy   \n",
       "\n",
       "                                                text  label  \n",
       "0  hous dem aidedidnt even see comey letter jason...      1  \n",
       "1  ever get feel life circl roundabout rather hea...      0  \n",
       "2  truth might get fire octoberth tension intelli...      1  \n",
       "3  videoscivilian kill singl us airstrik identifi...      1  \n",
       "4  printan iranian woman sentenc six year prison ...      1  "
      ]
     },
     "execution_count": 19,
     "metadata": {},
     "output_type": "execute_result"
    }
   ],
   "source": [
    "train.head()"
   ]
  },
  {
   "cell_type": "code",
   "execution_count": 20,
   "id": "2888321a",
   "metadata": {
    "execution": {
     "iopub.execute_input": "2022-05-25T13:15:00.775677Z",
     "iopub.status.busy": "2022-05-25T13:15:00.775387Z",
     "iopub.status.idle": "2022-05-25T13:15:00.790211Z",
     "shell.execute_reply": "2022-05-25T13:15:00.789269Z"
    },
    "papermill": {
     "duration": 0.064356,
     "end_time": "2022-05-25T13:15:00.792375",
     "exception": false,
     "start_time": "2022-05-25T13:15:00.728019",
     "status": "completed"
    },
    "tags": []
   },
   "outputs": [],
   "source": [
    "train['content'] = train.title + ' '+train.author"
   ]
  },
  {
   "cell_type": "code",
   "execution_count": 21,
   "id": "3ff4fcc9",
   "metadata": {
    "execution": {
     "iopub.execute_input": "2022-05-25T13:15:00.887292Z",
     "iopub.status.busy": "2022-05-25T13:15:00.886676Z",
     "iopub.status.idle": "2022-05-25T13:15:00.903650Z",
     "shell.execute_reply": "2022-05-25T13:15:00.902878Z"
    },
    "papermill": {
     "duration": 0.066474,
     "end_time": "2022-05-25T13:15:00.906013",
     "exception": false,
     "start_time": "2022-05-25T13:15:00.839539",
     "status": "completed"
    },
    "tags": []
   },
   "outputs": [],
   "source": [
    "train.drop(['title' , 'author'] , axis = 1 , inplace = True)"
   ]
  },
  {
   "cell_type": "code",
   "execution_count": 22,
   "id": "336fea07",
   "metadata": {
    "execution": {
     "iopub.execute_input": "2022-05-25T13:15:00.998750Z",
     "iopub.status.busy": "2022-05-25T13:15:00.998157Z",
     "iopub.status.idle": "2022-05-25T13:15:01.009857Z",
     "shell.execute_reply": "2022-05-25T13:15:01.008871Z"
    },
    "papermill": {
     "duration": 0.060911,
     "end_time": "2022-05-25T13:15:01.012315",
     "exception": false,
     "start_time": "2022-05-25T13:15:00.951404",
     "status": "completed"
    },
    "tags": []
   },
   "outputs": [
    {
     "data": {
      "text/html": [
       "<div>\n",
       "<style scoped>\n",
       "    .dataframe tbody tr th:only-of-type {\n",
       "        vertical-align: middle;\n",
       "    }\n",
       "\n",
       "    .dataframe tbody tr th {\n",
       "        vertical-align: top;\n",
       "    }\n",
       "\n",
       "    .dataframe thead th {\n",
       "        text-align: right;\n",
       "    }\n",
       "</style>\n",
       "<table border=\"1\" class=\"dataframe\">\n",
       "  <thead>\n",
       "    <tr style=\"text-align: right;\">\n",
       "      <th></th>\n",
       "      <th>id</th>\n",
       "      <th>text</th>\n",
       "      <th>label</th>\n",
       "      <th>content</th>\n",
       "    </tr>\n",
       "  </thead>\n",
       "  <tbody>\n",
       "    <tr>\n",
       "      <th>0</th>\n",
       "      <td>0</td>\n",
       "      <td>hous dem aidedidnt even see comey letter jason...</td>\n",
       "      <td>1</td>\n",
       "      <td>hous dem aidedidnt even see comey letter jason...</td>\n",
       "    </tr>\n",
       "    <tr>\n",
       "      <th>1</th>\n",
       "      <td>1</td>\n",
       "      <td>ever get feel life circl roundabout rather hea...</td>\n",
       "      <td>0</td>\n",
       "      <td>flynnhillari clintonbig woman campusbreitbart ...</td>\n",
       "    </tr>\n",
       "    <tr>\n",
       "      <th>2</th>\n",
       "      <td>2</td>\n",
       "      <td>truth might get fire octoberth tension intelli...</td>\n",
       "      <td>1</td>\n",
       "      <td>truth might get fire consortiumnews com</td>\n",
       "    </tr>\n",
       "    <tr>\n",
       "      <th>3</th>\n",
       "      <td>3</td>\n",
       "      <td>videoscivilian kill singl us airstrik identifi...</td>\n",
       "      <td>1</td>\n",
       "      <td>civilian kill singl us airstrik identifi jessi...</td>\n",
       "    </tr>\n",
       "    <tr>\n",
       "      <th>4</th>\n",
       "      <td>4</td>\n",
       "      <td>printan iranian woman sentenc six year prison ...</td>\n",
       "      <td>1</td>\n",
       "      <td>iranian woman jail fiction unpublish stori wom...</td>\n",
       "    </tr>\n",
       "  </tbody>\n",
       "</table>\n",
       "</div>"
      ],
      "text/plain": [
       "   id                                               text  label  \\\n",
       "0   0  hous dem aidedidnt even see comey letter jason...      1   \n",
       "1   1  ever get feel life circl roundabout rather hea...      0   \n",
       "2   2  truth might get fire octoberth tension intelli...      1   \n",
       "3   3  videoscivilian kill singl us airstrik identifi...      1   \n",
       "4   4  printan iranian woman sentenc six year prison ...      1   \n",
       "\n",
       "                                             content  \n",
       "0  hous dem aidedidnt even see comey letter jason...  \n",
       "1  flynnhillari clintonbig woman campusbreitbart ...  \n",
       "2            truth might get fire consortiumnews com  \n",
       "3  civilian kill singl us airstrik identifi jessi...  \n",
       "4  iranian woman jail fiction unpublish stori wom...  "
      ]
     },
     "execution_count": 22,
     "metadata": {},
     "output_type": "execute_result"
    }
   ],
   "source": [
    "train.head()"
   ]
  },
  {
   "cell_type": "code",
   "execution_count": 23,
   "id": "91273020",
   "metadata": {
    "execution": {
     "iopub.execute_input": "2022-05-25T13:15:01.108872Z",
     "iopub.status.busy": "2022-05-25T13:15:01.108586Z",
     "iopub.status.idle": "2022-05-25T13:15:08.678793Z",
     "shell.execute_reply": "2022-05-25T13:15:08.677856Z"
    },
    "papermill": {
     "duration": 7.621617,
     "end_time": "2022-05-25T13:15:08.681631",
     "exception": false,
     "start_time": "2022-05-25T13:15:01.060014",
     "status": "completed"
    },
    "tags": []
   },
   "outputs": [],
   "source": [
    "test.title = test.title.apply(cleaning_data)\n",
    "test.author = test.author.apply(cleaning_data)\n",
    "test.text =  test.text.apply(cleaning_data)"
   ]
  },
  {
   "cell_type": "code",
   "execution_count": 24,
   "id": "0a4e7aeb",
   "metadata": {
    "execution": {
     "iopub.execute_input": "2022-05-25T13:15:08.776981Z",
     "iopub.status.busy": "2022-05-25T13:15:08.776702Z",
     "iopub.status.idle": "2022-05-25T13:15:08.789250Z",
     "shell.execute_reply": "2022-05-25T13:15:08.788228Z"
    },
    "papermill": {
     "duration": 0.062171,
     "end_time": "2022-05-25T13:15:08.791241",
     "exception": false,
     "start_time": "2022-05-25T13:15:08.729070",
     "status": "completed"
    },
    "tags": []
   },
   "outputs": [
    {
     "data": {
      "text/html": [
       "<div>\n",
       "<style scoped>\n",
       "    .dataframe tbody tr th:only-of-type {\n",
       "        vertical-align: middle;\n",
       "    }\n",
       "\n",
       "    .dataframe tbody tr th {\n",
       "        vertical-align: top;\n",
       "    }\n",
       "\n",
       "    .dataframe thead th {\n",
       "        text-align: right;\n",
       "    }\n",
       "</style>\n",
       "<table border=\"1\" class=\"dataframe\">\n",
       "  <thead>\n",
       "    <tr style=\"text-align: right;\">\n",
       "      <th></th>\n",
       "      <th>id</th>\n",
       "      <th>title</th>\n",
       "      <th>author</th>\n",
       "      <th>text</th>\n",
       "    </tr>\n",
       "  </thead>\n",
       "  <tbody>\n",
       "    <tr>\n",
       "      <th>0</th>\n",
       "      <td>20800</td>\n",
       "      <td>specter trump loosens tonguespurse stringssili...</td>\n",
       "      <td>david streitfeld</td>\n",
       "      <td>palo altocalifyears scorning political process...</td>\n",
       "    </tr>\n",
       "    <tr>\n",
       "      <th>1</th>\n",
       "      <td>20801</td>\n",
       "      <td>russian warships ready strike terrorists near ...</td>\n",
       "      <td></td>\n",
       "      <td>russian warships ready strike terrorists near ...</td>\n",
       "    </tr>\n",
       "    <tr>\n",
       "      <th>2</th>\n",
       "      <td>20802</td>\n",
       "      <td>native american leaders vow stay winterfile la...</td>\n",
       "      <td>common dreams</td>\n",
       "      <td>videosnative american leaders vow stay winterf...</td>\n",
       "    </tr>\n",
       "    <tr>\n",
       "      <th>3</th>\n",
       "      <td>20803</td>\n",
       "      <td>tim tebow attempt another comebacktime basebal...</td>\n",
       "      <td>daniel victor</td>\n",
       "      <td>first dont succeedtry different sporttim tebow...</td>\n",
       "    </tr>\n",
       "    <tr>\n",
       "      <th>4</th>\n",
       "      <td>20804</td>\n",
       "      <td>keiser reportmeme wars</td>\n",
       "      <td>truth broadcast network</td>\n",
       "      <td>mins ago 1 views 0 comments 0 likesfirst time ...</td>\n",
       "    </tr>\n",
       "  </tbody>\n",
       "</table>\n",
       "</div>"
      ],
      "text/plain": [
       "      id                                              title  \\\n",
       "0  20800  specter trump loosens tonguespurse stringssili...   \n",
       "1  20801  russian warships ready strike terrorists near ...   \n",
       "2  20802  native american leaders vow stay winterfile la...   \n",
       "3  20803  tim tebow attempt another comebacktime basebal...   \n",
       "4  20804                             keiser reportmeme wars   \n",
       "\n",
       "                    author                                               text  \n",
       "0         david streitfeld  palo altocalifyears scorning political process...  \n",
       "1                           russian warships ready strike terrorists near ...  \n",
       "2            common dreams  videosnative american leaders vow stay winterf...  \n",
       "3            daniel victor  first dont succeedtry different sporttim tebow...  \n",
       "4  truth broadcast network  mins ago 1 views 0 comments 0 likesfirst time ...  "
      ]
     },
     "execution_count": 24,
     "metadata": {},
     "output_type": "execute_result"
    }
   ],
   "source": [
    "test.head()"
   ]
  },
  {
   "cell_type": "code",
   "execution_count": 25,
   "id": "e3074136",
   "metadata": {
    "execution": {
     "iopub.execute_input": "2022-05-25T13:15:08.887834Z",
     "iopub.status.busy": "2022-05-25T13:15:08.887562Z",
     "iopub.status.idle": "2022-05-25T13:16:22.273295Z",
     "shell.execute_reply": "2022-05-25T13:16:22.272192Z"
    },
    "papermill": {
     "duration": 73.437115,
     "end_time": "2022-05-25T13:16:22.276188",
     "exception": false,
     "start_time": "2022-05-25T13:15:08.839073",
     "status": "completed"
    },
    "tags": []
   },
   "outputs": [],
   "source": [
    "test.text =  test.text.apply(lemetazation)\n",
    "test.title =  test.title.apply(lemetazation)"
   ]
  },
  {
   "cell_type": "code",
   "execution_count": 26,
   "id": "0ac10b27",
   "metadata": {
    "execution": {
     "iopub.execute_input": "2022-05-25T13:16:22.375900Z",
     "iopub.status.busy": "2022-05-25T13:16:22.375123Z",
     "iopub.status.idle": "2022-05-25T13:16:22.382497Z",
     "shell.execute_reply": "2022-05-25T13:16:22.381701Z"
    },
    "papermill": {
     "duration": 0.060902,
     "end_time": "2022-05-25T13:16:22.384659",
     "exception": false,
     "start_time": "2022-05-25T13:16:22.323757",
     "status": "completed"
    },
    "tags": []
   },
   "outputs": [],
   "source": [
    "test['content'] = test.title + ' ' + test.author"
   ]
  },
  {
   "cell_type": "code",
   "execution_count": 27,
   "id": "caa5561b",
   "metadata": {
    "execution": {
     "iopub.execute_input": "2022-05-25T13:16:22.479946Z",
     "iopub.status.busy": "2022-05-25T13:16:22.479380Z",
     "iopub.status.idle": "2022-05-25T13:16:22.490948Z",
     "shell.execute_reply": "2022-05-25T13:16:22.490019Z"
    },
    "papermill": {
     "duration": 0.06229,
     "end_time": "2022-05-25T13:16:22.493297",
     "exception": false,
     "start_time": "2022-05-25T13:16:22.431007",
     "status": "completed"
    },
    "tags": []
   },
   "outputs": [
    {
     "data": {
      "text/html": [
       "<div>\n",
       "<style scoped>\n",
       "    .dataframe tbody tr th:only-of-type {\n",
       "        vertical-align: middle;\n",
       "    }\n",
       "\n",
       "    .dataframe tbody tr th {\n",
       "        vertical-align: top;\n",
       "    }\n",
       "\n",
       "    .dataframe thead th {\n",
       "        text-align: right;\n",
       "    }\n",
       "</style>\n",
       "<table border=\"1\" class=\"dataframe\">\n",
       "  <thead>\n",
       "    <tr style=\"text-align: right;\">\n",
       "      <th></th>\n",
       "      <th>id</th>\n",
       "      <th>title</th>\n",
       "      <th>author</th>\n",
       "      <th>text</th>\n",
       "      <th>content</th>\n",
       "    </tr>\n",
       "  </thead>\n",
       "  <tbody>\n",
       "    <tr>\n",
       "      <th>0</th>\n",
       "      <td>20800</td>\n",
       "      <td>specter trump loosen tonguespurs stringssilico...</td>\n",
       "      <td>david streitfeld</td>\n",
       "      <td>palo altocalifyear scorn polit processsilicon ...</td>\n",
       "      <td>specter trump loosen tonguespurs stringssilico...</td>\n",
       "    </tr>\n",
       "    <tr>\n",
       "      <th>1</th>\n",
       "      <td>20801</td>\n",
       "      <td>russian warship readi strike terrorist near al...</td>\n",
       "      <td></td>\n",
       "      <td>russian warship readi strike terrorist near al...</td>\n",
       "      <td>russian warship readi strike terrorist near al...</td>\n",
       "    </tr>\n",
       "    <tr>\n",
       "      <th>2</th>\n",
       "      <td>20802</td>\n",
       "      <td>nativ american leader vow stay winterfil lawsu...</td>\n",
       "      <td>common dreams</td>\n",
       "      <td>videosn american leader vow stay winterfil law...</td>\n",
       "      <td>nativ american leader vow stay winterfil lawsu...</td>\n",
       "    </tr>\n",
       "    <tr>\n",
       "      <th>3</th>\n",
       "      <td>20803</td>\n",
       "      <td>tim tebow attempt anoth comebacktim baseballne...</td>\n",
       "      <td>daniel victor</td>\n",
       "      <td>first dont succeedtri differ sporttim tebowhei...</td>\n",
       "      <td>tim tebow attempt anoth comebacktim baseballne...</td>\n",
       "    </tr>\n",
       "    <tr>\n",
       "      <th>4</th>\n",
       "      <td>20804</td>\n",
       "      <td>keiser reportmem war</td>\n",
       "      <td>truth broadcast network</td>\n",
       "      <td>min ago 1 view 0 comment 0 likesfirst time his...</td>\n",
       "      <td>keiser reportmem war truth broadcast network</td>\n",
       "    </tr>\n",
       "  </tbody>\n",
       "</table>\n",
       "</div>"
      ],
      "text/plain": [
       "      id                                              title  \\\n",
       "0  20800  specter trump loosen tonguespurs stringssilico...   \n",
       "1  20801  russian warship readi strike terrorist near al...   \n",
       "2  20802  nativ american leader vow stay winterfil lawsu...   \n",
       "3  20803  tim tebow attempt anoth comebacktim baseballne...   \n",
       "4  20804                               keiser reportmem war   \n",
       "\n",
       "                    author                                               text  \\\n",
       "0         david streitfeld  palo altocalifyear scorn polit processsilicon ...   \n",
       "1                           russian warship readi strike terrorist near al...   \n",
       "2            common dreams  videosn american leader vow stay winterfil law...   \n",
       "3            daniel victor  first dont succeedtri differ sporttim tebowhei...   \n",
       "4  truth broadcast network  min ago 1 view 0 comment 0 likesfirst time his...   \n",
       "\n",
       "                                             content  \n",
       "0  specter trump loosen tonguespurs stringssilico...  \n",
       "1  russian warship readi strike terrorist near al...  \n",
       "2  nativ american leader vow stay winterfil lawsu...  \n",
       "3  tim tebow attempt anoth comebacktim baseballne...  \n",
       "4       keiser reportmem war truth broadcast network  "
      ]
     },
     "execution_count": 27,
     "metadata": {},
     "output_type": "execute_result"
    }
   ],
   "source": [
    "test.head()"
   ]
  },
  {
   "cell_type": "code",
   "execution_count": 28,
   "id": "ede2786a",
   "metadata": {
    "execution": {
     "iopub.execute_input": "2022-05-25T13:16:22.589856Z",
     "iopub.status.busy": "2022-05-25T13:16:22.589207Z",
     "iopub.status.idle": "2022-05-25T13:16:22.595858Z",
     "shell.execute_reply": "2022-05-25T13:16:22.595215Z"
    },
    "papermill": {
     "duration": 0.057233,
     "end_time": "2022-05-25T13:16:22.598010",
     "exception": false,
     "start_time": "2022-05-25T13:16:22.540777",
     "status": "completed"
    },
    "tags": []
   },
   "outputs": [],
   "source": [
    "test.drop(['title' , 'author'] , axis =1 ,inplace = True)"
   ]
  },
  {
   "cell_type": "code",
   "execution_count": 29,
   "id": "e72a9920",
   "metadata": {
    "execution": {
     "iopub.execute_input": "2022-05-25T13:16:22.698320Z",
     "iopub.status.busy": "2022-05-25T13:16:22.697819Z",
     "iopub.status.idle": "2022-05-25T13:16:22.705069Z",
     "shell.execute_reply": "2022-05-25T13:16:22.704301Z"
    },
    "papermill": {
     "duration": 0.059758,
     "end_time": "2022-05-25T13:16:22.707313",
     "exception": false,
     "start_time": "2022-05-25T13:16:22.647555",
     "status": "completed"
    },
    "tags": []
   },
   "outputs": [],
   "source": [
    "y = train.label\n",
    "train.drop(['label'] , axis =1 , inplace =True)"
   ]
  },
  {
   "cell_type": "code",
   "execution_count": 30,
   "id": "417ee6b6",
   "metadata": {
    "execution": {
     "iopub.execute_input": "2022-05-25T13:16:22.806405Z",
     "iopub.status.busy": "2022-05-25T13:16:22.805935Z",
     "iopub.status.idle": "2022-05-25T13:16:22.810759Z",
     "shell.execute_reply": "2022-05-25T13:16:22.810070Z"
    },
    "papermill": {
     "duration": 0.056074,
     "end_time": "2022-05-25T13:16:22.812866",
     "exception": false,
     "start_time": "2022-05-25T13:16:22.756792",
     "status": "completed"
    },
    "tags": []
   },
   "outputs": [],
   "source": [
    "X = train.content.values\n",
    "y = y.values"
   ]
  },
  {
   "cell_type": "code",
   "execution_count": 31,
   "id": "32b54da1",
   "metadata": {
    "execution": {
     "iopub.execute_input": "2022-05-25T13:16:22.912216Z",
     "iopub.status.busy": "2022-05-25T13:16:22.911663Z",
     "iopub.status.idle": "2022-05-25T13:16:23.711255Z",
     "shell.execute_reply": "2022-05-25T13:16:23.710409Z"
    },
    "papermill": {
     "duration": 0.853555,
     "end_time": "2022-05-25T13:16:23.713816",
     "exception": false,
     "start_time": "2022-05-25T13:16:22.860261",
     "status": "completed"
    },
    "tags": []
   },
   "outputs": [],
   "source": [
    "from sklearn.feature_extraction.text import TfidfVectorizer\n",
    "vectorizer = TfidfVectorizer()\n",
    "vectorizer.fit(X)\n",
    "X = vectorizer.transform(X)"
   ]
  },
  {
   "cell_type": "code",
   "execution_count": 32,
   "id": "9b435493",
   "metadata": {
    "execution": {
     "iopub.execute_input": "2022-05-25T13:16:23.813242Z",
     "iopub.status.busy": "2022-05-25T13:16:23.812925Z",
     "iopub.status.idle": "2022-05-25T13:16:23.821744Z",
     "shell.execute_reply": "2022-05-25T13:16:23.820634Z"
    },
    "papermill": {
     "duration": 0.061523,
     "end_time": "2022-05-25T13:16:23.824304",
     "exception": false,
     "start_time": "2022-05-25T13:16:23.762781",
     "status": "completed"
    },
    "tags": []
   },
   "outputs": [
    {
     "name": "stdout",
     "output_type": "stream",
     "text": [
      "  (0, 32269)\t0.2868947773934823\n",
      "  (0, 27343)\t0.24515190364021097\n",
      "  (0, 18003)\t0.3355809588504751\n",
      "  (0, 17314)\t0.2753391577424527\n",
      "  (0, 15635)\t0.2301919364890898\n",
      "  (0, 14279)\t0.21152069786719252\n",
      "  (0, 10213)\t0.22128236920546668\n",
      "  (0, 7975)\t0.2617962926086126\n",
      "  (0, 7468)\t0.3355809588504751\n",
      "  (0, 6067)\t0.24108556715564933\n",
      "  (0, 4994)\t0.3480875411786823\n",
      "  (0, 794)\t0.40253125737436973\n",
      "  (1, 34584)\t0.3038187130866618\n",
      "  (1, 15771)\t0.3936154569924042\n",
      "  (1, 11464)\t0.5010198596446068\n",
      "  (1, 7422)\t0.26070081628205855\n",
      "  (1, 5663)\t0.5010198596446068\n",
      "  (1, 4480)\t0.42749777364132613\n",
      "  (2, 32133)\t0.4090498675348207\n",
      "  (2, 19231)\t0.47715892929715603\n",
      "  (2, 12326)\t0.3445647151258122\n",
      "  (2, 11191)\t0.3874956433949953\n",
      "  (2, 6418)\t0.4416970964666712\n",
      "  (2, 6041)\t0.37553098470674273\n",
      "  (3, 32784)\t0.2292940953026029\n",
      "  :\t:\n",
      "  (20797, 31060)\t0.0785254707910341\n",
      "  (20797, 30357)\t0.31161263833516045\n",
      "  (20797, 26622)\t0.2441050394678839\n",
      "  (20797, 24758)\t0.26855315262942114\n",
      "  (20797, 24357)\t0.2389440270119339\n",
      "  (20797, 19185)\t0.1682182570919078\n",
      "  (20797, 19065)\t0.28157330209660975\n",
      "  (20797, 18112)\t0.3446591792231273\n",
      "  (20797, 16737)\t0.21467390588471139\n",
      "  (20797, 15661)\t0.28157330209660975\n",
      "  (20797, 14360)\t0.20818025052184347\n",
      "  (20797, 2676)\t0.3550345950592863\n",
      "  (20797, 1598)\t0.3081752230646809\n",
      "  (20797, 282)\t0.292475231849372\n",
      "  (20798, 21983)\t0.43083646507621165\n",
      "  (20798, 20277)\t0.46208579999372057\n",
      "  (20798, 14040)\t0.31607561560539715\n",
      "  (20798, 10409)\t0.39427708687777374\n",
      "  (20798, 2384)\t0.43083646507621165\n",
      "  (20798, 1423)\t0.29411939260874387\n",
      "  (20798, 974)\t0.2708729610716824\n",
      "  (20799, 30127)\t0.5215252923987401\n",
      "  (20799, 16212)\t0.4358015544911121\n",
      "  (20799, 10684)\t0.6418709050941999\n",
      "  (20799, 7512)\t0.35509170038891574\n"
     ]
    }
   ],
   "source": [
    "print(X)"
   ]
  },
  {
   "cell_type": "code",
   "execution_count": 33,
   "id": "42b7d419",
   "metadata": {
    "execution": {
     "iopub.execute_input": "2022-05-25T13:16:23.923588Z",
     "iopub.status.busy": "2022-05-25T13:16:23.923312Z",
     "iopub.status.idle": "2022-05-25T13:16:23.942753Z",
     "shell.execute_reply": "2022-05-25T13:16:23.941975Z"
    },
    "papermill": {
     "duration": 0.072887,
     "end_time": "2022-05-25T13:16:23.945221",
     "exception": false,
     "start_time": "2022-05-25T13:16:23.872334",
     "status": "completed"
    },
    "tags": []
   },
   "outputs": [],
   "source": [
    "from sklearn.model_selection import train_test_split\n",
    "X_train , X_test , y_train, y_test = train_test_split(X , y , stratify = y)"
   ]
  },
  {
   "cell_type": "code",
   "execution_count": 34,
   "id": "318a9171",
   "metadata": {
    "execution": {
     "iopub.execute_input": "2022-05-25T13:16:24.044173Z",
     "iopub.status.busy": "2022-05-25T13:16:24.043238Z",
     "iopub.status.idle": "2022-05-25T13:16:24.047732Z",
     "shell.execute_reply": "2022-05-25T13:16:24.047030Z"
    },
    "papermill": {
     "duration": 0.057087,
     "end_time": "2022-05-25T13:16:24.049861",
     "exception": false,
     "start_time": "2022-05-25T13:16:23.992774",
     "status": "completed"
    },
    "tags": []
   },
   "outputs": [],
   "source": [
    "test_ = test.content.values"
   ]
  },
  {
   "cell_type": "code",
   "execution_count": 35,
   "id": "a8006f96",
   "metadata": {
    "execution": {
     "iopub.execute_input": "2022-05-25T13:16:24.148153Z",
     "iopub.status.busy": "2022-05-25T13:16:24.147651Z",
     "iopub.status.idle": "2022-05-25T13:16:24.245036Z",
     "shell.execute_reply": "2022-05-25T13:16:24.244108Z"
    },
    "papermill": {
     "duration": 0.149459,
     "end_time": "2022-05-25T13:16:24.247542",
     "exception": false,
     "start_time": "2022-05-25T13:16:24.098083",
     "status": "completed"
    },
    "tags": []
   },
   "outputs": [],
   "source": [
    "test_ = vectorizer.transform(test_)"
   ]
  },
  {
   "cell_type": "code",
   "execution_count": 36,
   "id": "3a26a7fc",
   "metadata": {
    "execution": {
     "iopub.execute_input": "2022-05-25T13:16:24.346638Z",
     "iopub.status.busy": "2022-05-25T13:16:24.346278Z",
     "iopub.status.idle": "2022-05-25T13:16:24.994504Z",
     "shell.execute_reply": "2022-05-25T13:16:24.993639Z"
    },
    "papermill": {
     "duration": 0.701729,
     "end_time": "2022-05-25T13:16:24.997541",
     "exception": false,
     "start_time": "2022-05-25T13:16:24.295812",
     "status": "completed"
    },
    "tags": []
   },
   "outputs": [
    {
     "data": {
      "text/plain": [
       "LogisticRegression()"
      ]
     },
     "execution_count": 36,
     "metadata": {},
     "output_type": "execute_result"
    }
   ],
   "source": [
    "from sklearn.linear_model import LogisticRegression\n",
    "model=LogisticRegression()\n",
    "model.fit(X_train,y_train)"
   ]
  },
  {
   "cell_type": "code",
   "execution_count": 65,
   "id": "a9fe716d",
   "metadata": {
    "execution": {
     "iopub.execute_input": "2022-05-25T13:16:25.170968Z",
     "iopub.status.busy": "2022-05-25T13:16:25.170695Z",
     "iopub.status.idle": "2022-05-25T13:16:25.175267Z",
     "shell.execute_reply": "2022-05-25T13:16:25.174367Z"
    },
    "papermill": {
     "duration": 0.055468,
     "end_time": "2022-05-25T13:16:25.177324",
     "exception": false,
     "start_time": "2022-05-25T13:16:25.121856",
     "status": "completed"
    },
    "tags": []
   },
   "outputs": [],
   "source": [
    "y_pred = model.predict(X_test)\n"
   ]
  },
  {
   "cell_type": "code",
   "execution_count": 66,
   "id": "96e1bb89",
   "metadata": {
    "execution": {
     "iopub.execute_input": "2022-05-25T13:16:25.274816Z",
     "iopub.status.busy": "2022-05-25T13:16:25.274522Z",
     "iopub.status.idle": "2022-05-25T13:16:25.281044Z",
     "shell.execute_reply": "2022-05-25T13:16:25.280232Z"
    },
    "papermill": {
     "duration": 0.057436,
     "end_time": "2022-05-25T13:16:25.282963",
     "exception": false,
     "start_time": "2022-05-25T13:16:25.225527",
     "status": "completed"
    },
    "tags": []
   },
   "outputs": [],
   "source": [
    "from sklearn.metrics import accuracy_score\n"
   ]
  },
  {
   "cell_type": "code",
   "execution_count": 68,
   "id": "3f3d059a",
   "metadata": {},
   "outputs": [
    {
     "data": {
      "text/plain": [
       "0.9746153846153847"
      ]
     },
     "execution_count": 68,
     "metadata": {},
     "output_type": "execute_result"
    }
   ],
   "source": [
    "model_scores={}\n",
    "model_scores[\"Logistic Regression\"]=accuracy_score(y_test,y_pred)\n",
    "model_scores[\"Logistic Regression\"]"
   ]
  },
  {
   "cell_type": "code",
   "execution_count": 69,
   "id": "522bd76b",
   "metadata": {
    "papermill": {
     "duration": 0.049285,
     "end_time": "2022-05-25T13:16:25.821454",
     "exception": false,
     "start_time": "2022-05-25T13:16:25.772169",
     "status": "completed"
    },
    "tags": []
   },
   "outputs": [],
   "source": [
    "from sklearn.ensemble import RandomForestClassifier\n",
    "model1=RandomForestClassifier(n_estimators=100)\n"
   ]
  },
  {
   "cell_type": "code",
   "execution_count": 70,
   "id": "48e73873",
   "metadata": {},
   "outputs": [
    {
     "data": {
      "text/plain": [
       "RandomForestClassifier()"
      ]
     },
     "execution_count": 70,
     "metadata": {},
     "output_type": "execute_result"
    }
   ],
   "source": [
    "model1.fit(X_train,y_train)"
   ]
  },
  {
   "cell_type": "code",
   "execution_count": 71,
   "id": "b91524f9",
   "metadata": {},
   "outputs": [
    {
     "data": {
      "text/plain": [
       "0.9903846153846154"
      ]
     },
     "execution_count": 71,
     "metadata": {},
     "output_type": "execute_result"
    }
   ],
   "source": [
    "y_pred2=model1.predict(X_test)\n",
    "model_scores[\"Random forest classifier\"]=accuracy_score(y_test,y_pred2)\n",
    "model_scores[\"Random forest classifier\"]"
   ]
  },
  {
   "cell_type": "code",
   "execution_count": 72,
   "id": "e9a4ee62",
   "metadata": {},
   "outputs": [
    {
     "data": {
      "text/plain": [
       "KNeighborsClassifier(n_neighbors=1)"
      ]
     },
     "execution_count": 72,
     "metadata": {},
     "output_type": "execute_result"
    }
   ],
   "source": [
    "from sklearn.neighbors import KNeighborsClassifier\n",
    "knn_model=KNeighborsClassifier(n_neighbors=1)\n",
    "knn_model.fit(X_train,y_train)"
   ]
  },
  {
   "cell_type": "code",
   "execution_count": 73,
   "id": "38746a35",
   "metadata": {},
   "outputs": [
    {
     "data": {
      "text/plain": [
       "0.5307692307692308"
      ]
     },
     "execution_count": 73,
     "metadata": {},
     "output_type": "execute_result"
    }
   ],
   "source": [
    "y_pred3=knn_model.predict(X_test)\n",
    "model_scores[\"K-neighbors classifier\"]=accuracy_score(y_test,y_pred3)\n",
    "model_scores[\"K-neighbors classifier\"]"
   ]
  },
  {
   "cell_type": "code",
   "execution_count": 80,
   "id": "b7eb06a3",
   "metadata": {},
   "outputs": [
    {
     "data": {
      "image/png": "[encoded data removed]",
      "text/plain": [
       "<Figure size 432x288 with 1 Axes>"
      ]
     },
     "metadata": {
      "needs_background": "light"
     },
     "output_type": "display_data"
    }
   ],
   "source": [
    "model_compare = pd.DataFrame(model_scores, index=['accuracy'])\n",
    "model_compare.T.plot.bar(color=\"violet\");"
   ]
  },
  {
   "cell_type": "code",
   "execution_count": null,
   "id": "badfebfb",
   "metadata": {},
   "outputs": [],
   "source": []
  }
 ],
 "metadata": {
  "kernelspec": {
   "display_name": "Python 3",
   "language": "python",
   "name": "python3"
  },
  "language_info": {
   "codemirror_mode": {
    "name": "ipython",
    "version": 3
   },
   "file_extension": ".py",
   "mimetype": "text/x-python",
   "name": "python",
   "nbconvert_exporter": "python",
   "pygments_lexer": "ipython3",
   "version": "3.8.8"
  },
  "papermill": {
   "default_parameters": {},
   "duration": 423.159981,
   "end_time": "2022-05-25T13:16:26.794894",
   "environment_variables": {},
   "exception": null,
   "input_path": "__notebook__.ipynb",
   "output_path": "__notebook__.ipynb",
   "parameters": {},
   "start_time": "2022-05-25T13:09:23.634913",
   "version": "2.3.4"
  }
 },
 "nbformat": 4,
 "nbformat_minor": 5
}
