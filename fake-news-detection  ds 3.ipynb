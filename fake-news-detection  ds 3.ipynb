{
 "cells": [
  {
   "cell_type": "code",
   "execution_count": 1,
   "id": "c9552774",
   "metadata": {
    "_cell_guid": "b1076dfc-b9ad-4769-8c92-a6c4dae69d19",
    "_uuid": "8f2839f25d086af736a60e9eeb907d3b93b6e0e5",
    "execution": {
     "iopub.execute_input": "2022-05-25T13:09:34.403674Z",
     "iopub.status.busy": "2022-05-25T13:09:34.403051Z",
     "iopub.status.idle": "2022-05-25T13:09:35.606818Z",
     "shell.execute_reply": "2022-05-25T13:09:35.605677Z"
    },
    "papermill": {
     "duration": 1.251657,
     "end_time": "2022-05-25T13:09:35.609581",
     "exception": false,
     "start_time": "2022-05-25T13:09:34.357924",
     "status": "completed"
    },
    "tags": []
   },
   "outputs": [],
   "source": [
    "import numpy as np\n",
    "import pandas as pd\n",
    "import matplotlib.pyplot as plt\n",
    "import seaborn as sns"
   ]
  },
  {
   "cell_type": "code",
   "execution_count": 2,
   "id": "30ca5019",
   "metadata": {
    "execution": {
     "iopub.execute_input": "2022-05-25T13:09:35.695163Z",
     "iopub.status.busy": "2022-05-25T13:09:35.694846Z",
     "iopub.status.idle": "2022-05-25T13:09:39.129962Z",
     "shell.execute_reply": "2022-05-25T13:09:39.128960Z"
    },
    "papermill": {
     "duration": 3.480391,
     "end_time": "2022-05-25T13:09:39.132556",
     "exception": false,
     "start_time": "2022-05-25T13:09:35.652165",
     "status": "completed"
    },
    "tags": []
   },
   "outputs": [],
   "source": [
    "fake= pd.read_csv('C:/Users/LAKSHYA/Documents/ML/datasets/fake news/News _dataset/Fake.csv')\n",
    "true = pd.read_csv('C:/Users/LAKSHYA/Documents/ML/datasets/fake news/News _dataset/True.csv')"
   ]
  },
  {
   "cell_type": "code",
   "execution_count": 3,
   "id": "6dd32fb5",
   "metadata": {
    "execution": {
     "iopub.execute_input": "2022-05-25T13:09:39.220972Z",
     "iopub.status.busy": "2022-05-25T13:09:39.220699Z",
     "iopub.status.idle": "2022-05-25T13:09:39.244489Z",
     "shell.execute_reply": "2022-05-25T13:09:39.243462Z"
    },
    "papermill": {
     "duration": 0.071138,
     "end_time": "2022-05-25T13:09:39.247504",
     "exception": false,
     "start_time": "2022-05-25T13:09:39.176366",
     "status": "completed"
    },
    "tags": []
   },
   "outputs": [
    {
     "data": {
      "text/html": [
       "<div>\n",
       "<style scoped>\n",
       "    .dataframe tbody tr th:only-of-type {\n",
       "        vertical-align: middle;\n",
       "    }\n",
       "\n",
       "    .dataframe tbody tr th {\n",
       "        vertical-align: top;\n",
       "    }\n",
       "\n",
       "    .dataframe thead th {\n",
       "        text-align: right;\n",
       "    }\n",
       "</style>\n",
       "<table border=\"1\" class=\"dataframe\">\n",
       "  <thead>\n",
       "    <tr style=\"text-align: right;\">\n",
       "      <th></th>\n",
       "      <th>title</th>\n",
       "      <th>text</th>\n",
       "      <th>subject</th>\n",
       "      <th>date</th>\n",
       "    </tr>\n",
       "  </thead>\n",
       "  <tbody>\n",
       "    <tr>\n",
       "      <th>0</th>\n",
       "      <td>Donald Trump Sends Out Embarrassing New Year’...</td>\n",
       "      <td>Donald Trump just couldn t wish all Americans ...</td>\n",
       "      <td>News</td>\n",
       "      <td>December 31, 2017</td>\n",
       "    </tr>\n",
       "    <tr>\n",
       "      <th>1</th>\n",
       "      <td>Drunk Bragging Trump Staffer Started Russian ...</td>\n",
       "      <td>House Intelligence Committee Chairman Devin Nu...</td>\n",
       "      <td>News</td>\n",
       "      <td>December 31, 2017</td>\n",
       "    </tr>\n",
       "    <tr>\n",
       "      <th>2</th>\n",
       "      <td>Sheriff David Clarke Becomes An Internet Joke...</td>\n",
       "      <td>On Friday, it was revealed that former Milwauk...</td>\n",
       "      <td>News</td>\n",
       "      <td>December 30, 2017</td>\n",
       "    </tr>\n",
       "    <tr>\n",
       "      <th>3</th>\n",
       "      <td>Trump Is So Obsessed He Even Has Obama’s Name...</td>\n",
       "      <td>On Christmas day, Donald Trump announced that ...</td>\n",
       "      <td>News</td>\n",
       "      <td>December 29, 2017</td>\n",
       "    </tr>\n",
       "    <tr>\n",
       "      <th>4</th>\n",
       "      <td>Pope Francis Just Called Out Donald Trump Dur...</td>\n",
       "      <td>Pope Francis used his annual Christmas Day mes...</td>\n",
       "      <td>News</td>\n",
       "      <td>December 25, 2017</td>\n",
       "    </tr>\n",
       "  </tbody>\n",
       "</table>\n",
       "</div>"
      ],
      "text/plain": [
       "                                               title  \\\n",
       "0   Donald Trump Sends Out Embarrassing New Year’...   \n",
       "1   Drunk Bragging Trump Staffer Started Russian ...   \n",
       "2   Sheriff David Clarke Becomes An Internet Joke...   \n",
       "3   Trump Is So Obsessed He Even Has Obama’s Name...   \n",
       "4   Pope Francis Just Called Out Donald Trump Dur...   \n",
       "\n",
       "                                                text subject  \\\n",
       "0  Donald Trump just couldn t wish all Americans ...    News   \n",
       "1  House Intelligence Committee Chairman Devin Nu...    News   \n",
       "2  On Friday, it was revealed that former Milwauk...    News   \n",
       "3  On Christmas day, Donald Trump announced that ...    News   \n",
       "4  Pope Francis used his annual Christmas Day mes...    News   \n",
       "\n",
       "                date  \n",
       "0  December 31, 2017  \n",
       "1  December 31, 2017  \n",
       "2  December 30, 2017  \n",
       "3  December 29, 2017  \n",
       "4  December 25, 2017  "
      ]
     },
     "execution_count": 3,
     "metadata": {},
     "output_type": "execute_result"
    }
   ],
   "source": [
    "fake.head()"
   ]
  },
  {
   "cell_type": "code",
   "execution_count": 4,
   "id": "2a080ae0",
   "metadata": {
    "execution": {
     "iopub.execute_input": "2022-05-25T13:09:39.336529Z",
     "iopub.status.busy": "2022-05-25T13:09:39.336223Z",
     "iopub.status.idle": "2022-05-25T13:09:39.355744Z",
     "shell.execute_reply": "2022-05-25T13:09:39.354851Z"
    },
    "papermill": {
     "duration": 0.065536,
     "end_time": "2022-05-25T13:09:39.358140",
     "exception": false,
     "start_time": "2022-05-25T13:09:39.292604",
     "status": "completed"
    },
    "tags": []
   },
   "outputs": [
    {
     "data": {
      "text/html": [
       "<div>\n",
       "<style scoped>\n",
       "    .dataframe tbody tr th:only-of-type {\n",
       "        vertical-align: middle;\n",
       "    }\n",
       "\n",
       "    .dataframe tbody tr th {\n",
       "        vertical-align: top;\n",
       "    }\n",
       "\n",
       "    .dataframe thead th {\n",
       "        text-align: right;\n",
       "    }\n",
       "</style>\n",
       "<table border=\"1\" class=\"dataframe\">\n",
       "  <thead>\n",
       "    <tr style=\"text-align: right;\">\n",
       "      <th></th>\n",
       "      <th>title</th>\n",
       "      <th>text</th>\n",
       "      <th>subject</th>\n",
       "      <th>date</th>\n",
       "    </tr>\n",
       "  </thead>\n",
       "  <tbody>\n",
       "    <tr>\n",
       "      <th>0</th>\n",
       "      <td>As U.S. budget fight looms, Republicans flip t...</td>\n",
       "      <td>WASHINGTON (Reuters) - The head of a conservat...</td>\n",
       "      <td>politicsNews</td>\n",
       "      <td>December 31, 2017</td>\n",
       "    </tr>\n",
       "    <tr>\n",
       "      <th>1</th>\n",
       "      <td>U.S. military to accept transgender recruits o...</td>\n",
       "      <td>WASHINGTON (Reuters) - Transgender people will...</td>\n",
       "      <td>politicsNews</td>\n",
       "      <td>December 29, 2017</td>\n",
       "    </tr>\n",
       "    <tr>\n",
       "      <th>2</th>\n",
       "      <td>Senior U.S. Republican senator: 'Let Mr. Muell...</td>\n",
       "      <td>WASHINGTON (Reuters) - The special counsel inv...</td>\n",
       "      <td>politicsNews</td>\n",
       "      <td>December 31, 2017</td>\n",
       "    </tr>\n",
       "    <tr>\n",
       "      <th>3</th>\n",
       "      <td>FBI Russia probe helped by Australian diplomat...</td>\n",
       "      <td>WASHINGTON (Reuters) - Trump campaign adviser ...</td>\n",
       "      <td>politicsNews</td>\n",
       "      <td>December 30, 2017</td>\n",
       "    </tr>\n",
       "    <tr>\n",
       "      <th>4</th>\n",
       "      <td>Trump wants Postal Service to charge 'much mor...</td>\n",
       "      <td>SEATTLE/WASHINGTON (Reuters) - President Donal...</td>\n",
       "      <td>politicsNews</td>\n",
       "      <td>December 29, 2017</td>\n",
       "    </tr>\n",
       "  </tbody>\n",
       "</table>\n",
       "</div>"
      ],
      "text/plain": [
       "                                               title  \\\n",
       "0  As U.S. budget fight looms, Republicans flip t...   \n",
       "1  U.S. military to accept transgender recruits o...   \n",
       "2  Senior U.S. Republican senator: 'Let Mr. Muell...   \n",
       "3  FBI Russia probe helped by Australian diplomat...   \n",
       "4  Trump wants Postal Service to charge 'much mor...   \n",
       "\n",
       "                                                text       subject  \\\n",
       "0  WASHINGTON (Reuters) - The head of a conservat...  politicsNews   \n",
       "1  WASHINGTON (Reuters) - Transgender people will...  politicsNews   \n",
       "2  WASHINGTON (Reuters) - The special counsel inv...  politicsNews   \n",
       "3  WASHINGTON (Reuters) - Trump campaign adviser ...  politicsNews   \n",
       "4  SEATTLE/WASHINGTON (Reuters) - President Donal...  politicsNews   \n",
       "\n",
       "                 date  \n",
       "0  December 31, 2017   \n",
       "1  December 29, 2017   \n",
       "2  December 31, 2017   \n",
       "3  December 30, 2017   \n",
       "4  December 29, 2017   "
      ]
     },
     "execution_count": 4,
     "metadata": {},
     "output_type": "execute_result"
    }
   ],
   "source": [
    "true.head()"
   ]
  },
  {
   "cell_type": "code",
   "execution_count": 5,
   "id": "8c25a5dd",
   "metadata": {
    "scrolled": true
   },
   "outputs": [
    {
     "data": {
      "text/html": [
       "<div>\n",
       "<style scoped>\n",
       "    .dataframe tbody tr th:only-of-type {\n",
       "        vertical-align: middle;\n",
       "    }\n",
       "\n",
       "    .dataframe tbody tr th {\n",
       "        vertical-align: top;\n",
       "    }\n",
       "\n",
       "    .dataframe thead th {\n",
       "        text-align: right;\n",
       "    }\n",
       "</style>\n",
       "<table border=\"1\" class=\"dataframe\">\n",
       "  <thead>\n",
       "    <tr style=\"text-align: right;\">\n",
       "      <th></th>\n",
       "      <th>title</th>\n",
       "      <th>text</th>\n",
       "      <th>subject</th>\n",
       "      <th>date</th>\n",
       "      <th>label</th>\n",
       "    </tr>\n",
       "  </thead>\n",
       "  <tbody>\n",
       "    <tr>\n",
       "      <th>0</th>\n",
       "      <td>Donald Trump Sends Out Embarrassing New Year’...</td>\n",
       "      <td>Donald Trump just couldn t wish all Americans ...</td>\n",
       "      <td>News</td>\n",
       "      <td>December 31, 2017</td>\n",
       "      <td>1</td>\n",
       "    </tr>\n",
       "    <tr>\n",
       "      <th>1</th>\n",
       "      <td>Drunk Bragging Trump Staffer Started Russian ...</td>\n",
       "      <td>House Intelligence Committee Chairman Devin Nu...</td>\n",
       "      <td>News</td>\n",
       "      <td>December 31, 2017</td>\n",
       "      <td>1</td>\n",
       "    </tr>\n",
       "    <tr>\n",
       "      <th>2</th>\n",
       "      <td>Sheriff David Clarke Becomes An Internet Joke...</td>\n",
       "      <td>On Friday, it was revealed that former Milwauk...</td>\n",
       "      <td>News</td>\n",
       "      <td>December 30, 2017</td>\n",
       "      <td>1</td>\n",
       "    </tr>\n",
       "    <tr>\n",
       "      <th>3</th>\n",
       "      <td>Trump Is So Obsessed He Even Has Obama’s Name...</td>\n",
       "      <td>On Christmas day, Donald Trump announced that ...</td>\n",
       "      <td>News</td>\n",
       "      <td>December 29, 2017</td>\n",
       "      <td>1</td>\n",
       "    </tr>\n",
       "    <tr>\n",
       "      <th>4</th>\n",
       "      <td>Pope Francis Just Called Out Donald Trump Dur...</td>\n",
       "      <td>Pope Francis used his annual Christmas Day mes...</td>\n",
       "      <td>News</td>\n",
       "      <td>December 25, 2017</td>\n",
       "      <td>1</td>\n",
       "    </tr>\n",
       "  </tbody>\n",
       "</table>\n",
       "</div>"
      ],
      "text/plain": [
       "                                               title  \\\n",
       "0   Donald Trump Sends Out Embarrassing New Year’...   \n",
       "1   Drunk Bragging Trump Staffer Started Russian ...   \n",
       "2   Sheriff David Clarke Becomes An Internet Joke...   \n",
       "3   Trump Is So Obsessed He Even Has Obama’s Name...   \n",
       "4   Pope Francis Just Called Out Donald Trump Dur...   \n",
       "\n",
       "                                                text subject  \\\n",
       "0  Donald Trump just couldn t wish all Americans ...    News   \n",
       "1  House Intelligence Committee Chairman Devin Nu...    News   \n",
       "2  On Friday, it was revealed that former Milwauk...    News   \n",
       "3  On Christmas day, Donald Trump announced that ...    News   \n",
       "4  Pope Francis used his annual Christmas Day mes...    News   \n",
       "\n",
       "                date  label  \n",
       "0  December 31, 2017      1  \n",
       "1  December 31, 2017      1  \n",
       "2  December 30, 2017      1  \n",
       "3  December 29, 2017      1  \n",
       "4  December 25, 2017      1  "
      ]
     },
     "execution_count": 5,
     "metadata": {},
     "output_type": "execute_result"
    }
   ],
   "source": [
    "fake['label']=1\n",
    "fake.head()"
   ]
  },
  {
   "cell_type": "code",
   "execution_count": 6,
   "id": "5b8dff9c",
   "metadata": {
    "execution": {
     "iopub.execute_input": "2022-05-25T13:09:39.544123Z",
     "iopub.status.busy": "2022-05-25T13:09:39.543815Z",
     "iopub.status.idle": "2022-05-25T13:09:39.559745Z",
     "shell.execute_reply": "2022-05-25T13:09:39.559014Z"
    },
    "papermill": {
     "duration": 0.061735,
     "end_time": "2022-05-25T13:09:39.561997",
     "exception": false,
     "start_time": "2022-05-25T13:09:39.500262",
     "status": "completed"
    },
    "tags": []
   },
   "outputs": [
    {
     "data": {
      "text/html": [
       "<div>\n",
       "<style scoped>\n",
       "    .dataframe tbody tr th:only-of-type {\n",
       "        vertical-align: middle;\n",
       "    }\n",
       "\n",
       "    .dataframe tbody tr th {\n",
       "        vertical-align: top;\n",
       "    }\n",
       "\n",
       "    .dataframe thead th {\n",
       "        text-align: right;\n",
       "    }\n",
       "</style>\n",
       "<table border=\"1\" class=\"dataframe\">\n",
       "  <thead>\n",
       "    <tr style=\"text-align: right;\">\n",
       "      <th></th>\n",
       "      <th>title</th>\n",
       "      <th>text</th>\n",
       "      <th>subject</th>\n",
       "      <th>date</th>\n",
       "      <th>label</th>\n",
       "    </tr>\n",
       "  </thead>\n",
       "  <tbody>\n",
       "    <tr>\n",
       "      <th>0</th>\n",
       "      <td>As U.S. budget fight looms, Republicans flip t...</td>\n",
       "      <td>WASHINGTON (Reuters) - The head of a conservat...</td>\n",
       "      <td>politicsNews</td>\n",
       "      <td>December 31, 2017</td>\n",
       "      <td>0</td>\n",
       "    </tr>\n",
       "    <tr>\n",
       "      <th>1</th>\n",
       "      <td>U.S. military to accept transgender recruits o...</td>\n",
       "      <td>WASHINGTON (Reuters) - Transgender people will...</td>\n",
       "      <td>politicsNews</td>\n",
       "      <td>December 29, 2017</td>\n",
       "      <td>0</td>\n",
       "    </tr>\n",
       "    <tr>\n",
       "      <th>2</th>\n",
       "      <td>Senior U.S. Republican senator: 'Let Mr. Muell...</td>\n",
       "      <td>WASHINGTON (Reuters) - The special counsel inv...</td>\n",
       "      <td>politicsNews</td>\n",
       "      <td>December 31, 2017</td>\n",
       "      <td>0</td>\n",
       "    </tr>\n",
       "    <tr>\n",
       "      <th>3</th>\n",
       "      <td>FBI Russia probe helped by Australian diplomat...</td>\n",
       "      <td>WASHINGTON (Reuters) - Trump campaign adviser ...</td>\n",
       "      <td>politicsNews</td>\n",
       "      <td>December 30, 2017</td>\n",
       "      <td>0</td>\n",
       "    </tr>\n",
       "    <tr>\n",
       "      <th>4</th>\n",
       "      <td>Trump wants Postal Service to charge 'much mor...</td>\n",
       "      <td>SEATTLE/WASHINGTON (Reuters) - President Donal...</td>\n",
       "      <td>politicsNews</td>\n",
       "      <td>December 29, 2017</td>\n",
       "      <td>0</td>\n",
       "    </tr>\n",
       "  </tbody>\n",
       "</table>\n",
       "</div>"
      ],
      "text/plain": [
       "                                               title  \\\n",
       "0  As U.S. budget fight looms, Republicans flip t...   \n",
       "1  U.S. military to accept transgender recruits o...   \n",
       "2  Senior U.S. Republican senator: 'Let Mr. Muell...   \n",
       "3  FBI Russia probe helped by Australian diplomat...   \n",
       "4  Trump wants Postal Service to charge 'much mor...   \n",
       "\n",
       "                                                text       subject  \\\n",
       "0  WASHINGTON (Reuters) - The head of a conservat...  politicsNews   \n",
       "1  WASHINGTON (Reuters) - Transgender people will...  politicsNews   \n",
       "2  WASHINGTON (Reuters) - The special counsel inv...  politicsNews   \n",
       "3  WASHINGTON (Reuters) - Trump campaign adviser ...  politicsNews   \n",
       "4  SEATTLE/WASHINGTON (Reuters) - President Donal...  politicsNews   \n",
       "\n",
       "                 date  label  \n",
       "0  December 31, 2017       0  \n",
       "1  December 29, 2017       0  \n",
       "2  December 31, 2017       0  \n",
       "3  December 30, 2017       0  \n",
       "4  December 29, 2017       0  "
      ]
     },
     "execution_count": 6,
     "metadata": {},
     "output_type": "execute_result"
    }
   ],
   "source": [
    "true['label']=0\n",
    "true.head()"
   ]
  },
  {
   "cell_type": "code",
   "execution_count": 7,
   "id": "a322a62b",
   "metadata": {
    "execution": {
     "iopub.execute_input": "2022-05-25T13:09:39.649696Z",
     "iopub.status.busy": "2022-05-25T13:09:39.648906Z",
     "iopub.status.idle": "2022-05-25T13:09:39.667128Z",
     "shell.execute_reply": "2022-05-25T13:09:39.666094Z"
    },
    "papermill": {
     "duration": 0.064706,
     "end_time": "2022-05-25T13:09:39.669602",
     "exception": false,
     "start_time": "2022-05-25T13:09:39.604896",
     "status": "completed"
    },
    "tags": []
   },
   "outputs": [],
   "source": [
    "frames=[fake,true]\n",
    "data=pd.concat(frames)"
   ]
  },
  {
   "cell_type": "code",
   "execution_count": 13,
   "id": "cea3da54",
   "metadata": {
    "execution": {
     "iopub.execute_input": "2022-05-25T13:09:39.962947Z",
     "iopub.status.busy": "2022-05-25T13:09:39.962648Z",
     "iopub.status.idle": "2022-05-25T13:09:39.968529Z",
     "shell.execute_reply": "2022-05-25T13:09:39.967647Z"
    },
    "papermill": {
     "duration": 0.055543,
     "end_time": "2022-05-25T13:09:39.971234",
     "exception": false,
     "start_time": "2022-05-25T13:09:39.915691",
     "status": "completed"
    },
    "tags": []
   },
   "outputs": [
    {
     "data": {
      "text/html": [
       "<div>\n",
       "<style scoped>\n",
       "    .dataframe tbody tr th:only-of-type {\n",
       "        vertical-align: middle;\n",
       "    }\n",
       "\n",
       "    .dataframe tbody tr th {\n",
       "        vertical-align: top;\n",
       "    }\n",
       "\n",
       "    .dataframe thead th {\n",
       "        text-align: right;\n",
       "    }\n",
       "</style>\n",
       "<table border=\"1\" class=\"dataframe\">\n",
       "  <thead>\n",
       "    <tr style=\"text-align: right;\">\n",
       "      <th></th>\n",
       "      <th>title</th>\n",
       "      <th>text</th>\n",
       "      <th>subject</th>\n",
       "      <th>date</th>\n",
       "      <th>label</th>\n",
       "    </tr>\n",
       "  </thead>\n",
       "  <tbody>\n",
       "    <tr>\n",
       "      <th>0</th>\n",
       "      <td>Donald Trump Sends Out Embarrassing New Year’...</td>\n",
       "      <td>Donald Trump just couldn t wish all Americans ...</td>\n",
       "      <td>News</td>\n",
       "      <td>December 31, 2017</td>\n",
       "      <td>1</td>\n",
       "    </tr>\n",
       "    <tr>\n",
       "      <th>1</th>\n",
       "      <td>Drunk Bragging Trump Staffer Started Russian ...</td>\n",
       "      <td>House Intelligence Committee Chairman Devin Nu...</td>\n",
       "      <td>News</td>\n",
       "      <td>December 31, 2017</td>\n",
       "      <td>1</td>\n",
       "    </tr>\n",
       "    <tr>\n",
       "      <th>2</th>\n",
       "      <td>Sheriff David Clarke Becomes An Internet Joke...</td>\n",
       "      <td>On Friday, it was revealed that former Milwauk...</td>\n",
       "      <td>News</td>\n",
       "      <td>December 30, 2017</td>\n",
       "      <td>1</td>\n",
       "    </tr>\n",
       "    <tr>\n",
       "      <th>3</th>\n",
       "      <td>Trump Is So Obsessed He Even Has Obama’s Name...</td>\n",
       "      <td>On Christmas day, Donald Trump announced that ...</td>\n",
       "      <td>News</td>\n",
       "      <td>December 29, 2017</td>\n",
       "      <td>1</td>\n",
       "    </tr>\n",
       "    <tr>\n",
       "      <th>4</th>\n",
       "      <td>Pope Francis Just Called Out Donald Trump Dur...</td>\n",
       "      <td>Pope Francis used his annual Christmas Day mes...</td>\n",
       "      <td>News</td>\n",
       "      <td>December 25, 2017</td>\n",
       "      <td>1</td>\n",
       "    </tr>\n",
       "  </tbody>\n",
       "</table>\n",
       "</div>"
      ],
      "text/plain": [
       "                                               title  \\\n",
       "0   Donald Trump Sends Out Embarrassing New Year’...   \n",
       "1   Drunk Bragging Trump Staffer Started Russian ...   \n",
       "2   Sheriff David Clarke Becomes An Internet Joke...   \n",
       "3   Trump Is So Obsessed He Even Has Obama’s Name...   \n",
       "4   Pope Francis Just Called Out Donald Trump Dur...   \n",
       "\n",
       "                                                text subject  \\\n",
       "0  Donald Trump just couldn t wish all Americans ...    News   \n",
       "1  House Intelligence Committee Chairman Devin Nu...    News   \n",
       "2  On Friday, it was revealed that former Milwauk...    News   \n",
       "3  On Christmas day, Donald Trump announced that ...    News   \n",
       "4  Pope Francis used his annual Christmas Day mes...    News   \n",
       "\n",
       "                date  label  \n",
       "0  December 31, 2017      1  \n",
       "1  December 31, 2017      1  \n",
       "2  December 30, 2017      1  \n",
       "3  December 29, 2017      1  \n",
       "4  December 25, 2017      1  "
      ]
     },
     "execution_count": 13,
     "metadata": {},
     "output_type": "execute_result"
    }
   ],
   "source": [
    "data.head()"
   ]
  },
  {
   "cell_type": "code",
   "execution_count": 9,
   "id": "1732458d",
   "metadata": {
    "collapsed": true
   },
   "outputs": [
    {
     "data": {
      "text/plain": [
       "(44898, 5)"
      ]
     },
     "execution_count": 9,
     "metadata": {},
     "output_type": "execute_result"
    }
   ],
   "source": [
    "data.shape"
   ]
  },
  {
   "cell_type": "code",
   "execution_count": 10,
   "id": "770c2299",
   "metadata": {
    "execution": {
     "iopub.execute_input": "2022-05-25T13:09:40.193716Z",
     "iopub.status.busy": "2022-05-25T13:09:40.193272Z",
     "iopub.status.idle": "2022-05-25T13:09:40.207725Z",
     "shell.execute_reply": "2022-05-25T13:09:40.206874Z"
    },
    "papermill": {
     "duration": 0.0639,
     "end_time": "2022-05-25T13:09:40.209926",
     "exception": false,
     "start_time": "2022-05-25T13:09:40.146026",
     "status": "completed"
    },
    "tags": []
   },
   "outputs": [
    {
     "data": {
      "text/plain": [
       "title      0\n",
       "text       0\n",
       "subject    0\n",
       "date       0\n",
       "label      0\n",
       "dtype: int64"
      ]
     },
     "execution_count": 10,
     "metadata": {},
     "output_type": "execute_result"
    }
   ],
   "source": [
    "data.isnull().sum()"
   ]
  },
  {
   "cell_type": "code",
   "execution_count": 11,
   "id": "1f1ae49d",
   "metadata": {},
   "outputs": [
    {
     "data": {
      "text/plain": [
       "8"
      ]
     },
     "execution_count": 11,
     "metadata": {},
     "output_type": "execute_result"
    }
   ],
   "source": [
    "data.subject.nunique()"
   ]
  },
  {
   "cell_type": "code",
   "execution_count": 12,
   "id": "7b9dccd1",
   "metadata": {},
   "outputs": [
    {
     "name": "stderr",
     "output_type": "stream",
     "text": [
      "[nltk_data] Downloading package stopwords to\n",
      "[nltk_data]     C:\\Users\\LAKSHYA\\AppData\\Roaming\\nltk_data...\n",
      "[nltk_data]   Package stopwords is already up-to-date!\n"
     ]
    },
    {
     "data": {
      "text/plain": [
       "True"
      ]
     },
     "execution_count": 12,
     "metadata": {},
     "output_type": "execute_result"
    }
   ],
   "source": [
    "import nltk\n",
    "nltk.download('stopwords')"
   ]
  },
  {
   "cell_type": "code",
   "execution_count": 13,
   "id": "a534715f",
   "metadata": {
    "execution": {
     "iopub.execute_input": "2022-05-25T13:09:40.304508Z",
     "iopub.status.busy": "2022-05-25T13:09:40.304198Z",
     "iopub.status.idle": "2022-05-25T13:09:41.187900Z",
     "shell.execute_reply": "2022-05-25T13:09:41.186918Z"
    },
    "papermill": {
     "duration": 0.933822,
     "end_time": "2022-05-25T13:09:41.190421",
     "exception": false,
     "start_time": "2022-05-25T13:09:40.256599",
     "status": "completed"
    },
    "tags": []
   },
   "outputs": [],
   "source": [
    "import string\n",
    "import re\n",
    "from nltk.corpus import stopwords\n",
    "stop_word = stopwords.words('english')\n",
    "def cleaning_data(x):\n",
    "    #lower the value\n",
    "    x =x.lower()\n",
    "    #converting in ascii value\n",
    "    x = x.encode('ascii' , 'ignore').decode()\n",
    "    #removing all the stopword\n",
    "    x = ' '.join([word for word in x.split(' ') if word not in stop_word])\n",
    "    #remove mentions\n",
    "    x = re.sub('@\\S+' , ' ' , x)\n",
    "    #remove url\n",
    "    x = re.sub('https*\\S+' , ' ' , x)\n",
    "    #remove hastag\n",
    "    x= re.sub('#\\S+' , ' ' , x)\n",
    "    #remove ticks and next character\n",
    "    x = re.sub(\"\\'\\w+\" , ' ' , x)\n",
    "    #remove punctuations\n",
    "    x = re.sub('[%s]' % re.escape(string.punctuation) , ' ' , x)\n",
    "    #remove number\n",
    "    x = re.sub(r'\\w+\\d+\\w*' ,'  ' , x)\n",
    "    #remove the over spaces\n",
    "    x = re.sub('\\s{2,}' , '' , x)\n",
    "    return x\n",
    "    "
   ]
  },
  {
   "cell_type": "code",
   "execution_count": 14,
   "id": "271a3abb",
   "metadata": {
    "execution": {
     "iopub.execute_input": "2022-05-25T13:09:41.283662Z",
     "iopub.status.busy": "2022-05-25T13:09:41.283345Z",
     "iopub.status.idle": "2022-05-25T13:10:11.284432Z",
     "shell.execute_reply": "2022-05-25T13:10:11.283233Z"
    },
    "papermill": {
     "duration": 30.049165,
     "end_time": "2022-05-25T13:10:11.287014",
     "exception": false,
     "start_time": "2022-05-25T13:09:41.237849",
     "status": "completed"
    },
    "tags": []
   },
   "outputs": [],
   "source": [
    "data.title = data.title.apply(cleaning_data)\n",
    "data.text =  data.text.apply(cleaning_data)"
   ]
  },
  {
   "cell_type": "code",
   "execution_count": 15,
   "id": "98801214",
   "metadata": {
    "execution": {
     "iopub.execute_input": "2022-05-25T13:10:11.381305Z",
     "iopub.status.busy": "2022-05-25T13:10:11.381011Z",
     "iopub.status.idle": "2022-05-25T13:10:11.392644Z",
     "shell.execute_reply": "2022-05-25T13:10:11.391671Z"
    },
    "papermill": {
     "duration": 0.06105,
     "end_time": "2022-05-25T13:10:11.394916",
     "exception": false,
     "start_time": "2022-05-25T13:10:11.333866",
     "status": "completed"
    },
    "tags": []
   },
   "outputs": [
    {
     "data": {
      "text/html": [
       "<div>\n",
       "<style scoped>\n",
       "    .dataframe tbody tr th:only-of-type {\n",
       "        vertical-align: middle;\n",
       "    }\n",
       "\n",
       "    .dataframe tbody tr th {\n",
       "        vertical-align: top;\n",
       "    }\n",
       "\n",
       "    .dataframe thead th {\n",
       "        text-align: right;\n",
       "    }\n",
       "</style>\n",
       "<table border=\"1\" class=\"dataframe\">\n",
       "  <thead>\n",
       "    <tr style=\"text-align: right;\">\n",
       "      <th></th>\n",
       "      <th>title</th>\n",
       "      <th>text</th>\n",
       "      <th>subject</th>\n",
       "      <th>date</th>\n",
       "      <th>label</th>\n",
       "    </tr>\n",
       "  </thead>\n",
       "  <tbody>\n",
       "    <tr>\n",
       "      <th>0</th>\n",
       "      <td>donald trump sends embarrassing new years eve...</td>\n",
       "      <td>donald trump wish americans happy new year lea...</td>\n",
       "      <td>News</td>\n",
       "      <td>December 31, 2017</td>\n",
       "      <td>1</td>\n",
       "    </tr>\n",
       "    <tr>\n",
       "      <th>1</th>\n",
       "      <td>drunk bragging trump staffer started russian ...</td>\n",
       "      <td>house intelligence committee chairman devin nu...</td>\n",
       "      <td>News</td>\n",
       "      <td>December 31, 2017</td>\n",
       "      <td>1</td>\n",
       "    </tr>\n",
       "    <tr>\n",
       "      <th>2</th>\n",
       "      <td>sheriff david clarke becomes internet joke th...</td>\n",
       "      <td>fridayrevealed former milwaukee sheriff david ...</td>\n",
       "      <td>News</td>\n",
       "      <td>December 30, 2017</td>\n",
       "      <td>1</td>\n",
       "    </tr>\n",
       "    <tr>\n",
       "      <th>3</th>\n",
       "      <td>trump obsessed even obamas name coded website...</td>\n",
       "      <td>christmas daydonald trump announced wouldback ...</td>\n",
       "      <td>News</td>\n",
       "      <td>December 29, 2017</td>\n",
       "      <td>1</td>\n",
       "    </tr>\n",
       "    <tr>\n",
       "      <th>4</th>\n",
       "      <td>pope francis called donald trump christmas sp...</td>\n",
       "      <td>pope francis used annual christmas day message...</td>\n",
       "      <td>News</td>\n",
       "      <td>December 25, 2017</td>\n",
       "      <td>1</td>\n",
       "    </tr>\n",
       "  </tbody>\n",
       "</table>\n",
       "</div>"
      ],
      "text/plain": [
       "                                               title  \\\n",
       "0   donald trump sends embarrassing new years eve...   \n",
       "1   drunk bragging trump staffer started russian ...   \n",
       "2   sheriff david clarke becomes internet joke th...   \n",
       "3   trump obsessed even obamas name coded website...   \n",
       "4   pope francis called donald trump christmas sp...   \n",
       "\n",
       "                                                text subject  \\\n",
       "0  donald trump wish americans happy new year lea...    News   \n",
       "1  house intelligence committee chairman devin nu...    News   \n",
       "2  fridayrevealed former milwaukee sheriff david ...    News   \n",
       "3  christmas daydonald trump announced wouldback ...    News   \n",
       "4  pope francis used annual christmas day message...    News   \n",
       "\n",
       "                date  label  \n",
       "0  December 31, 2017      1  \n",
       "1  December 31, 2017      1  \n",
       "2  December 30, 2017      1  \n",
       "3  December 29, 2017      1  \n",
       "4  December 25, 2017      1  "
      ]
     },
     "execution_count": 15,
     "metadata": {},
     "output_type": "execute_result"
    }
   ],
   "source": [
    "data.head()"
   ]
  },
  {
   "cell_type": "code",
   "execution_count": 16,
   "id": "42028257",
   "metadata": {},
   "outputs": [],
   "source": [
    "data.drop(['subject','date'],axis=1,inplace=True)"
   ]
  },
  {
   "cell_type": "code",
   "execution_count": 17,
   "id": "c2efa6af",
   "metadata": {},
   "outputs": [],
   "source": [
    "from nltk.stem.porter import PorterStemmer\n",
    "port = PorterStemmer()\n",
    "def lemetazation(x):\n",
    "    x = ' '.join([port.stem(word) for word in x.split(' ')])\n",
    "    return x\n",
    "\n",
    "    "
   ]
  },
  {
   "cell_type": "code",
   "execution_count": 18,
   "id": "e0dece50",
   "metadata": {},
   "outputs": [],
   "source": [
    "data.text =  data.text.apply(lemetazation)\n",
    "data.title =  data.title.apply(lemetazation)"
   ]
  },
  {
   "cell_type": "code",
   "execution_count": 19,
   "id": "40695bb6",
   "metadata": {},
   "outputs": [
    {
     "data": {
      "text/html": [
       "<div>\n",
       "<style scoped>\n",
       "    .dataframe tbody tr th:only-of-type {\n",
       "        vertical-align: middle;\n",
       "    }\n",
       "\n",
       "    .dataframe tbody tr th {\n",
       "        vertical-align: top;\n",
       "    }\n",
       "\n",
       "    .dataframe thead th {\n",
       "        text-align: right;\n",
       "    }\n",
       "</style>\n",
       "<table border=\"1\" class=\"dataframe\">\n",
       "  <thead>\n",
       "    <tr style=\"text-align: right;\">\n",
       "      <th></th>\n",
       "      <th>title</th>\n",
       "      <th>text</th>\n",
       "      <th>label</th>\n",
       "    </tr>\n",
       "  </thead>\n",
       "  <tbody>\n",
       "    <tr>\n",
       "      <th>0</th>\n",
       "      <td>donald trump send embarrass new year eve mess...</td>\n",
       "      <td>donald trump wish american happi new year leav...</td>\n",
       "      <td>1</td>\n",
       "    </tr>\n",
       "    <tr>\n",
       "      <th>1</th>\n",
       "      <td>drunk brag trump staffer start russian collus...</td>\n",
       "      <td>hous intellig committe chairman devin nune go ...</td>\n",
       "      <td>1</td>\n",
       "    </tr>\n",
       "    <tr>\n",
       "      <th>2</th>\n",
       "      <td>sheriff david clark becom internet joke threa...</td>\n",
       "      <td>fridayrev former milwauke sheriff david clarke...</td>\n",
       "      <td>1</td>\n",
       "    </tr>\n",
       "    <tr>\n",
       "      <th>3</th>\n",
       "      <td>trump obsess even obama name code websiteimag</td>\n",
       "      <td>christma daydonald trump announc wouldback wor...</td>\n",
       "      <td>1</td>\n",
       "    </tr>\n",
       "    <tr>\n",
       "      <th>4</th>\n",
       "      <td>pope franci call donald trump christma speech</td>\n",
       "      <td>pope franci use annual christma day messag reb...</td>\n",
       "      <td>1</td>\n",
       "    </tr>\n",
       "  </tbody>\n",
       "</table>\n",
       "</div>"
      ],
      "text/plain": [
       "                                               title  \\\n",
       "0   donald trump send embarrass new year eve mess...   \n",
       "1   drunk brag trump staffer start russian collus...   \n",
       "2   sheriff david clark becom internet joke threa...   \n",
       "3     trump obsess even obama name code websiteimag    \n",
       "4      pope franci call donald trump christma speech   \n",
       "\n",
       "                                                text  label  \n",
       "0  donald trump wish american happi new year leav...      1  \n",
       "1  hous intellig committe chairman devin nune go ...      1  \n",
       "2  fridayrev former milwauke sheriff david clarke...      1  \n",
       "3  christma daydonald trump announc wouldback wor...      1  \n",
       "4  pope franci use annual christma day messag reb...      1  "
      ]
     },
     "execution_count": 19,
     "metadata": {},
     "output_type": "execute_result"
    }
   ],
   "source": [
    "data.head()"
   ]
  },
  {
   "cell_type": "code",
   "execution_count": 20,
   "id": "2888321a",
   "metadata": {
    "execution": {
     "iopub.execute_input": "2022-05-25T13:15:00.775677Z",
     "iopub.status.busy": "2022-05-25T13:15:00.775387Z",
     "iopub.status.idle": "2022-05-25T13:15:00.790211Z",
     "shell.execute_reply": "2022-05-25T13:15:00.789269Z"
    },
    "papermill": {
     "duration": 0.064356,
     "end_time": "2022-05-25T13:15:00.792375",
     "exception": false,
     "start_time": "2022-05-25T13:15:00.728019",
     "status": "completed"
    },
    "tags": []
   },
   "outputs": [],
   "source": [
    "data['content'] = data.title + ' '+ data.text"
   ]
  },
  {
   "cell_type": "code",
   "execution_count": 21,
   "id": "3ff4fcc9",
   "metadata": {
    "execution": {
     "iopub.execute_input": "2022-05-25T13:15:00.887292Z",
     "iopub.status.busy": "2022-05-25T13:15:00.886676Z",
     "iopub.status.idle": "2022-05-25T13:15:00.903650Z",
     "shell.execute_reply": "2022-05-25T13:15:00.902878Z"
    },
    "papermill": {
     "duration": 0.066474,
     "end_time": "2022-05-25T13:15:00.906013",
     "exception": false,
     "start_time": "2022-05-25T13:15:00.839539",
     "status": "completed"
    },
    "tags": []
   },
   "outputs": [],
   "source": [
    "data.drop(['title'] , axis = 1 , inplace = True)"
   ]
  },
  {
   "cell_type": "code",
   "execution_count": 22,
   "id": "336fea07",
   "metadata": {
    "execution": {
     "iopub.execute_input": "2022-05-25T13:15:00.998750Z",
     "iopub.status.busy": "2022-05-25T13:15:00.998157Z",
     "iopub.status.idle": "2022-05-25T13:15:01.009857Z",
     "shell.execute_reply": "2022-05-25T13:15:01.008871Z"
    },
    "papermill": {
     "duration": 0.060911,
     "end_time": "2022-05-25T13:15:01.012315",
     "exception": false,
     "start_time": "2022-05-25T13:15:00.951404",
     "status": "completed"
    },
    "tags": []
   },
   "outputs": [
    {
     "data": {
      "text/html": [
       "<div>\n",
       "<style scoped>\n",
       "    .dataframe tbody tr th:only-of-type {\n",
       "        vertical-align: middle;\n",
       "    }\n",
       "\n",
       "    .dataframe tbody tr th {\n",
       "        vertical-align: top;\n",
       "    }\n",
       "\n",
       "    .dataframe thead th {\n",
       "        text-align: right;\n",
       "    }\n",
       "</style>\n",
       "<table border=\"1\" class=\"dataframe\">\n",
       "  <thead>\n",
       "    <tr style=\"text-align: right;\">\n",
       "      <th></th>\n",
       "      <th>text</th>\n",
       "      <th>label</th>\n",
       "      <th>content</th>\n",
       "    </tr>\n",
       "  </thead>\n",
       "  <tbody>\n",
       "    <tr>\n",
       "      <th>0</th>\n",
       "      <td>donald trump wish american happi new year leav...</td>\n",
       "      <td>1</td>\n",
       "      <td>donald trump send embarrass new year eve mess...</td>\n",
       "    </tr>\n",
       "    <tr>\n",
       "      <th>1</th>\n",
       "      <td>hous intellig committe chairman devin nune go ...</td>\n",
       "      <td>1</td>\n",
       "      <td>drunk brag trump staffer start russian collus...</td>\n",
       "    </tr>\n",
       "    <tr>\n",
       "      <th>2</th>\n",
       "      <td>fridayrev former milwauke sheriff david clarke...</td>\n",
       "      <td>1</td>\n",
       "      <td>sheriff david clark becom internet joke threa...</td>\n",
       "    </tr>\n",
       "    <tr>\n",
       "      <th>3</th>\n",
       "      <td>christma daydonald trump announc wouldback wor...</td>\n",
       "      <td>1</td>\n",
       "      <td>trump obsess even obama name code websiteimag...</td>\n",
       "    </tr>\n",
       "    <tr>\n",
       "      <th>4</th>\n",
       "      <td>pope franci use annual christma day messag reb...</td>\n",
       "      <td>1</td>\n",
       "      <td>pope franci call donald trump christma speech...</td>\n",
       "    </tr>\n",
       "  </tbody>\n",
       "</table>\n",
       "</div>"
      ],
      "text/plain": [
       "                                                text  label  \\\n",
       "0  donald trump wish american happi new year leav...      1   \n",
       "1  hous intellig committe chairman devin nune go ...      1   \n",
       "2  fridayrev former milwauke sheriff david clarke...      1   \n",
       "3  christma daydonald trump announc wouldback wor...      1   \n",
       "4  pope franci use annual christma day messag reb...      1   \n",
       "\n",
       "                                             content  \n",
       "0   donald trump send embarrass new year eve mess...  \n",
       "1   drunk brag trump staffer start russian collus...  \n",
       "2   sheriff david clark becom internet joke threa...  \n",
       "3   trump obsess even obama name code websiteimag...  \n",
       "4   pope franci call donald trump christma speech...  "
      ]
     },
     "execution_count": 22,
     "metadata": {},
     "output_type": "execute_result"
    }
   ],
   "source": [
    "data.head()"
   ]
  },
  {
   "cell_type": "code",
   "execution_count": 23,
   "id": "00df8787",
   "metadata": {},
   "outputs": [],
   "source": [
    "data=data.sample(frac=1)"
   ]
  },
  {
   "cell_type": "code",
   "execution_count": 24,
   "id": "e72a9920",
   "metadata": {
    "execution": {
     "iopub.execute_input": "2022-05-25T13:16:22.698320Z",
     "iopub.status.busy": "2022-05-25T13:16:22.697819Z",
     "iopub.status.idle": "2022-05-25T13:16:22.705069Z",
     "shell.execute_reply": "2022-05-25T13:16:22.704301Z"
    },
    "papermill": {
     "duration": 0.059758,
     "end_time": "2022-05-25T13:16:22.707313",
     "exception": false,
     "start_time": "2022-05-25T13:16:22.647555",
     "status": "completed"
    },
    "tags": []
   },
   "outputs": [],
   "source": [
    "y = data.label\n",
    "data.drop(['label'] , axis =1 , inplace =True)"
   ]
  },
  {
   "cell_type": "code",
   "execution_count": 25,
   "id": "417ee6b6",
   "metadata": {
    "execution": {
     "iopub.execute_input": "2022-05-25T13:16:22.806405Z",
     "iopub.status.busy": "2022-05-25T13:16:22.805935Z",
     "iopub.status.idle": "2022-05-25T13:16:22.810759Z",
     "shell.execute_reply": "2022-05-25T13:16:22.810070Z"
    },
    "papermill": {
     "duration": 0.056074,
     "end_time": "2022-05-25T13:16:22.812866",
     "exception": false,
     "start_time": "2022-05-25T13:16:22.756792",
     "status": "completed"
    },
    "tags": []
   },
   "outputs": [],
   "source": [
    "X = data.content.values\n",
    "y = y.values"
   ]
  },
  {
   "cell_type": "code",
   "execution_count": 26,
   "id": "32b54da1",
   "metadata": {
    "execution": {
     "iopub.execute_input": "2022-05-25T13:16:22.912216Z",
     "iopub.status.busy": "2022-05-25T13:16:22.911663Z",
     "iopub.status.idle": "2022-05-25T13:16:23.711255Z",
     "shell.execute_reply": "2022-05-25T13:16:23.710409Z"
    },
    "papermill": {
     "duration": 0.853555,
     "end_time": "2022-05-25T13:16:23.713816",
     "exception": false,
     "start_time": "2022-05-25T13:16:22.860261",
     "status": "completed"
    },
    "tags": []
   },
   "outputs": [],
   "source": [
    "from sklearn.feature_extraction.text import TfidfVectorizer\n",
    "vectorizer = TfidfVectorizer()\n",
    "vectorizer.fit(X)\n",
    "X = vectorizer.transform(X)"
   ]
  },
  {
   "cell_type": "code",
   "execution_count": 27,
   "id": "9b435493",
   "metadata": {
    "execution": {
     "iopub.execute_input": "2022-05-25T13:16:23.813242Z",
     "iopub.status.busy": "2022-05-25T13:16:23.812925Z",
     "iopub.status.idle": "2022-05-25T13:16:23.821744Z",
     "shell.execute_reply": "2022-05-25T13:16:23.820634Z"
    },
    "papermill": {
     "duration": 0.061523,
     "end_time": "2022-05-25T13:16:23.824304",
     "exception": false,
     "start_time": "2022-05-25T13:16:23.762781",
     "status": "completed"
    },
    "tags": []
   },
   "outputs": [
    {
     "name": "stdout",
     "output_type": "stream",
     "text": [
      "  (0, 1061724)\t0.06266946797867563\n",
      "  (0, 1061249)\t0.08983642492567998\n",
      "  (0, 1052691)\t0.02045842008088463\n",
      "  (0, 1047419)\t0.04043731437039443\n",
      "  (0, 1045112)\t0.027077412804708365\n",
      "  (0, 1038239)\t0.05315737797641262\n",
      "  (0, 1037571)\t0.042301936506262273\n",
      "  (0, 1035985)\t0.0808796059019499\n",
      "  (0, 1034457)\t0.022164489291210683\n",
      "  (0, 1032836)\t0.02656651666299578\n",
      "  (0, 1023326)\t0.08983642492567998\n",
      "  (0, 1021755)\t0.02701842743851072\n",
      "  (0, 1019675)\t0.040669164535099354\n",
      "  (0, 1009541)\t0.04756726200750748\n",
      "  (0, 1007001)\t0.022045863762355396\n",
      "  (0, 1001300)\t0.06281637011560808\n",
      "  (0, 991561)\t0.05162606305205291\n",
      "  (0, 990208)\t0.03818046590691085\n",
      "  (0, 989416)\t0.0464586428351225\n",
      "  (0, 985309)\t0.09736749436280312\n",
      "  (0, 984011)\t0.0306053317279481\n",
      "  (0, 982096)\t0.2186491622022045\n",
      "  (0, 974055)\t0.05684588344324157\n",
      "  (0, 970350)\t0.040202616297872154\n",
      "  (0, 968359)\t0.08983642492567998\n",
      "  :\t:\n",
      "  (44897, 55072)\t0.03901774588253\n",
      "  (44897, 54595)\t0.014346516964687453\n",
      "  (44897, 53630)\t0.05046488777623154\n",
      "  (44897, 53411)\t0.02753248839011947\n",
      "  (44897, 47093)\t0.04155301493972103\n",
      "  (44897, 47082)\t0.05046488777623154\n",
      "  (44897, 47011)\t0.05537969183925572\n",
      "  (44897, 45301)\t0.05046488777623154\n",
      "  (44897, 45176)\t0.010159050092022566\n",
      "  (44897, 44174)\t0.03889756412126486\n",
      "  (44897, 43664)\t0.04094146831135815\n",
      "  (44897, 34790)\t0.03275152333782128\n",
      "  (44897, 28759)\t0.05046488777623154\n",
      "  (44897, 26309)\t0.05046488777623154\n",
      "  (44897, 25418)\t0.05046488777623154\n",
      "  (44897, 25282)\t0.04729041462127374\n",
      "  (44897, 24386)\t0.05046488777623154\n",
      "  (44897, 24178)\t0.04562533318883855\n",
      "  (44897, 22219)\t0.05046488777623154\n",
      "  (44897, 20343)\t0.09024726852595517\n",
      "  (44897, 15133)\t0.05046488777623154\n",
      "  (44897, 14993)\t0.05046488777623154\n",
      "  (44897, 14852)\t0.048607940021035245\n",
      "  (44897, 14209)\t0.12215674726320169\n",
      "  (44897, 13007)\t0.018012899788437314\n"
     ]
    }
   ],
   "source": [
    "print(X)"
   ]
  },
  {
   "cell_type": "code",
   "execution_count": 29,
   "id": "42b7d419",
   "metadata": {
    "execution": {
     "iopub.execute_input": "2022-05-25T13:16:23.923588Z",
     "iopub.status.busy": "2022-05-25T13:16:23.923312Z",
     "iopub.status.idle": "2022-05-25T13:16:23.942753Z",
     "shell.execute_reply": "2022-05-25T13:16:23.941975Z"
    },
    "papermill": {
     "duration": 0.072887,
     "end_time": "2022-05-25T13:16:23.945221",
     "exception": false,
     "start_time": "2022-05-25T13:16:23.872334",
     "status": "completed"
    },
    "tags": []
   },
   "outputs": [],
   "source": [
    "from sklearn.model_selection import train_test_split\n",
    "X_train , X_test , y_train, y_test = train_test_split(X , y,test_size=0.3, stratify = y)"
   ]
  },
  {
   "cell_type": "code",
   "execution_count": 30,
   "id": "3a26a7fc",
   "metadata": {
    "execution": {
     "iopub.execute_input": "2022-05-25T13:16:24.346638Z",
     "iopub.status.busy": "2022-05-25T13:16:24.346278Z",
     "iopub.status.idle": "2022-05-25T13:16:24.994504Z",
     "shell.execute_reply": "2022-05-25T13:16:24.993639Z"
    },
    "papermill": {
     "duration": 0.701729,
     "end_time": "2022-05-25T13:16:24.997541",
     "exception": false,
     "start_time": "2022-05-25T13:16:24.295812",
     "status": "completed"
    },
    "tags": []
   },
   "outputs": [
    {
     "data": {
      "text/plain": [
       "LogisticRegression()"
      ]
     },
     "execution_count": 30,
     "metadata": {},
     "output_type": "execute_result"
    }
   ],
   "source": [
    "from sklearn.linear_model import LogisticRegression\n",
    "model=LogisticRegression()\n",
    "model.fit(X_train,y_train)"
   ]
  },
  {
   "cell_type": "code",
   "execution_count": 31,
   "id": "a9fe716d",
   "metadata": {
    "execution": {
     "iopub.execute_input": "2022-05-25T13:16:25.170968Z",
     "iopub.status.busy": "2022-05-25T13:16:25.170695Z",
     "iopub.status.idle": "2022-05-25T13:16:25.175267Z",
     "shell.execute_reply": "2022-05-25T13:16:25.174367Z"
    },
    "papermill": {
     "duration": 0.055468,
     "end_time": "2022-05-25T13:16:25.177324",
     "exception": false,
     "start_time": "2022-05-25T13:16:25.121856",
     "status": "completed"
    },
    "tags": []
   },
   "outputs": [],
   "source": [
    "y_pred = model.predict(X_test)"
   ]
  },
  {
   "cell_type": "code",
   "execution_count": 32,
   "id": "96e1bb89",
   "metadata": {
    "execution": {
     "iopub.execute_input": "2022-05-25T13:16:25.274816Z",
     "iopub.status.busy": "2022-05-25T13:16:25.274522Z",
     "iopub.status.idle": "2022-05-25T13:16:25.281044Z",
     "shell.execute_reply": "2022-05-25T13:16:25.280232Z"
    },
    "papermill": {
     "duration": 0.057436,
     "end_time": "2022-05-25T13:16:25.282963",
     "exception": false,
     "start_time": "2022-05-25T13:16:25.225527",
     "status": "completed"
    },
    "tags": []
   },
   "outputs": [],
   "source": [
    "from sklearn.metrics import accuracy_score,precision_score,recall_score,f1_score"
   ]
  },
  {
   "cell_type": "code",
   "execution_count": 33,
   "id": "3f3d059a",
   "metadata": {},
   "outputs": [
    {
     "data": {
      "text/plain": [
       "[0.9793615441722346,\n",
       " 0.9786391285896167,\n",
       " 0.9819730305180979,\n",
       " 0.9803032450049597]"
      ]
     },
     "execution_count": 33,
     "metadata": {},
     "output_type": "execute_result"
    }
   ],
   "source": [
    "model_scores={}\n",
    "model_scores[\"Logistic Regression\"]=[]\n",
    "model_scores[\"Logistic Regression\"].append(accuracy_score(y_test,y_pred))\n",
    "model_scores[\"Logistic Regression\"].append(precision_score(y_test,y_pred))\n",
    "model_scores[\"Logistic Regression\"].append(recall_score(y_test,y_pred))\n",
    "model_scores[\"Logistic Regression\"].append(f1_score(y_test,y_pred))\n",
    "model_scores[\"Logistic Regression\"]"
   ]
  },
  {
   "cell_type": "code",
   "execution_count": 34,
   "id": "522bd76b",
   "metadata": {
    "papermill": {
     "duration": 0.049285,
     "end_time": "2022-05-25T13:16:25.821454",
     "exception": false,
     "start_time": "2022-05-25T13:16:25.772169",
     "status": "completed"
    },
    "tags": []
   },
   "outputs": [],
   "source": [
    "from sklearn.ensemble import RandomForestClassifier\n",
    "model1=RandomForestClassifier(n_estimators=200)\n"
   ]
  },
  {
   "cell_type": "code",
   "execution_count": 35,
   "id": "48e73873",
   "metadata": {},
   "outputs": [
    {
     "data": {
      "text/plain": [
       "RandomForestClassifier(n_estimators=200)"
      ]
     },
     "execution_count": 35,
     "metadata": {},
     "output_type": "execute_result"
    }
   ],
   "source": [
    "model1.fit(X_train,y_train)"
   ]
  },
  {
   "cell_type": "code",
   "execution_count": 36,
   "id": "b91524f9",
   "metadata": {},
   "outputs": [
    {
     "data": {
      "text/plain": [
       "[0.9766889383815888,\n",
       " 0.9793476712718986,\n",
       " 0.9760113555713272,\n",
       " 0.9776766671406227]"
      ]
     },
     "execution_count": 36,
     "metadata": {},
     "output_type": "execute_result"
    }
   ],
   "source": [
    "y_pred2=model1.predict(X_test)\n",
    "model_scores[\"Random Forest Classifier\"]=[]\n",
    "model_scores[\"Random Forest Classifier\"].append(accuracy_score(y_test,y_pred2))\n",
    "model_scores[\"Random Forest Classifier\"].append(precision_score(y_test,y_pred2))\n",
    "model_scores[\"Random Forest Classifier\"].append(recall_score(y_test,y_pred2))\n",
    "model_scores[\"Random Forest Classifier\"].append(f1_score(y_test,y_pred2))\n",
    "model_scores[\"Random Forest Classifier\"]"
   ]
  },
  {
   "cell_type": "code",
   "execution_count": 37,
   "id": "e9a4ee62",
   "metadata": {},
   "outputs": [
    {
     "data": {
      "text/plain": [
       "KNeighborsClassifier(n_neighbors=1)"
      ]
     },
     "execution_count": 37,
     "metadata": {},
     "output_type": "execute_result"
    }
   ],
   "source": [
    "from sklearn.neighbors import KNeighborsClassifier\n",
    "knn_model=KNeighborsClassifier(n_neighbors=1)\n",
    "knn_model.fit(X_train,y_train)"
   ]
  },
  {
   "cell_type": "code",
   "execution_count": 38,
   "id": "38746a35",
   "metadata": {},
   "outputs": [
    {
     "data": {
      "text/plain": [
       "[0.575872308834447, 0.552276295133438, 0.998722498225692, 0.7112458933535507]"
      ]
     },
     "execution_count": 38,
     "metadata": {},
     "output_type": "execute_result"
    }
   ],
   "source": [
    "y_pred3=knn_model.predict(X_test)\n",
    "model_scores[\"K-Nearest Neighbors Classifier\"]=[]\n",
    "model_scores[\"K-Nearest Neighbors Classifier\"].append(accuracy_score(y_test,y_pred3))\n",
    "model_scores[\"K-Nearest Neighbors Classifier\"].append(precision_score(y_test,y_pred3))\n",
    "model_scores[\"K-Nearest Neighbors Classifier\"].append(recall_score(y_test,y_pred3))\n",
    "model_scores[\"K-Nearest Neighbors Classifier\"].append(f1_score(y_test,y_pred3))\n",
    "model_scores[\"K-Nearest Neighbors Classifier\"]"
   ]
  },
  {
   "cell_type": "code",
   "execution_count": 39,
   "id": "badfebfb",
   "metadata": {},
   "outputs": [
    {
     "data": {
      "text/plain": [
       "[0.9462509279881217,\n",
       " 0.9391413088786995,\n",
       " 0.9594038325053229,\n",
       " 0.9491644431961803]"
      ]
     },
     "execution_count": 39,
     "metadata": {},
     "output_type": "execute_result"
    }
   ],
   "source": [
    "from sklearn.tree import DecisionTreeClassifier\n",
    "dtc = DecisionTreeClassifier(criterion='entropy')\n",
    "dtc.fit(X_train, y_train)\n",
    "y_pred4=dtc.predict(X_test)\n",
    "model_scores[\"Decision Tree Classifier\"]=[]\n",
    "model_scores[\"Decision Tree Classifier\"].append(accuracy_score(y_test,y_pred4))\n",
    "model_scores[\"Decision Tree Classifier\"].append(precision_score(y_test,y_pred4))\n",
    "model_scores[\"Decision Tree Classifier\"].append(recall_score(y_test,y_pred4))\n",
    "model_scores[\"Decision Tree Classifier\"].append(f1_score(y_test,y_pred4))\n",
    "model_scores[\"Decision Tree Classifier\"]"
   ]
  },
  {
   "cell_type": "code",
   "execution_count": 40,
   "id": "ce5e3da5",
   "metadata": {},
   "outputs": [
    {
     "data": {
      "text/plain": [
       "LinearSVC()"
      ]
     },
     "execution_count": 40,
     "metadata": {},
     "output_type": "execute_result"
    }
   ],
   "source": [
    "from sklearn.svm import LinearSVC\n",
    "svc_model=LinearSVC()\n",
    "svc_model.fit(X_train,y_train)"
   ]
  },
  {
   "cell_type": "code",
   "execution_count": 41,
   "id": "27544769",
   "metadata": {},
   "outputs": [
    {
     "data": {
      "text/plain": [
       "[0.9907943578322197,\n",
       " 0.9898089171974522,\n",
       " 0.9926188786373314,\n",
       " 0.9912119064493267]"
      ]
     },
     "execution_count": 41,
     "metadata": {},
     "output_type": "execute_result"
    }
   ],
   "source": [
    "y_pred5=svc_model.predict(X_test)\n",
    "model_scores[\"Linear SVM Classifier\"]=[]\n",
    "model_scores[\"Linear SVM Classifier\"].append(accuracy_score(y_test,y_pred5))\n",
    "model_scores[\"Linear SVM Classifier\"].append(precision_score(y_test,y_pred5))\n",
    "model_scores[\"Linear SVM Classifier\"].append(recall_score(y_test,y_pred5))\n",
    "model_scores[\"Linear SVM Classifier\"].append(f1_score(y_test,y_pred5))\n",
    "model_scores[\"Linear SVM Classifier\"]"
   ]
  },
  {
   "cell_type": "code",
   "execution_count": 42,
   "id": "7108c4a7",
   "metadata": {},
   "outputs": [
    {
     "data": {
      "text/plain": [
       "MultinomialNB()"
      ]
     },
     "execution_count": 42,
     "metadata": {},
     "output_type": "execute_result"
    }
   ],
   "source": [
    "from sklearn.naive_bayes import MultinomialNB\n",
    "clf=MultinomialNB()\n",
    "clf.fit(X_train,y_train)"
   ]
  },
  {
   "cell_type": "code",
   "execution_count": 43,
   "id": "295ba611",
   "metadata": {},
   "outputs": [
    {
     "data": {
      "text/plain": [
       "[0.9478841870824053,\n",
       " 0.9332058461958749,\n",
       " 0.9697657913413769,\n",
       " 0.9511346234163998]"
      ]
     },
     "execution_count": 43,
     "metadata": {},
     "output_type": "execute_result"
    }
   ],
   "source": [
    "y_pred6=clf.predict(X_test)\n",
    "model_scores[\"Naive-bayes Classifier\"]=[]\n",
    "model_scores[\"Naive-bayes Classifier\"].append(accuracy_score(y_test,y_pred6))\n",
    "model_scores[\"Naive-bayes Classifier\"].append(precision_score(y_test,y_pred6))\n",
    "model_scores[\"Naive-bayes Classifier\"].append(recall_score(y_test,y_pred6))\n",
    "model_scores[\"Naive-bayes Classifier\"].append(f1_score(y_test,y_pred6))\n",
    "model_scores[\"Naive-bayes Classifier\"]"
   ]
  },
  {
   "cell_type": "code",
   "execution_count": 44,
   "id": "26d3b1f6",
   "metadata": {},
   "outputs": [],
   "source": [
    "from sklearn.ensemble import BaggingClassifier\n",
    "bagging = BaggingClassifier(LinearSVC(),\n",
    "                             max_samples=0.5, max_features=0.5)"
   ]
  },
  {
   "cell_type": "code",
   "execution_count": 45,
   "id": "3ba6b51c",
   "metadata": {},
   "outputs": [
    {
     "data": {
      "text/plain": [
       "BaggingClassifier(base_estimator=LinearSVC(), max_features=0.5, max_samples=0.5)"
      ]
     },
     "execution_count": 45,
     "metadata": {},
     "output_type": "execute_result"
    }
   ],
   "source": [
    "bagging.fit(X_train,y_train)"
   ]
  },
  {
   "cell_type": "code",
   "execution_count": 46,
   "id": "96c764c7",
   "metadata": {},
   "outputs": [
    {
     "data": {
      "text/plain": [
       "[0.9808463251670378,\n",
       " 0.9836112298703149,\n",
       " 0.9797019162526615,\n",
       " 0.9816526809842129]"
      ]
     },
     "execution_count": 46,
     "metadata": {},
     "output_type": "execute_result"
    }
   ],
   "source": [
    "y_pred7=bagging.predict(X_test)\n",
    "model_scores[\"Bagging Classifier\"]=[]\n",
    "model_scores[\"Bagging Classifier\"].append(accuracy_score(y_test,y_pred7))\n",
    "model_scores[\"Bagging Classifier\"].append(precision_score(y_test,y_pred7))\n",
    "model_scores[\"Bagging Classifier\"].append(recall_score(y_test,y_pred7))\n",
    "model_scores[\"Bagging Classifier\"].append(f1_score(y_test,y_pred7))\n",
    "model_scores[\"Bagging Classifier\"]"
   ]
  },
  {
   "cell_type": "code",
   "execution_count": 47,
   "id": "648cc762",
   "metadata": {},
   "outputs": [
    {
     "data": {
      "text/plain": [
       "AdaBoostClassifier(n_estimators=100)"
      ]
     },
     "execution_count": 47,
     "metadata": {},
     "output_type": "execute_result"
    }
   ],
   "source": [
    "from sklearn.ensemble import AdaBoostClassifier\n",
    "clf1 = AdaBoostClassifier(n_estimators=100)\n",
    "clf1.fit(X_train,y_train)"
   ]
  },
  {
   "cell_type": "code",
   "execution_count": 48,
   "id": "83c9cc20",
   "metadata": {},
   "outputs": [
    {
     "data": {
      "text/plain": [
       "[0.9650334075723831,\n",
       " 0.9632187147688839,\n",
       " 0.9701916252661462,\n",
       " 0.9666925959974542]"
      ]
     },
     "execution_count": 48,
     "metadata": {},
     "output_type": "execute_result"
    }
   ],
   "source": [
    "y_pred8=clf1.predict(X_test)\n",
    "model_scores[\"AdaBoost Classifier\"]=[]\n",
    "model_scores[\"AdaBoost Classifier\"].append(accuracy_score(y_test,y_pred8))\n",
    "model_scores[\"AdaBoost Classifier\"].append(precision_score(y_test,y_pred8))\n",
    "model_scores[\"AdaBoost Classifier\"].append(recall_score(y_test,y_pred8))\n",
    "model_scores[\"AdaBoost Classifier\"].append(f1_score(y_test,y_pred8))\n",
    "model_scores[\"AdaBoost Classifier\"]"
   ]
  },
  {
   "cell_type": "code",
   "execution_count": 49,
   "id": "0149cda9",
   "metadata": {},
   "outputs": [
    {
     "data": {
      "text/plain": [
       "GradientBoostingClassifier(learning_rate=1.0, max_depth=1)"
      ]
     },
     "execution_count": 49,
     "metadata": {},
     "output_type": "execute_result"
    }
   ],
   "source": [
    "from sklearn.ensemble import GradientBoostingClassifier\n",
    "clf2=GradientBoostingClassifier(n_estimators=100, learning_rate=1.0,max_depth=1)\n",
    "clf2.fit(X_train,y_train)"
   ]
  },
  {
   "cell_type": "code",
   "execution_count": 50,
   "id": "cf009c91",
   "metadata": {},
   "outputs": [
    {
     "data": {
      "text/plain": [
       "[0.9630289532293986,\n",
       " 0.9643921123563626,\n",
       " 0.9649396735273243,\n",
       " 0.9646658152405279]"
      ]
     },
     "execution_count": 50,
     "metadata": {},
     "output_type": "execute_result"
    }
   ],
   "source": [
    "y_pred9=clf2.predict(X_test)\n",
    "model_scores[\"XGBoost Classifier\"]=[]\n",
    "model_scores[\"XGBoost Classifier\"].append(accuracy_score(y_test,y_pred9))\n",
    "model_scores[\"XGBoost Classifier\"].append(precision_score(y_test,y_pred9))\n",
    "model_scores[\"XGBoost Classifier\"].append(recall_score(y_test,y_pred9))\n",
    "model_scores[\"XGBoost Classifier\"].append(f1_score(y_test,y_pred9))\n",
    "model_scores[\"XGBoost Classifier\"]"
   ]
  },
  {
   "cell_type": "code",
   "execution_count": 51,
   "id": "62d8eb5c",
   "metadata": {},
   "outputs": [],
   "source": [
    "model_compare = pd.DataFrame(model_scores, index=['accuracy','precision','recall','f1-score'])"
   ]
  },
  {
   "cell_type": "code",
   "execution_count": 52,
   "id": "84ea5ecb",
   "metadata": {},
   "outputs": [
    {
     "data": {
      "text/html": [
       "<div>\n",
       "<style scoped>\n",
       "    .dataframe tbody tr th:only-of-type {\n",
       "        vertical-align: middle;\n",
       "    }\n",
       "\n",
       "    .dataframe tbody tr th {\n",
       "        vertical-align: top;\n",
       "    }\n",
       "\n",
       "    .dataframe thead th {\n",
       "        text-align: right;\n",
       "    }\n",
       "</style>\n",
       "<table border=\"1\" class=\"dataframe\">\n",
       "  <thead>\n",
       "    <tr style=\"text-align: right;\">\n",
       "      <th></th>\n",
       "      <th>Logistic Regression</th>\n",
       "      <th>Random Forest Classifier</th>\n",
       "      <th>K-Nearest Neighbors Classifier</th>\n",
       "      <th>Decision Tree Classifier</th>\n",
       "      <th>Linear SVM Classifier</th>\n",
       "      <th>Naive-bayes Classifier</th>\n",
       "      <th>Bagging Classifier</th>\n",
       "      <th>AdaBoost Classifier</th>\n",
       "      <th>XGBoost Classifier</th>\n",
       "    </tr>\n",
       "  </thead>\n",
       "  <tbody>\n",
       "    <tr>\n",
       "      <th>accuracy</th>\n",
       "      <td>0.979362</td>\n",
       "      <td>0.976689</td>\n",
       "      <td>0.575872</td>\n",
       "      <td>0.946251</td>\n",
       "      <td>0.990794</td>\n",
       "      <td>0.947884</td>\n",
       "      <td>0.980846</td>\n",
       "      <td>0.965033</td>\n",
       "      <td>0.963029</td>\n",
       "    </tr>\n",
       "    <tr>\n",
       "      <th>precision</th>\n",
       "      <td>0.978639</td>\n",
       "      <td>0.979348</td>\n",
       "      <td>0.552276</td>\n",
       "      <td>0.939141</td>\n",
       "      <td>0.989809</td>\n",
       "      <td>0.933206</td>\n",
       "      <td>0.983611</td>\n",
       "      <td>0.963219</td>\n",
       "      <td>0.964392</td>\n",
       "    </tr>\n",
       "    <tr>\n",
       "      <th>recall</th>\n",
       "      <td>0.981973</td>\n",
       "      <td>0.976011</td>\n",
       "      <td>0.998722</td>\n",
       "      <td>0.959404</td>\n",
       "      <td>0.992619</td>\n",
       "      <td>0.969766</td>\n",
       "      <td>0.979702</td>\n",
       "      <td>0.970192</td>\n",
       "      <td>0.964940</td>\n",
       "    </tr>\n",
       "    <tr>\n",
       "      <th>f1-score</th>\n",
       "      <td>0.980303</td>\n",
       "      <td>0.977677</td>\n",
       "      <td>0.711246</td>\n",
       "      <td>0.949164</td>\n",
       "      <td>0.991212</td>\n",
       "      <td>0.951135</td>\n",
       "      <td>0.981653</td>\n",
       "      <td>0.966693</td>\n",
       "      <td>0.964666</td>\n",
       "    </tr>\n",
       "  </tbody>\n",
       "</table>\n",
       "</div>"
      ],
      "text/plain": [
       "           Logistic Regression  Random Forest Classifier  \\\n",
       "accuracy              0.979362                  0.976689   \n",
       "precision             0.978639                  0.979348   \n",
       "recall                0.981973                  0.976011   \n",
       "f1-score              0.980303                  0.977677   \n",
       "\n",
       "           K-Nearest Neighbors Classifier  Decision Tree Classifier  \\\n",
       "accuracy                         0.575872                  0.946251   \n",
       "precision                        0.552276                  0.939141   \n",
       "recall                           0.998722                  0.959404   \n",
       "f1-score                         0.711246                  0.949164   \n",
       "\n",
       "           Linear SVM Classifier  Naive-bayes Classifier  Bagging Classifier  \\\n",
       "accuracy                0.990794                0.947884            0.980846   \n",
       "precision               0.989809                0.933206            0.983611   \n",
       "recall                  0.992619                0.969766            0.979702   \n",
       "f1-score                0.991212                0.951135            0.981653   \n",
       "\n",
       "           AdaBoost Classifier  XGBoost Classifier  \n",
       "accuracy              0.965033            0.963029  \n",
       "precision             0.963219            0.964392  \n",
       "recall                0.970192            0.964940  \n",
       "f1-score              0.966693            0.964666  "
      ]
     },
     "execution_count": 52,
     "metadata": {},
     "output_type": "execute_result"
    }
   ],
   "source": [
    "model_compare"
   ]
  },
  {
   "cell_type": "code",
   "execution_count": null,
   "id": "b47f446f",
   "metadata": {},
   "outputs": [],
   "source": []
  }
 ],
 "metadata": {
  "kernelspec": {
   "display_name": "Python 3",
   "language": "python",
   "name": "python3"
  },
  "language_info": {
   "codemirror_mode": {
    "name": "ipython",
    "version": 3
   },
   "file_extension": ".py",
   "mimetype": "text/x-python",
   "name": "python",
   "nbconvert_exporter": "python",
   "pygments_lexer": "ipython3",
   "version": "3.8.8"
  },
  "papermill": {
   "default_parameters": {},
   "duration": 423.159981,
   "end_time": "2022-05-25T13:16:26.794894",
   "environment_variables": {},
   "exception": null,
   "input_path": "__notebook__.ipynb",
   "output_path": "__notebook__.ipynb",
   "parameters": {},
   "start_time": "2022-05-25T13:09:23.634913",
   "version": "2.3.4"
  }
 },
 "nbformat": 4,
 "nbformat_minor": 5
}
