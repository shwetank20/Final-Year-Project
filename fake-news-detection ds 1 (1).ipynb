{
 "cells": [
  {
   "cell_type": "code",
   "execution_count": 1,
   "id": "c9552774",
   "metadata": {
    "_cell_guid": "b1076dfc-b9ad-4769-8c92-a6c4dae69d19",
    "_uuid": "8f2839f25d086af736a60e9eeb907d3b93b6e0e5",
    "execution": {
     "iopub.execute_input": "2022-05-25T13:09:34.403674Z",
     "iopub.status.busy": "2022-05-25T13:09:34.403051Z",
     "iopub.status.idle": "2022-05-25T13:09:35.606818Z",
     "shell.execute_reply": "2022-05-25T13:09:35.605677Z"
    },
    "papermill": {
     "duration": 1.251657,
     "end_time": "2022-05-25T13:09:35.609581",
     "exception": false,
     "start_time": "2022-05-25T13:09:34.357924",
     "status": "completed"
    },
    "tags": []
   },
   "outputs": [],
   "source": [
    "import numpy as np\n",
    "import pandas as pd\n",
    "import matplotlib.pyplot as plt\n",
    "import seaborn as sns"
   ]
  },
  {
   "cell_type": "code",
   "execution_count": 2,
   "id": "30ca5019",
   "metadata": {
    "execution": {
     "iopub.execute_input": "2022-05-25T13:09:35.695163Z",
     "iopub.status.busy": "2022-05-25T13:09:35.694846Z",
     "iopub.status.idle": "2022-05-25T13:09:39.129962Z",
     "shell.execute_reply": "2022-05-25T13:09:39.128960Z"
    },
    "papermill": {
     "duration": 3.480391,
     "end_time": "2022-05-25T13:09:39.132556",
     "exception": false,
     "start_time": "2022-05-25T13:09:35.652165",
     "status": "completed"
    },
    "tags": []
   },
   "outputs": [],
   "source": [
    "train = pd.read_csv('C:/Users/LAKSHYA/Documents/ML/datasets/fake news/train.csv')\n",
    "test = pd.read_csv('C:/Users/LAKSHYA/Documents/ML/datasets/fake news/test.csv')"
   ]
  },
  {
   "cell_type": "code",
   "execution_count": 3,
   "id": "6dd32fb5",
   "metadata": {
    "execution": {
     "iopub.execute_input": "2022-05-25T13:09:39.220972Z",
     "iopub.status.busy": "2022-05-25T13:09:39.220699Z",
     "iopub.status.idle": "2022-05-25T13:09:39.244489Z",
     "shell.execute_reply": "2022-05-25T13:09:39.243462Z"
    },
    "papermill": {
     "duration": 0.071138,
     "end_time": "2022-05-25T13:09:39.247504",
     "exception": false,
     "start_time": "2022-05-25T13:09:39.176366",
     "status": "completed"
    },
    "tags": []
   },
   "outputs": [
    {
     "data": {
      "text/html": [
       "<div>\n",
       "<style scoped>\n",
       "    .dataframe tbody tr th:only-of-type {\n",
       "        vertical-align: middle;\n",
       "    }\n",
       "\n",
       "    .dataframe tbody tr th {\n",
       "        vertical-align: top;\n",
       "    }\n",
       "\n",
       "    .dataframe thead th {\n",
       "        text-align: right;\n",
       "    }\n",
       "</style>\n",
       "<table border=\"1\" class=\"dataframe\">\n",
       "  <thead>\n",
       "    <tr style=\"text-align: right;\">\n",
       "      <th></th>\n",
       "      <th>id</th>\n",
       "      <th>title</th>\n",
       "      <th>author</th>\n",
       "      <th>text</th>\n",
       "      <th>label</th>\n",
       "    </tr>\n",
       "  </thead>\n",
       "  <tbody>\n",
       "    <tr>\n",
       "      <th>0</th>\n",
       "      <td>0</td>\n",
       "      <td>House Dem Aide: We Didn’t Even See Comey’s Let...</td>\n",
       "      <td>Darrell Lucus</td>\n",
       "      <td>House Dem Aide: We Didn’t Even See Comey’s Let...</td>\n",
       "      <td>1</td>\n",
       "    </tr>\n",
       "    <tr>\n",
       "      <th>1</th>\n",
       "      <td>1</td>\n",
       "      <td>FLYNN: Hillary Clinton, Big Woman on Campus - ...</td>\n",
       "      <td>Daniel J. Flynn</td>\n",
       "      <td>Ever get the feeling your life circles the rou...</td>\n",
       "      <td>0</td>\n",
       "    </tr>\n",
       "    <tr>\n",
       "      <th>2</th>\n",
       "      <td>2</td>\n",
       "      <td>Why the Truth Might Get You Fired</td>\n",
       "      <td>Consortiumnews.com</td>\n",
       "      <td>Why the Truth Might Get You Fired October 29, ...</td>\n",
       "      <td>1</td>\n",
       "    </tr>\n",
       "    <tr>\n",
       "      <th>3</th>\n",
       "      <td>3</td>\n",
       "      <td>15 Civilians Killed In Single US Airstrike Hav...</td>\n",
       "      <td>Jessica Purkiss</td>\n",
       "      <td>Videos 15 Civilians Killed In Single US Airstr...</td>\n",
       "      <td>1</td>\n",
       "    </tr>\n",
       "    <tr>\n",
       "      <th>4</th>\n",
       "      <td>4</td>\n",
       "      <td>Iranian woman jailed for fictional unpublished...</td>\n",
       "      <td>Howard Portnoy</td>\n",
       "      <td>Print \\nAn Iranian woman has been sentenced to...</td>\n",
       "      <td>1</td>\n",
       "    </tr>\n",
       "    <tr>\n",
       "      <th>5</th>\n",
       "      <td>5</td>\n",
       "      <td>Jackie Mason: Hollywood Would Love Trump if He...</td>\n",
       "      <td>Daniel Nussbaum</td>\n",
       "      <td>In these trying times, Jackie Mason is the Voi...</td>\n",
       "      <td>0</td>\n",
       "    </tr>\n",
       "    <tr>\n",
       "      <th>6</th>\n",
       "      <td>6</td>\n",
       "      <td>Life: Life Of Luxury: Elton John’s 6 Favorite ...</td>\n",
       "      <td>NaN</td>\n",
       "      <td>Ever wonder how Britain’s most iconic pop pian...</td>\n",
       "      <td>1</td>\n",
       "    </tr>\n",
       "    <tr>\n",
       "      <th>7</th>\n",
       "      <td>7</td>\n",
       "      <td>Benoît Hamon Wins French Socialist Party’s Pre...</td>\n",
       "      <td>Alissa J. Rubin</td>\n",
       "      <td>PARIS  —   France chose an idealistic, traditi...</td>\n",
       "      <td>0</td>\n",
       "    </tr>\n",
       "    <tr>\n",
       "      <th>8</th>\n",
       "      <td>8</td>\n",
       "      <td>Excerpts From a Draft Script for Donald Trump’...</td>\n",
       "      <td>NaN</td>\n",
       "      <td>Donald J. Trump is scheduled to make a highly ...</td>\n",
       "      <td>0</td>\n",
       "    </tr>\n",
       "    <tr>\n",
       "      <th>9</th>\n",
       "      <td>9</td>\n",
       "      <td>A Back-Channel Plan for Ukraine and Russia, Co...</td>\n",
       "      <td>Megan Twohey and Scott Shane</td>\n",
       "      <td>A week before Michael T. Flynn resigned as nat...</td>\n",
       "      <td>0</td>\n",
       "    </tr>\n",
       "    <tr>\n",
       "      <th>10</th>\n",
       "      <td>10</td>\n",
       "      <td>Obama’s Organizing for Action Partners with So...</td>\n",
       "      <td>Aaron Klein</td>\n",
       "      <td>Organizing for Action, the activist group that...</td>\n",
       "      <td>0</td>\n",
       "    </tr>\n",
       "    <tr>\n",
       "      <th>11</th>\n",
       "      <td>11</td>\n",
       "      <td>BBC Comedy Sketch \"Real Housewives of ISIS\" Ca...</td>\n",
       "      <td>Chris Tomlinson</td>\n",
       "      <td>The BBC produced spoof on the “Real Housewives...</td>\n",
       "      <td>0</td>\n",
       "    </tr>\n",
       "    <tr>\n",
       "      <th>12</th>\n",
       "      <td>12</td>\n",
       "      <td>Russian Researchers Discover Secret Nazi Milit...</td>\n",
       "      <td>Amando Flavio</td>\n",
       "      <td>The mystery surrounding The Third Reich and Na...</td>\n",
       "      <td>1</td>\n",
       "    </tr>\n",
       "    <tr>\n",
       "      <th>13</th>\n",
       "      <td>13</td>\n",
       "      <td>US Officials See No Link Between Trump and Russia</td>\n",
       "      <td>Jason Ditz</td>\n",
       "      <td>Clinton Campaign Demands FBI Affirm Trump's Ru...</td>\n",
       "      <td>1</td>\n",
       "    </tr>\n",
       "    <tr>\n",
       "      <th>14</th>\n",
       "      <td>14</td>\n",
       "      <td>Re: Yes, There Are Paid Government Trolls On S...</td>\n",
       "      <td>AnotherAnnie</td>\n",
       "      <td>Yes, There Are Paid Government Trolls On Socia...</td>\n",
       "      <td>1</td>\n",
       "    </tr>\n",
       "    <tr>\n",
       "      <th>15</th>\n",
       "      <td>15</td>\n",
       "      <td>In Major League Soccer, Argentines Find a Home...</td>\n",
       "      <td>Jack Williams</td>\n",
       "      <td>Guillermo Barros Schelotto was not the first A...</td>\n",
       "      <td>0</td>\n",
       "    </tr>\n",
       "    <tr>\n",
       "      <th>16</th>\n",
       "      <td>16</td>\n",
       "      <td>Wells Fargo Chief Abruptly Steps Down - The Ne...</td>\n",
       "      <td>Michael Corkery and Stacy Cowley</td>\n",
       "      <td>The scandal engulfing Wells Fargo toppled its ...</td>\n",
       "      <td>0</td>\n",
       "    </tr>\n",
       "    <tr>\n",
       "      <th>17</th>\n",
       "      <td>17</td>\n",
       "      <td>Anonymous Donor Pays $2.5 Million To Release E...</td>\n",
       "      <td>Starkman</td>\n",
       "      <td>A Caddo Nation tribal leader has just been fre...</td>\n",
       "      <td>1</td>\n",
       "    </tr>\n",
       "    <tr>\n",
       "      <th>18</th>\n",
       "      <td>18</td>\n",
       "      <td>FBI Closes In On Hillary!</td>\n",
       "      <td>The Doc</td>\n",
       "      <td>FBI Closes In On Hillary! Posted on Home » Hea...</td>\n",
       "      <td>1</td>\n",
       "    </tr>\n",
       "    <tr>\n",
       "      <th>19</th>\n",
       "      <td>19</td>\n",
       "      <td>Chuck Todd: ’BuzzFeed Did Donald Trump a Polit...</td>\n",
       "      <td>Jeff Poor</td>\n",
       "      <td>Wednesday after   Donald Trump’s press confere...</td>\n",
       "      <td>0</td>\n",
       "    </tr>\n",
       "  </tbody>\n",
       "</table>\n",
       "</div>"
      ],
      "text/plain": [
       "    id                                              title  \\\n",
       "0    0  House Dem Aide: We Didn’t Even See Comey’s Let...   \n",
       "1    1  FLYNN: Hillary Clinton, Big Woman on Campus - ...   \n",
       "2    2                  Why the Truth Might Get You Fired   \n",
       "3    3  15 Civilians Killed In Single US Airstrike Hav...   \n",
       "4    4  Iranian woman jailed for fictional unpublished...   \n",
       "5    5  Jackie Mason: Hollywood Would Love Trump if He...   \n",
       "6    6  Life: Life Of Luxury: Elton John’s 6 Favorite ...   \n",
       "7    7  Benoît Hamon Wins French Socialist Party’s Pre...   \n",
       "8    8  Excerpts From a Draft Script for Donald Trump’...   \n",
       "9    9  A Back-Channel Plan for Ukraine and Russia, Co...   \n",
       "10  10  Obama’s Organizing for Action Partners with So...   \n",
       "11  11  BBC Comedy Sketch \"Real Housewives of ISIS\" Ca...   \n",
       "12  12  Russian Researchers Discover Secret Nazi Milit...   \n",
       "13  13  US Officials See No Link Between Trump and Russia   \n",
       "14  14  Re: Yes, There Are Paid Government Trolls On S...   \n",
       "15  15  In Major League Soccer, Argentines Find a Home...   \n",
       "16  16  Wells Fargo Chief Abruptly Steps Down - The Ne...   \n",
       "17  17  Anonymous Donor Pays $2.5 Million To Release E...   \n",
       "18  18                          FBI Closes In On Hillary!   \n",
       "19  19  Chuck Todd: ’BuzzFeed Did Donald Trump a Polit...   \n",
       "\n",
       "                              author  \\\n",
       "0                      Darrell Lucus   \n",
       "1                    Daniel J. Flynn   \n",
       "2                 Consortiumnews.com   \n",
       "3                    Jessica Purkiss   \n",
       "4                     Howard Portnoy   \n",
       "5                    Daniel Nussbaum   \n",
       "6                                NaN   \n",
       "7                    Alissa J. Rubin   \n",
       "8                                NaN   \n",
       "9       Megan Twohey and Scott Shane   \n",
       "10                       Aaron Klein   \n",
       "11                   Chris Tomlinson   \n",
       "12                     Amando Flavio   \n",
       "13                        Jason Ditz   \n",
       "14                      AnotherAnnie   \n",
       "15                     Jack Williams   \n",
       "16  Michael Corkery and Stacy Cowley   \n",
       "17                          Starkman   \n",
       "18                           The Doc   \n",
       "19                         Jeff Poor   \n",
       "\n",
       "                                                 text  label  \n",
       "0   House Dem Aide: We Didn’t Even See Comey’s Let...      1  \n",
       "1   Ever get the feeling your life circles the rou...      0  \n",
       "2   Why the Truth Might Get You Fired October 29, ...      1  \n",
       "3   Videos 15 Civilians Killed In Single US Airstr...      1  \n",
       "4   Print \\nAn Iranian woman has been sentenced to...      1  \n",
       "5   In these trying times, Jackie Mason is the Voi...      0  \n",
       "6   Ever wonder how Britain’s most iconic pop pian...      1  \n",
       "7   PARIS  —   France chose an idealistic, traditi...      0  \n",
       "8   Donald J. Trump is scheduled to make a highly ...      0  \n",
       "9   A week before Michael T. Flynn resigned as nat...      0  \n",
       "10  Organizing for Action, the activist group that...      0  \n",
       "11  The BBC produced spoof on the “Real Housewives...      0  \n",
       "12  The mystery surrounding The Third Reich and Na...      1  \n",
       "13  Clinton Campaign Demands FBI Affirm Trump's Ru...      1  \n",
       "14  Yes, There Are Paid Government Trolls On Socia...      1  \n",
       "15  Guillermo Barros Schelotto was not the first A...      0  \n",
       "16  The scandal engulfing Wells Fargo toppled its ...      0  \n",
       "17  A Caddo Nation tribal leader has just been fre...      1  \n",
       "18  FBI Closes In On Hillary! Posted on Home » Hea...      1  \n",
       "19  Wednesday after   Donald Trump’s press confere...      0  "
      ]
     },
     "execution_count": 3,
     "metadata": {},
     "output_type": "execute_result"
    }
   ],
   "source": [
    "train.head(20)"
   ]
  },
  {
   "cell_type": "code",
   "execution_count": 4,
   "id": "2a080ae0",
   "metadata": {
    "execution": {
     "iopub.execute_input": "2022-05-25T13:09:39.336529Z",
     "iopub.status.busy": "2022-05-25T13:09:39.336223Z",
     "iopub.status.idle": "2022-05-25T13:09:39.355744Z",
     "shell.execute_reply": "2022-05-25T13:09:39.354851Z"
    },
    "papermill": {
     "duration": 0.065536,
     "end_time": "2022-05-25T13:09:39.358140",
     "exception": false,
     "start_time": "2022-05-25T13:09:39.292604",
     "status": "completed"
    },
    "tags": []
   },
   "outputs": [
    {
     "data": {
      "text/plain": [
       "id           0\n",
       "title      558\n",
       "author    1957\n",
       "text        39\n",
       "label        0\n",
       "dtype: int64"
      ]
     },
     "execution_count": 4,
     "metadata": {},
     "output_type": "execute_result"
    }
   ],
   "source": [
    "train.isnull().sum()"
   ]
  },
  {
   "cell_type": "code",
   "execution_count": 5,
   "id": "8c25a5dd",
   "metadata": {},
   "outputs": [],
   "source": [
    "#drop row with none value\n",
    "train.dropna(thresh = train.shape[1] , inplace = True)"
   ]
  },
  {
   "cell_type": "code",
   "execution_count": 6,
   "id": "5b8dff9c",
   "metadata": {
    "execution": {
     "iopub.execute_input": "2022-05-25T13:09:39.544123Z",
     "iopub.status.busy": "2022-05-25T13:09:39.543815Z",
     "iopub.status.idle": "2022-05-25T13:09:39.559745Z",
     "shell.execute_reply": "2022-05-25T13:09:39.559014Z"
    },
    "papermill": {
     "duration": 0.061735,
     "end_time": "2022-05-25T13:09:39.561997",
     "exception": false,
     "start_time": "2022-05-25T13:09:39.500262",
     "status": "completed"
    },
    "tags": []
   },
   "outputs": [],
   "source": [
    "train= train.fillna('')"
   ]
  },
  {
   "cell_type": "code",
   "execution_count": 7,
   "id": "a322a62b",
   "metadata": {
    "execution": {
     "iopub.execute_input": "2022-05-25T13:09:39.649696Z",
     "iopub.status.busy": "2022-05-25T13:09:39.648906Z",
     "iopub.status.idle": "2022-05-25T13:09:39.667128Z",
     "shell.execute_reply": "2022-05-25T13:09:39.666094Z"
    },
    "papermill": {
     "duration": 0.064706,
     "end_time": "2022-05-25T13:09:39.669602",
     "exception": false,
     "start_time": "2022-05-25T13:09:39.604896",
     "status": "completed"
    },
    "tags": []
   },
   "outputs": [
    {
     "data": {
      "text/plain": [
       "id        0\n",
       "title     0\n",
       "author    0\n",
       "text      0\n",
       "label     0\n",
       "dtype: int64"
      ]
     },
     "execution_count": 7,
     "metadata": {},
     "output_type": "execute_result"
    }
   ],
   "source": [
    "train.isnull().sum()"
   ]
  },
  {
   "cell_type": "code",
   "execution_count": 8,
   "id": "cea3da54",
   "metadata": {
    "execution": {
     "iopub.execute_input": "2022-05-25T13:09:39.962947Z",
     "iopub.status.busy": "2022-05-25T13:09:39.962648Z",
     "iopub.status.idle": "2022-05-25T13:09:39.968529Z",
     "shell.execute_reply": "2022-05-25T13:09:39.967647Z"
    },
    "papermill": {
     "duration": 0.055543,
     "end_time": "2022-05-25T13:09:39.971234",
     "exception": false,
     "start_time": "2022-05-25T13:09:39.915691",
     "status": "completed"
    },
    "tags": []
   },
   "outputs": [
    {
     "data": {
      "text/plain": [
       "(18285, 5)"
      ]
     },
     "execution_count": 8,
     "metadata": {},
     "output_type": "execute_result"
    }
   ],
   "source": [
    "train.shape"
   ]
  },
  {
   "cell_type": "code",
   "execution_count": 9,
   "id": "1732458d",
   "metadata": {},
   "outputs": [
    {
     "data": {
      "text/plain": [
       "id          0\n",
       "title     122\n",
       "author    503\n",
       "text        7\n",
       "dtype: int64"
      ]
     },
     "execution_count": 9,
     "metadata": {},
     "output_type": "execute_result"
    }
   ],
   "source": [
    "test.isnull().sum()"
   ]
  },
  {
   "cell_type": "code",
   "execution_count": 10,
   "id": "770c2299",
   "metadata": {
    "execution": {
     "iopub.execute_input": "2022-05-25T13:09:40.193716Z",
     "iopub.status.busy": "2022-05-25T13:09:40.193272Z",
     "iopub.status.idle": "2022-05-25T13:09:40.207725Z",
     "shell.execute_reply": "2022-05-25T13:09:40.206874Z"
    },
    "papermill": {
     "duration": 0.0639,
     "end_time": "2022-05-25T13:09:40.209926",
     "exception": false,
     "start_time": "2022-05-25T13:09:40.146026",
     "status": "completed"
    },
    "tags": []
   },
   "outputs": [
    {
     "data": {
      "text/plain": [
       "3838"
      ]
     },
     "execution_count": 10,
     "metadata": {},
     "output_type": "execute_result"
    }
   ],
   "source": [
    "train.author.nunique()"
   ]
  },
  {
   "cell_type": "code",
   "execution_count": 11,
   "id": "1f1ae49d",
   "metadata": {},
   "outputs": [
    {
     "data": {
      "text/plain": [
       "Pam Key          243\n",
       "admin            193\n",
       "Jerome Hudson    166\n",
       "Name: author, dtype: int64"
      ]
     },
     "execution_count": 11,
     "metadata": {},
     "output_type": "execute_result"
    }
   ],
   "source": [
    "train.author.value_counts()[:3]"
   ]
  },
  {
   "cell_type": "code",
   "execution_count": 12,
   "id": "7b9dccd1",
   "metadata": {},
   "outputs": [
    {
     "name": "stderr",
     "output_type": "stream",
     "text": [
      "[nltk_data] Downloading package stopwords to\n",
      "[nltk_data]     C:\\Users\\LAKSHYA\\AppData\\Roaming\\nltk_data...\n",
      "[nltk_data]   Package stopwords is already up-to-date!\n"
     ]
    },
    {
     "data": {
      "text/plain": [
       "True"
      ]
     },
     "execution_count": 12,
     "metadata": {},
     "output_type": "execute_result"
    }
   ],
   "source": [
    "import nltk\n",
    "nltk.download('stopwords')"
   ]
  },
  {
   "cell_type": "code",
   "execution_count": 13,
   "id": "a534715f",
   "metadata": {
    "execution": {
     "iopub.execute_input": "2022-05-25T13:09:40.304508Z",
     "iopub.status.busy": "2022-05-25T13:09:40.304198Z",
     "iopub.status.idle": "2022-05-25T13:09:41.187900Z",
     "shell.execute_reply": "2022-05-25T13:09:41.186918Z"
    },
    "papermill": {
     "duration": 0.933822,
     "end_time": "2022-05-25T13:09:41.190421",
     "exception": false,
     "start_time": "2022-05-25T13:09:40.256599",
     "status": "completed"
    },
    "tags": []
   },
   "outputs": [],
   "source": [
    "import string\n",
    "import re\n",
    "from nltk.corpus import stopwords\n",
    "stop_word = stopwords.words('english')\n",
    "def cleaning_data(x):\n",
    "    #lower the value\n",
    "    x =x.lower()\n",
    "    #converting in ascii value\n",
    "    x = x.encode('ascii' , 'ignore').decode()\n",
    "    #removing all the stopword\n",
    "    x = ' '.join([word for word in x.split(' ') if word not in stop_word])\n",
    "    #remove mentions\n",
    "    x = re.sub('@\\S+' , ' ' , x)\n",
    "    #remove url\n",
    "    x = re.sub('https*\\S+' , ' ' , x)\n",
    "    #remove hastag\n",
    "    x= re.sub('#\\S+' , ' ' , x)\n",
    "    #remove ticks and next character\n",
    "    x = re.sub(\"\\'\\w+\" , ' ' , x)\n",
    "    #remove punctuations\n",
    "    x = re.sub('[%s]' % re.escape(string.punctuation) , ' ' , x)\n",
    "    #remove number\n",
    "    x = re.sub(r'\\w+\\d+\\w*' ,'  ' , x)\n",
    "    #remove the over spaces\n",
    "    x = re.sub('\\s{2,}' , '' , x)\n",
    "    return x\n",
    "    "
   ]
  },
  {
   "cell_type": "code",
   "execution_count": 14,
   "id": "271a3abb",
   "metadata": {
    "execution": {
     "iopub.execute_input": "2022-05-25T13:09:41.283662Z",
     "iopub.status.busy": "2022-05-25T13:09:41.283345Z",
     "iopub.status.idle": "2022-05-25T13:10:11.284432Z",
     "shell.execute_reply": "2022-05-25T13:10:11.283233Z"
    },
    "papermill": {
     "duration": 30.049165,
     "end_time": "2022-05-25T13:10:11.287014",
     "exception": false,
     "start_time": "2022-05-25T13:09:41.237849",
     "status": "completed"
    },
    "tags": []
   },
   "outputs": [],
   "source": [
    "train.title = train.title.apply(cleaning_data)\n",
    "train.author = train.author.apply(cleaning_data)\n",
    "train.text =  train.text.apply(cleaning_data)"
   ]
  },
  {
   "cell_type": "code",
   "execution_count": 15,
   "id": "98801214",
   "metadata": {
    "execution": {
     "iopub.execute_input": "2022-05-25T13:10:11.381305Z",
     "iopub.status.busy": "2022-05-25T13:10:11.381011Z",
     "iopub.status.idle": "2022-05-25T13:10:11.392644Z",
     "shell.execute_reply": "2022-05-25T13:10:11.391671Z"
    },
    "papermill": {
     "duration": 0.06105,
     "end_time": "2022-05-25T13:10:11.394916",
     "exception": false,
     "start_time": "2022-05-25T13:10:11.333866",
     "status": "completed"
    },
    "tags": []
   },
   "outputs": [
    {
     "data": {
      "text/html": [
       "<div>\n",
       "<style scoped>\n",
       "    .dataframe tbody tr th:only-of-type {\n",
       "        vertical-align: middle;\n",
       "    }\n",
       "\n",
       "    .dataframe tbody tr th {\n",
       "        vertical-align: top;\n",
       "    }\n",
       "\n",
       "    .dataframe thead th {\n",
       "        text-align: right;\n",
       "    }\n",
       "</style>\n",
       "<table border=\"1\" class=\"dataframe\">\n",
       "  <thead>\n",
       "    <tr style=\"text-align: right;\">\n",
       "      <th></th>\n",
       "      <th>id</th>\n",
       "      <th>title</th>\n",
       "      <th>author</th>\n",
       "      <th>text</th>\n",
       "      <th>label</th>\n",
       "    </tr>\n",
       "  </thead>\n",
       "  <tbody>\n",
       "    <tr>\n",
       "      <th>0</th>\n",
       "      <td>0</td>\n",
       "      <td>house dem aidedidnt even see comeys letter jas...</td>\n",
       "      <td>darrell lucus</td>\n",
       "      <td>house dem aidedidnt even see comeys letter jas...</td>\n",
       "      <td>1</td>\n",
       "    </tr>\n",
       "    <tr>\n",
       "      <th>1</th>\n",
       "      <td>1</td>\n",
       "      <td>flynnhillary clintonbig woman campusbreitbart</td>\n",
       "      <td>daniel jflynn</td>\n",
       "      <td>ever get feeling life circles roundabout rathe...</td>\n",
       "      <td>0</td>\n",
       "    </tr>\n",
       "    <tr>\n",
       "      <th>2</th>\n",
       "      <td>2</td>\n",
       "      <td>truth might get fired</td>\n",
       "      <td>consortiumnews com</td>\n",
       "      <td>truth might get fired octoberthe tension intel...</td>\n",
       "      <td>1</td>\n",
       "    </tr>\n",
       "    <tr>\n",
       "      <th>3</th>\n",
       "      <td>3</td>\n",
       "      <td>civilians killed single us airstrike identified</td>\n",
       "      <td>jessica purkiss</td>\n",
       "      <td>videoscivilians killed single us airstrike ide...</td>\n",
       "      <td>1</td>\n",
       "    </tr>\n",
       "    <tr>\n",
       "      <th>4</th>\n",
       "      <td>4</td>\n",
       "      <td>iranian woman jailed fictional unpublished sto...</td>\n",
       "      <td>howard portnoy</td>\n",
       "      <td>printan iranian woman sentenced six years pris...</td>\n",
       "      <td>1</td>\n",
       "    </tr>\n",
       "  </tbody>\n",
       "</table>\n",
       "</div>"
      ],
      "text/plain": [
       "   id                                              title              author  \\\n",
       "0   0  house dem aidedidnt even see comeys letter jas...       darrell lucus   \n",
       "1   1      flynnhillary clintonbig woman campusbreitbart       daniel jflynn   \n",
       "2   2                              truth might get fired  consortiumnews com   \n",
       "3   3    civilians killed single us airstrike identified     jessica purkiss   \n",
       "4   4  iranian woman jailed fictional unpublished sto...      howard portnoy   \n",
       "\n",
       "                                                text  label  \n",
       "0  house dem aidedidnt even see comeys letter jas...      1  \n",
       "1  ever get feeling life circles roundabout rathe...      0  \n",
       "2  truth might get fired octoberthe tension intel...      1  \n",
       "3  videoscivilians killed single us airstrike ide...      1  \n",
       "4  printan iranian woman sentenced six years pris...      1  "
      ]
     },
     "execution_count": 15,
     "metadata": {},
     "output_type": "execute_result"
    }
   ],
   "source": [
    "train.head()"
   ]
  },
  {
   "cell_type": "code",
   "execution_count": 16,
   "id": "c2efa6af",
   "metadata": {},
   "outputs": [],
   "source": [
    "from nltk.stem.porter import PorterStemmer\n",
    "port = PorterStemmer()\n",
    "def lemetazation(x):\n",
    "    x = ' '.join([port.stem(word) for word in x.split(' ')])\n",
    "    return x\n",
    "\n",
    "    "
   ]
  },
  {
   "cell_type": "code",
   "execution_count": 17,
   "id": "e0dece50",
   "metadata": {},
   "outputs": [],
   "source": [
    "train.text =  train.text.apply(lemetazation)\n",
    "train.title =  train.title.apply(lemetazation)"
   ]
  },
  {
   "cell_type": "code",
   "execution_count": 18,
   "id": "40695bb6",
   "metadata": {},
   "outputs": [
    {
     "data": {
      "text/html": [
       "<div>\n",
       "<style scoped>\n",
       "    .dataframe tbody tr th:only-of-type {\n",
       "        vertical-align: middle;\n",
       "    }\n",
       "\n",
       "    .dataframe tbody tr th {\n",
       "        vertical-align: top;\n",
       "    }\n",
       "\n",
       "    .dataframe thead th {\n",
       "        text-align: right;\n",
       "    }\n",
       "</style>\n",
       "<table border=\"1\" class=\"dataframe\">\n",
       "  <thead>\n",
       "    <tr style=\"text-align: right;\">\n",
       "      <th></th>\n",
       "      <th>id</th>\n",
       "      <th>title</th>\n",
       "      <th>author</th>\n",
       "      <th>text</th>\n",
       "      <th>label</th>\n",
       "    </tr>\n",
       "  </thead>\n",
       "  <tbody>\n",
       "    <tr>\n",
       "      <th>0</th>\n",
       "      <td>0</td>\n",
       "      <td>hous dem aidedidnt even see comey letter jason...</td>\n",
       "      <td>darrell lucus</td>\n",
       "      <td>hous dem aidedidnt even see comey letter jason...</td>\n",
       "      <td>1</td>\n",
       "    </tr>\n",
       "    <tr>\n",
       "      <th>1</th>\n",
       "      <td>1</td>\n",
       "      <td>flynnhillari clintonbig woman campusbreitbart</td>\n",
       "      <td>daniel jflynn</td>\n",
       "      <td>ever get feel life circl roundabout rather hea...</td>\n",
       "      <td>0</td>\n",
       "    </tr>\n",
       "    <tr>\n",
       "      <th>2</th>\n",
       "      <td>2</td>\n",
       "      <td>truth might get fire</td>\n",
       "      <td>consortiumnews com</td>\n",
       "      <td>truth might get fire octoberth tension intelli...</td>\n",
       "      <td>1</td>\n",
       "    </tr>\n",
       "    <tr>\n",
       "      <th>3</th>\n",
       "      <td>3</td>\n",
       "      <td>civilian kill singl us airstrik identifi</td>\n",
       "      <td>jessica purkiss</td>\n",
       "      <td>videoscivilian kill singl us airstrik identifi...</td>\n",
       "      <td>1</td>\n",
       "    </tr>\n",
       "    <tr>\n",
       "      <th>4</th>\n",
       "      <td>4</td>\n",
       "      <td>iranian woman jail fiction unpublish stori wom...</td>\n",
       "      <td>howard portnoy</td>\n",
       "      <td>printan iranian woman sentenc six year prison ...</td>\n",
       "      <td>1</td>\n",
       "    </tr>\n",
       "  </tbody>\n",
       "</table>\n",
       "</div>"
      ],
      "text/plain": [
       "   id                                              title              author  \\\n",
       "0   0  hous dem aidedidnt even see comey letter jason...       darrell lucus   \n",
       "1   1      flynnhillari clintonbig woman campusbreitbart       daniel jflynn   \n",
       "2   2                               truth might get fire  consortiumnews com   \n",
       "3   3           civilian kill singl us airstrik identifi     jessica purkiss   \n",
       "4   4  iranian woman jail fiction unpublish stori wom...      howard portnoy   \n",
       "\n",
       "                                                text  label  \n",
       "0  hous dem aidedidnt even see comey letter jason...      1  \n",
       "1  ever get feel life circl roundabout rather hea...      0  \n",
       "2  truth might get fire octoberth tension intelli...      1  \n",
       "3  videoscivilian kill singl us airstrik identifi...      1  \n",
       "4  printan iranian woman sentenc six year prison ...      1  "
      ]
     },
     "execution_count": 18,
     "metadata": {},
     "output_type": "execute_result"
    }
   ],
   "source": [
    "train.head()"
   ]
  },
  {
   "cell_type": "code",
   "execution_count": 19,
   "id": "2888321a",
   "metadata": {
    "execution": {
     "iopub.execute_input": "2022-05-25T13:15:00.775677Z",
     "iopub.status.busy": "2022-05-25T13:15:00.775387Z",
     "iopub.status.idle": "2022-05-25T13:15:00.790211Z",
     "shell.execute_reply": "2022-05-25T13:15:00.789269Z"
    },
    "papermill": {
     "duration": 0.064356,
     "end_time": "2022-05-25T13:15:00.792375",
     "exception": false,
     "start_time": "2022-05-25T13:15:00.728019",
     "status": "completed"
    },
    "tags": []
   },
   "outputs": [],
   "source": [
    "train['content'] = train.title + ' '+train.author+ ' '+ train.text"
   ]
  },
  {
   "cell_type": "code",
   "execution_count": 20,
   "id": "3ff4fcc9",
   "metadata": {
    "execution": {
     "iopub.execute_input": "2022-05-25T13:15:00.887292Z",
     "iopub.status.busy": "2022-05-25T13:15:00.886676Z",
     "iopub.status.idle": "2022-05-25T13:15:00.903650Z",
     "shell.execute_reply": "2022-05-25T13:15:00.902878Z"
    },
    "papermill": {
     "duration": 0.066474,
     "end_time": "2022-05-25T13:15:00.906013",
     "exception": false,
     "start_time": "2022-05-25T13:15:00.839539",
     "status": "completed"
    },
    "tags": []
   },
   "outputs": [],
   "source": [
    "train.drop(['title' , 'author'] , axis = 1 , inplace = True)"
   ]
  },
  {
   "cell_type": "code",
   "execution_count": 21,
   "id": "336fea07",
   "metadata": {
    "execution": {
     "iopub.execute_input": "2022-05-25T13:15:00.998750Z",
     "iopub.status.busy": "2022-05-25T13:15:00.998157Z",
     "iopub.status.idle": "2022-05-25T13:15:01.009857Z",
     "shell.execute_reply": "2022-05-25T13:15:01.008871Z"
    },
    "papermill": {
     "duration": 0.060911,
     "end_time": "2022-05-25T13:15:01.012315",
     "exception": false,
     "start_time": "2022-05-25T13:15:00.951404",
     "status": "completed"
    },
    "tags": []
   },
   "outputs": [
    {
     "data": {
      "text/html": [
       "<div>\n",
       "<style scoped>\n",
       "    .dataframe tbody tr th:only-of-type {\n",
       "        vertical-align: middle;\n",
       "    }\n",
       "\n",
       "    .dataframe tbody tr th {\n",
       "        vertical-align: top;\n",
       "    }\n",
       "\n",
       "    .dataframe thead th {\n",
       "        text-align: right;\n",
       "    }\n",
       "</style>\n",
       "<table border=\"1\" class=\"dataframe\">\n",
       "  <thead>\n",
       "    <tr style=\"text-align: right;\">\n",
       "      <th></th>\n",
       "      <th>id</th>\n",
       "      <th>text</th>\n",
       "      <th>label</th>\n",
       "      <th>content</th>\n",
       "    </tr>\n",
       "  </thead>\n",
       "  <tbody>\n",
       "    <tr>\n",
       "      <th>0</th>\n",
       "      <td>0</td>\n",
       "      <td>hous dem aidedidnt even see comey letter jason...</td>\n",
       "      <td>1</td>\n",
       "      <td>hous dem aidedidnt even see comey letter jason...</td>\n",
       "    </tr>\n",
       "    <tr>\n",
       "      <th>1</th>\n",
       "      <td>1</td>\n",
       "      <td>ever get feel life circl roundabout rather hea...</td>\n",
       "      <td>0</td>\n",
       "      <td>flynnhillari clintonbig woman campusbreitbart ...</td>\n",
       "    </tr>\n",
       "    <tr>\n",
       "      <th>2</th>\n",
       "      <td>2</td>\n",
       "      <td>truth might get fire octoberth tension intelli...</td>\n",
       "      <td>1</td>\n",
       "      <td>truth might get fire consortiumnews com truth ...</td>\n",
       "    </tr>\n",
       "    <tr>\n",
       "      <th>3</th>\n",
       "      <td>3</td>\n",
       "      <td>videoscivilian kill singl us airstrik identifi...</td>\n",
       "      <td>1</td>\n",
       "      <td>civilian kill singl us airstrik identifi jessi...</td>\n",
       "    </tr>\n",
       "    <tr>\n",
       "      <th>4</th>\n",
       "      <td>4</td>\n",
       "      <td>printan iranian woman sentenc six year prison ...</td>\n",
       "      <td>1</td>\n",
       "      <td>iranian woman jail fiction unpublish stori wom...</td>\n",
       "    </tr>\n",
       "  </tbody>\n",
       "</table>\n",
       "</div>"
      ],
      "text/plain": [
       "   id                                               text  label  \\\n",
       "0   0  hous dem aidedidnt even see comey letter jason...      1   \n",
       "1   1  ever get feel life circl roundabout rather hea...      0   \n",
       "2   2  truth might get fire octoberth tension intelli...      1   \n",
       "3   3  videoscivilian kill singl us airstrik identifi...      1   \n",
       "4   4  printan iranian woman sentenc six year prison ...      1   \n",
       "\n",
       "                                             content  \n",
       "0  hous dem aidedidnt even see comey letter jason...  \n",
       "1  flynnhillari clintonbig woman campusbreitbart ...  \n",
       "2  truth might get fire consortiumnews com truth ...  \n",
       "3  civilian kill singl us airstrik identifi jessi...  \n",
       "4  iranian woman jail fiction unpublish stori wom...  "
      ]
     },
     "execution_count": 21,
     "metadata": {},
     "output_type": "execute_result"
    }
   ],
   "source": [
    "train.head()"
   ]
  },
  {
   "cell_type": "code",
   "execution_count": 22,
   "id": "6ca81501",
   "metadata": {},
   "outputs": [
    {
     "data": {
      "text/html": [
       "<div>\n",
       "<style scoped>\n",
       "    .dataframe tbody tr th:only-of-type {\n",
       "        vertical-align: middle;\n",
       "    }\n",
       "\n",
       "    .dataframe tbody tr th {\n",
       "        vertical-align: top;\n",
       "    }\n",
       "\n",
       "    .dataframe thead th {\n",
       "        text-align: right;\n",
       "    }\n",
       "</style>\n",
       "<table border=\"1\" class=\"dataframe\">\n",
       "  <thead>\n",
       "    <tr style=\"text-align: right;\">\n",
       "      <th></th>\n",
       "      <th>id</th>\n",
       "      <th>title</th>\n",
       "      <th>author</th>\n",
       "      <th>text</th>\n",
       "    </tr>\n",
       "  </thead>\n",
       "  <tbody>\n",
       "    <tr>\n",
       "      <th>0</th>\n",
       "      <td>20800</td>\n",
       "      <td>Specter of Trump Loosens Tongues, if Not Purse...</td>\n",
       "      <td>David Streitfeld</td>\n",
       "      <td>PALO ALTO, Calif.  —   After years of scorning...</td>\n",
       "    </tr>\n",
       "    <tr>\n",
       "      <th>1</th>\n",
       "      <td>20801</td>\n",
       "      <td>Russian warships ready to strike terrorists ne...</td>\n",
       "      <td>NaN</td>\n",
       "      <td>Russian warships ready to strike terrorists ne...</td>\n",
       "    </tr>\n",
       "    <tr>\n",
       "      <th>2</th>\n",
       "      <td>20802</td>\n",
       "      <td>#NoDAPL: Native American Leaders Vow to Stay A...</td>\n",
       "      <td>Common Dreams</td>\n",
       "      <td>Videos #NoDAPL: Native American Leaders Vow to...</td>\n",
       "    </tr>\n",
       "    <tr>\n",
       "      <th>3</th>\n",
       "      <td>20803</td>\n",
       "      <td>Tim Tebow Will Attempt Another Comeback, This ...</td>\n",
       "      <td>Daniel Victor</td>\n",
       "      <td>If at first you don’t succeed, try a different...</td>\n",
       "    </tr>\n",
       "    <tr>\n",
       "      <th>4</th>\n",
       "      <td>20804</td>\n",
       "      <td>Keiser Report: Meme Wars (E995)</td>\n",
       "      <td>Truth Broadcast Network</td>\n",
       "      <td>42 mins ago 1 Views 0 Comments 0 Likes 'For th...</td>\n",
       "    </tr>\n",
       "  </tbody>\n",
       "</table>\n",
       "</div>"
      ],
      "text/plain": [
       "      id                                              title  \\\n",
       "0  20800  Specter of Trump Loosens Tongues, if Not Purse...   \n",
       "1  20801  Russian warships ready to strike terrorists ne...   \n",
       "2  20802  #NoDAPL: Native American Leaders Vow to Stay A...   \n",
       "3  20803  Tim Tebow Will Attempt Another Comeback, This ...   \n",
       "4  20804                    Keiser Report: Meme Wars (E995)   \n",
       "\n",
       "                    author                                               text  \n",
       "0         David Streitfeld  PALO ALTO, Calif.  —   After years of scorning...  \n",
       "1                      NaN  Russian warships ready to strike terrorists ne...  \n",
       "2            Common Dreams  Videos #NoDAPL: Native American Leaders Vow to...  \n",
       "3            Daniel Victor  If at first you don’t succeed, try a different...  \n",
       "4  Truth Broadcast Network  42 mins ago 1 Views 0 Comments 0 Likes 'For th...  "
      ]
     },
     "execution_count": 22,
     "metadata": {},
     "output_type": "execute_result"
    }
   ],
   "source": [
    "test.head()"
   ]
  },
  {
   "cell_type": "code",
   "execution_count": 23,
   "id": "581e41d3",
   "metadata": {},
   "outputs": [],
   "source": [
    "test.dropna(thresh = test.shape[1] , inplace = True)"
   ]
  },
  {
   "cell_type": "code",
   "execution_count": 24,
   "id": "d1c34e6a",
   "metadata": {},
   "outputs": [],
   "source": [
    "test.title = test.title.apply(cleaning_data)\n",
    "test.author = test.author.apply(cleaning_data)\n",
    "test.text =  test.text.apply(cleaning_data)"
   ]
  },
  {
   "cell_type": "code",
   "execution_count": 25,
   "id": "6d21ddf2",
   "metadata": {},
   "outputs": [],
   "source": [
    "test.text =  test.text.apply(lemetazation)\n",
    "test.title =  test.title.apply(lemetazation)"
   ]
  },
  {
   "cell_type": "code",
   "execution_count": 26,
   "id": "a45b8106",
   "metadata": {},
   "outputs": [],
   "source": [
    "test['content'] = test.title + ' '+test.author+ ' '+ test.text"
   ]
  },
  {
   "cell_type": "code",
   "execution_count": 27,
   "id": "292ffb92",
   "metadata": {},
   "outputs": [
    {
     "data": {
      "text/html": [
       "<div>\n",
       "<style scoped>\n",
       "    .dataframe tbody tr th:only-of-type {\n",
       "        vertical-align: middle;\n",
       "    }\n",
       "\n",
       "    .dataframe tbody tr th {\n",
       "        vertical-align: top;\n",
       "    }\n",
       "\n",
       "    .dataframe thead th {\n",
       "        text-align: right;\n",
       "    }\n",
       "</style>\n",
       "<table border=\"1\" class=\"dataframe\">\n",
       "  <thead>\n",
       "    <tr style=\"text-align: right;\">\n",
       "      <th></th>\n",
       "      <th>id</th>\n",
       "      <th>title</th>\n",
       "      <th>author</th>\n",
       "      <th>text</th>\n",
       "      <th>content</th>\n",
       "    </tr>\n",
       "  </thead>\n",
       "  <tbody>\n",
       "    <tr>\n",
       "      <th>0</th>\n",
       "      <td>20800</td>\n",
       "      <td>specter trump loosen tonguespurs stringssilico...</td>\n",
       "      <td>david streitfeld</td>\n",
       "      <td>palo altocalifyear scorn polit processsilicon ...</td>\n",
       "      <td>specter trump loosen tonguespurs stringssilico...</td>\n",
       "    </tr>\n",
       "    <tr>\n",
       "      <th>2</th>\n",
       "      <td>20802</td>\n",
       "      <td>nativ american leader vow stay winterfil lawsu...</td>\n",
       "      <td>common dreams</td>\n",
       "      <td>videosn american leader vow stay winterfil law...</td>\n",
       "      <td>nativ american leader vow stay winterfil lawsu...</td>\n",
       "    </tr>\n",
       "    <tr>\n",
       "      <th>3</th>\n",
       "      <td>20803</td>\n",
       "      <td>tim tebow attempt anoth comebacktim baseballne...</td>\n",
       "      <td>daniel victor</td>\n",
       "      <td>first dont succeedtri differ sporttim tebowhei...</td>\n",
       "      <td>tim tebow attempt anoth comebacktim baseballne...</td>\n",
       "    </tr>\n",
       "    <tr>\n",
       "      <th>4</th>\n",
       "      <td>20804</td>\n",
       "      <td>keiser reportmem war</td>\n",
       "      <td>truth broadcast network</td>\n",
       "      <td>min ago 1 view 0 comment 0 likesfirst time his...</td>\n",
       "      <td>keiser reportmem war truth broadcast network m...</td>\n",
       "    </tr>\n",
       "    <tr>\n",
       "      <th>6</th>\n",
       "      <td>20806</td>\n",
       "      <td>pelosi call fbi investig find russian donald t...</td>\n",
       "      <td>pam key</td>\n",
       "      <td>sunday nbc meet presshous minor leader repnanc...</td>\n",
       "      <td>pelosi call fbi investig find russian donald t...</td>\n",
       "    </tr>\n",
       "  </tbody>\n",
       "</table>\n",
       "</div>"
      ],
      "text/plain": [
       "      id                                              title  \\\n",
       "0  20800  specter trump loosen tonguespurs stringssilico...   \n",
       "2  20802  nativ american leader vow stay winterfil lawsu...   \n",
       "3  20803  tim tebow attempt anoth comebacktim baseballne...   \n",
       "4  20804                               keiser reportmem war   \n",
       "6  20806  pelosi call fbi investig find russian donald t...   \n",
       "\n",
       "                    author                                               text  \\\n",
       "0         david streitfeld  palo altocalifyear scorn polit processsilicon ...   \n",
       "2            common dreams  videosn american leader vow stay winterfil law...   \n",
       "3            daniel victor  first dont succeedtri differ sporttim tebowhei...   \n",
       "4  truth broadcast network  min ago 1 view 0 comment 0 likesfirst time his...   \n",
       "6                  pam key  sunday nbc meet presshous minor leader repnanc...   \n",
       "\n",
       "                                             content  \n",
       "0  specter trump loosen tonguespurs stringssilico...  \n",
       "2  nativ american leader vow stay winterfil lawsu...  \n",
       "3  tim tebow attempt anoth comebacktim baseballne...  \n",
       "4  keiser reportmem war truth broadcast network m...  \n",
       "6  pelosi call fbi investig find russian donald t...  "
      ]
     },
     "execution_count": 27,
     "metadata": {},
     "output_type": "execute_result"
    }
   ],
   "source": [
    "test.head()"
   ]
  },
  {
   "cell_type": "code",
   "execution_count": 28,
   "id": "cb4d3c6f",
   "metadata": {},
   "outputs": [],
   "source": [
    "test.drop(['title' , 'author'] , axis =1 ,inplace = True)"
   ]
  },
  {
   "cell_type": "code",
   "execution_count": 29,
   "id": "e72a9920",
   "metadata": {
    "execution": {
     "iopub.execute_input": "2022-05-25T13:16:22.698320Z",
     "iopub.status.busy": "2022-05-25T13:16:22.697819Z",
     "iopub.status.idle": "2022-05-25T13:16:22.705069Z",
     "shell.execute_reply": "2022-05-25T13:16:22.704301Z"
    },
    "papermill": {
     "duration": 0.059758,
     "end_time": "2022-05-25T13:16:22.707313",
     "exception": false,
     "start_time": "2022-05-25T13:16:22.647555",
     "status": "completed"
    },
    "tags": []
   },
   "outputs": [],
   "source": [
    "y = train.label\n",
    "train.drop(['label'] , axis =1 , inplace =True)"
   ]
  },
  {
   "cell_type": "code",
   "execution_count": 30,
   "id": "417ee6b6",
   "metadata": {
    "execution": {
     "iopub.execute_input": "2022-05-25T13:16:22.806405Z",
     "iopub.status.busy": "2022-05-25T13:16:22.805935Z",
     "iopub.status.idle": "2022-05-25T13:16:22.810759Z",
     "shell.execute_reply": "2022-05-25T13:16:22.810070Z"
    },
    "papermill": {
     "duration": 0.056074,
     "end_time": "2022-05-25T13:16:22.812866",
     "exception": false,
     "start_time": "2022-05-25T13:16:22.756792",
     "status": "completed"
    },
    "tags": []
   },
   "outputs": [],
   "source": [
    "X = train.content.values\n",
    "y = y.values"
   ]
  },
  {
   "cell_type": "code",
   "execution_count": 31,
   "id": "32b54da1",
   "metadata": {
    "execution": {
     "iopub.execute_input": "2022-05-25T13:16:22.912216Z",
     "iopub.status.busy": "2022-05-25T13:16:22.911663Z",
     "iopub.status.idle": "2022-05-25T13:16:23.711255Z",
     "shell.execute_reply": "2022-05-25T13:16:23.710409Z"
    },
    "papermill": {
     "duration": 0.853555,
     "end_time": "2022-05-25T13:16:23.713816",
     "exception": false,
     "start_time": "2022-05-25T13:16:22.860261",
     "status": "completed"
    },
    "tags": []
   },
   "outputs": [],
   "source": [
    "from sklearn.feature_extraction.text import TfidfVectorizer\n",
    "vectorizer = TfidfVectorizer()\n",
    "vectorizer.fit(X)\n",
    "X = vectorizer.transform(X)"
   ]
  },
  {
   "cell_type": "code",
   "execution_count": 32,
   "id": "9b435493",
   "metadata": {
    "execution": {
     "iopub.execute_input": "2022-05-25T13:16:23.813242Z",
     "iopub.status.busy": "2022-05-25T13:16:23.812925Z",
     "iopub.status.idle": "2022-05-25T13:16:23.821744Z",
     "shell.execute_reply": "2022-05-25T13:16:23.820634Z"
    },
    "papermill": {
     "duration": 0.061523,
     "end_time": "2022-05-25T13:16:23.824304",
     "exception": false,
     "start_time": "2022-05-25T13:16:23.762781",
     "status": "completed"
    },
    "tags": []
   },
   "outputs": [
    {
     "name": "stdout",
     "output_type": "stream",
     "text": [
      "  (0, 1230569)\t0.05226291338495597\n",
      "  (0, 1224868)\t0.025095647644911352\n",
      "  (0, 1219764)\t0.06350588921478081\n",
      "  (0, 1219558)\t0.025770883312470783\n",
      "  (0, 1219461)\t0.08169821825507138\n",
      "  (0, 1216552)\t0.06350588921478081\n",
      "  (0, 1216113)\t0.030364422597446306\n",
      "  (0, 1213041)\t0.013042389296607247\n",
      "  (0, 1206452)\t0.06096166690783165\n",
      "  (0, 1198477)\t0.02762223300101164\n",
      "  (0, 1197171)\t0.01986076780124671\n",
      "  (0, 1196942)\t0.05915651245334297\n",
      "  (0, 1195071)\t0.03338727063428364\n",
      "  (0, 1192694)\t0.05915651245334297\n",
      "  (0, 1186081)\t0.013937761220217068\n",
      "  (0, 1174424)\t0.028735434153786172\n",
      "  (0, 1172720)\t0.06350588921478081\n",
      "  (0, 1172145)\t0.017654478676995378\n",
      "  (0, 1163396)\t0.024522877613982894\n",
      "  (0, 1147055)\t0.03585450026626237\n",
      "  (0, 1144711)\t0.01870080105628339\n",
      "  (0, 1139108)\t0.043061905936158516\n",
      "  (0, 1136397)\t0.012622871202718298\n",
      "  (0, 1136302)\t0.05915651245334297\n",
      "  (0, 1135855)\t0.06096166690783165\n",
      "  :\t:\n",
      "  (18284, 104104)\t0.05625688729524576\n",
      "  (18284, 103943)\t0.03506827416958522\n",
      "  (18284, 93359)\t0.05797356000776875\n",
      "  (18284, 92995)\t0.017620918463641905\n",
      "  (18284, 90473)\t0.05797356000776875\n",
      "  (18284, 89705)\t0.1159471200155375\n",
      "  (18284, 89392)\t0.05797356000776875\n",
      "  (18284, 88071)\t0.050220405194565325\n",
      "  (18284, 82378)\t0.05797356000776875\n",
      "  (18284, 74550)\t0.05797356000776875\n",
      "  (18284, 71840)\t0.054925332491528256\n",
      "  (18284, 70721)\t0.05797356000776875\n",
      "  (18284, 69857)\t0.038696672156410976\n",
      "  (18284, 48215)\t0.03358400151253542\n",
      "  (18284, 46764)\t0.01998661659226361\n",
      "  (18284, 41119)\t0.03943878201060995\n",
      "  (18284, 39704)\t0.028358993202649466\n",
      "  (18284, 39625)\t0.036480289365597135\n",
      "  (18284, 38923)\t0.0411209770670852\n",
      "  (18284, 38590)\t0.05797356000776875\n",
      "  (18284, 16436)\t0.01778888986151936\n",
      "  (18284, 15991)\t0.05797356000776875\n",
      "  (18284, 12032)\t0.030433952173518578\n",
      "  (18284, 9118)\t0.01854998383851552\n",
      "  (18284, 8987)\t0.022882911408046044\n"
     ]
    }
   ],
   "source": [
    "print(X)"
   ]
  },
  {
   "cell_type": "code",
   "execution_count": 33,
   "id": "42b7d419",
   "metadata": {
    "execution": {
     "iopub.execute_input": "2022-05-25T13:16:23.923588Z",
     "iopub.status.busy": "2022-05-25T13:16:23.923312Z",
     "iopub.status.idle": "2022-05-25T13:16:23.942753Z",
     "shell.execute_reply": "2022-05-25T13:16:23.941975Z"
    },
    "papermill": {
     "duration": 0.072887,
     "end_time": "2022-05-25T13:16:23.945221",
     "exception": false,
     "start_time": "2022-05-25T13:16:23.872334",
     "status": "completed"
    },
    "tags": []
   },
   "outputs": [],
   "source": [
    "from sklearn.model_selection import train_test_split\n",
    "X_train , X_test , y_train, y_test = train_test_split(X , y, stratify = y)"
   ]
  },
  {
   "cell_type": "code",
   "execution_count": 34,
   "id": "3a26a7fc",
   "metadata": {
    "execution": {
     "iopub.execute_input": "2022-05-25T13:16:24.346638Z",
     "iopub.status.busy": "2022-05-25T13:16:24.346278Z",
     "iopub.status.idle": "2022-05-25T13:16:24.994504Z",
     "shell.execute_reply": "2022-05-25T13:16:24.993639Z"
    },
    "papermill": {
     "duration": 0.701729,
     "end_time": "2022-05-25T13:16:24.997541",
     "exception": false,
     "start_time": "2022-05-25T13:16:24.295812",
     "status": "completed"
    },
    "tags": []
   },
   "outputs": [
    {
     "data": {
      "text/plain": [
       "LogisticRegression()"
      ]
     },
     "execution_count": 34,
     "metadata": {},
     "output_type": "execute_result"
    }
   ],
   "source": [
    "from sklearn.linear_model import LogisticRegression\n",
    "model=LogisticRegression()\n",
    "model.fit(X_train,y_train)"
   ]
  },
  {
   "cell_type": "code",
   "execution_count": 35,
   "id": "a9fe716d",
   "metadata": {
    "execution": {
     "iopub.execute_input": "2022-05-25T13:16:25.170968Z",
     "iopub.status.busy": "2022-05-25T13:16:25.170695Z",
     "iopub.status.idle": "2022-05-25T13:16:25.175267Z",
     "shell.execute_reply": "2022-05-25T13:16:25.174367Z"
    },
    "papermill": {
     "duration": 0.055468,
     "end_time": "2022-05-25T13:16:25.177324",
     "exception": false,
     "start_time": "2022-05-25T13:16:25.121856",
     "status": "completed"
    },
    "tags": []
   },
   "outputs": [],
   "source": [
    "y_pred = model.predict(X_test)"
   ]
  },
  {
   "cell_type": "code",
   "execution_count": 36,
   "id": "96e1bb89",
   "metadata": {
    "execution": {
     "iopub.execute_input": "2022-05-25T13:16:25.274816Z",
     "iopub.status.busy": "2022-05-25T13:16:25.274522Z",
     "iopub.status.idle": "2022-05-25T13:16:25.281044Z",
     "shell.execute_reply": "2022-05-25T13:16:25.280232Z"
    },
    "papermill": {
     "duration": 0.057436,
     "end_time": "2022-05-25T13:16:25.282963",
     "exception": false,
     "start_time": "2022-05-25T13:16:25.225527",
     "status": "completed"
    },
    "tags": []
   },
   "outputs": [],
   "source": [
    "from sklearn.metrics import accuracy_score,precision_score,recall_score,f1_score"
   ]
  },
  {
   "cell_type": "code",
   "execution_count": 37,
   "id": "3f3d059a",
   "metadata": {},
   "outputs": [
    {
     "data": {
      "text/plain": [
       "[0.9405074365704287,\n",
       " 0.9631436314363143,\n",
       " 0.8970217062089854,\n",
       " 0.9289074751698903]"
      ]
     },
     "execution_count": 37,
     "metadata": {},
     "output_type": "execute_result"
    }
   ],
   "source": [
    "model_scores={}\n",
    "model_scores[\"Logistic Regression\"]=[]\n",
    "model_scores[\"Logistic Regression\"].append(accuracy_score(y_test,y_pred))\n",
    "model_scores[\"Logistic Regression\"].append(precision_score(y_test,y_pred))\n",
    "model_scores[\"Logistic Regression\"].append(recall_score(y_test,y_pred))\n",
    "model_scores[\"Logistic Regression\"].append(f1_score(y_test,y_pred))\n",
    "model_scores[\"Logistic Regression\"]"
   ]
  },
  {
   "cell_type": "code",
   "execution_count": 38,
   "id": "522bd76b",
   "metadata": {
    "papermill": {
     "duration": 0.049285,
     "end_time": "2022-05-25T13:16:25.821454",
     "exception": false,
     "start_time": "2022-05-25T13:16:25.772169",
     "status": "completed"
    },
    "tags": []
   },
   "outputs": [],
   "source": [
    "from sklearn.ensemble import RandomForestClassifier\n",
    "model1=RandomForestClassifier(n_estimators=200)\n"
   ]
  },
  {
   "cell_type": "code",
   "execution_count": 39,
   "id": "48e73873",
   "metadata": {},
   "outputs": [
    {
     "data": {
      "text/plain": [
       "RandomForestClassifier(n_estimators=200)"
      ]
     },
     "execution_count": 39,
     "metadata": {},
     "output_type": "execute_result"
    }
   ],
   "source": [
    "model1.fit(X_train,y_train)"
   ]
  },
  {
   "cell_type": "code",
   "execution_count": 40,
   "id": "b91524f9",
   "metadata": {},
   "outputs": [
    {
     "data": {
      "text/plain": [
       "[0.8772965879265092,\n",
       " 0.9677206851119895,\n",
       " 0.7415446744068652,\n",
       " 0.8396684767076308]"
      ]
     },
     "execution_count": 40,
     "metadata": {},
     "output_type": "execute_result"
    }
   ],
   "source": [
    "y_pred2=model1.predict(X_test)\n",
    "model_scores[\"Random Forest Classifier\"]=[]\n",
    "model_scores[\"Random Forest Classifier\"].append(accuracy_score(y_test,y_pred2))\n",
    "model_scores[\"Random Forest Classifier\"].append(precision_score(y_test,y_pred2))\n",
    "model_scores[\"Random Forest Classifier\"].append(recall_score(y_test,y_pred2))\n",
    "model_scores[\"Random Forest Classifier\"].append(f1_score(y_test,y_pred2))\n",
    "model_scores[\"Random Forest Classifier\"]"
   ]
  },
  {
   "cell_type": "code",
   "execution_count": 41,
   "id": "e9a4ee62",
   "metadata": {},
   "outputs": [
    {
     "data": {
      "text/plain": [
       "KNeighborsClassifier(n_neighbors=1)"
      ]
     },
     "execution_count": 41,
     "metadata": {},
     "output_type": "execute_result"
    }
   ],
   "source": [
    "from sklearn.neighbors import KNeighborsClassifier\n",
    "knn_model=KNeighborsClassifier(n_neighbors=1)\n",
    "knn_model.fit(X_train,y_train)"
   ]
  },
  {
   "cell_type": "code",
   "execution_count": 42,
   "id": "38746a35",
   "metadata": {},
   "outputs": [
    {
     "data": {
      "text/plain": [
       "[0.4503499562554681,\n",
       " 0.44065149486836236,\n",
       " 0.9969712266532055,\n",
       " 0.6111712826860592]"
      ]
     },
     "execution_count": 42,
     "metadata": {},
     "output_type": "execute_result"
    }
   ],
   "source": [
    "y_pred3=knn_model.predict(X_test)\n",
    "model_scores[\"K-Nearest Neighbors Classifier\"]=[]\n",
    "model_scores[\"K-Nearest Neighbors Classifier\"].append(accuracy_score(y_test,y_pred3))\n",
    "model_scores[\"K-Nearest Neighbors Classifier\"].append(precision_score(y_test,y_pred3))\n",
    "model_scores[\"K-Nearest Neighbors Classifier\"].append(recall_score(y_test,y_pred3))\n",
    "model_scores[\"K-Nearest Neighbors Classifier\"].append(f1_score(y_test,y_pred3))\n",
    "model_scores[\"K-Nearest Neighbors Classifier\"]"
   ]
  },
  {
   "cell_type": "code",
   "execution_count": 43,
   "id": "badfebfb",
   "metadata": {},
   "outputs": [
    {
     "data": {
      "text/plain": [
       "[0.9092300962379702, 0.887240356083086, 0.9056032306915699, 0.8963277541843617]"
      ]
     },
     "execution_count": 43,
     "metadata": {},
     "output_type": "execute_result"
    }
   ],
   "source": [
    "from sklearn.tree import DecisionTreeClassifier\n",
    "dtc = DecisionTreeClassifier(criterion='entropy')\n",
    "dtc.fit(X_train, y_train)\n",
    "y_pred4=dtc.predict(X_test)\n",
    "model_scores[\"Decision Tree Classifier\"]=[]\n",
    "model_scores[\"Decision Tree Classifier\"].append(accuracy_score(y_test,y_pred4))\n",
    "model_scores[\"Decision Tree Classifier\"].append(precision_score(y_test,y_pred4))\n",
    "model_scores[\"Decision Tree Classifier\"].append(recall_score(y_test,y_pred4))\n",
    "model_scores[\"Decision Tree Classifier\"].append(f1_score(y_test,y_pred4))\n",
    "model_scores[\"Decision Tree Classifier\"]"
   ]
  },
  {
   "cell_type": "code",
   "execution_count": 44,
   "id": "ce5e3da5",
   "metadata": {},
   "outputs": [
    {
     "data": {
      "text/plain": [
       "LinearSVC()"
      ]
     },
     "execution_count": 44,
     "metadata": {},
     "output_type": "execute_result"
    }
   ],
   "source": [
    "from sklearn.svm import LinearSVC\n",
    "svc_model=LinearSVC()\n",
    "svc_model.fit(X_train,y_train)"
   ]
  },
  {
   "cell_type": "code",
   "execution_count": 45,
   "id": "27544769",
   "metadata": {},
   "outputs": [
    {
     "data": {
      "text/plain": [
       "[0.9652230971128609, 0.9681397738951696, 0.9510348308934882, 0.959511077158136]"
      ]
     },
     "execution_count": 45,
     "metadata": {},
     "output_type": "execute_result"
    }
   ],
   "source": [
    "y_pred5=svc_model.predict(X_test)\n",
    "model_scores[\"Linear SVM Classifier\"]=[]\n",
    "model_scores[\"Linear SVM Classifier\"].append(accuracy_score(y_test,y_pred5))\n",
    "model_scores[\"Linear SVM Classifier\"].append(precision_score(y_test,y_pred5))\n",
    "model_scores[\"Linear SVM Classifier\"].append(recall_score(y_test,y_pred5))\n",
    "model_scores[\"Linear SVM Classifier\"].append(f1_score(y_test,y_pred5))\n",
    "model_scores[\"Linear SVM Classifier\"]"
   ]
  },
  {
   "cell_type": "code",
   "execution_count": 46,
   "id": "7108c4a7",
   "metadata": {},
   "outputs": [
    {
     "data": {
      "text/plain": [
       "MultinomialNB()"
      ]
     },
     "execution_count": 46,
     "metadata": {},
     "output_type": "execute_result"
    }
   ],
   "source": [
    "from sklearn.naive_bayes import MultinomialNB\n",
    "clf=MultinomialNB()\n",
    "clf.fit(X_train,y_train)"
   ]
  },
  {
   "cell_type": "code",
   "execution_count": 47,
   "id": "295ba611",
   "metadata": {},
   "outputs": [
    {
     "data": {
      "text/plain": [
       "[0.69750656167979, 0.9966777408637874, 0.3028773346794548, 0.4645760743321719]"
      ]
     },
     "execution_count": 47,
     "metadata": {},
     "output_type": "execute_result"
    }
   ],
   "source": [
    "y_pred6=clf.predict(X_test)\n",
    "model_scores[\"Naive-bayes Classifier\"]=[]\n",
    "model_scores[\"Naive-bayes Classifier\"].append(accuracy_score(y_test,y_pred6))\n",
    "model_scores[\"Naive-bayes Classifier\"].append(precision_score(y_test,y_pred6))\n",
    "model_scores[\"Naive-bayes Classifier\"].append(recall_score(y_test,y_pred6))\n",
    "model_scores[\"Naive-bayes Classifier\"].append(f1_score(y_test,y_pred6))\n",
    "model_scores[\"Naive-bayes Classifier\"]"
   ]
  },
  {
   "cell_type": "code",
   "execution_count": 48,
   "id": "26d3b1f6",
   "metadata": {},
   "outputs": [],
   "source": [
    "from sklearn.ensemble import BaggingClassifier\n",
    "bagging = BaggingClassifier(LinearSVC(),\n",
    "                             max_samples=0.5, max_features=0.5)"
   ]
  },
  {
   "cell_type": "code",
   "execution_count": 49,
   "id": "3ba6b51c",
   "metadata": {},
   "outputs": [
    {
     "data": {
      "text/plain": [
       "BaggingClassifier(base_estimator=LinearSVC(), max_features=0.5, max_samples=0.5)"
      ]
     },
     "execution_count": 49,
     "metadata": {},
     "output_type": "execute_result"
    }
   ],
   "source": [
    "bagging.fit(X_train,y_train)"
   ]
  },
  {
   "cell_type": "code",
   "execution_count": 50,
   "id": "96c764c7",
   "metadata": {},
   "outputs": [
    {
     "data": {
      "text/plain": [
       "[0.9433508311461067,\n",
       " 0.9674267100977199,\n",
       " 0.8995456839979808,\n",
       " 0.9322521579911066]"
      ]
     },
     "execution_count": 50,
     "metadata": {},
     "output_type": "execute_result"
    }
   ],
   "source": [
    "y_pred7=bagging.predict(X_test)\n",
    "model_scores[\"Bagging Classifier\"]=[]\n",
    "model_scores[\"Bagging Classifier\"].append(accuracy_score(y_test,y_pred7))\n",
    "model_scores[\"Bagging Classifier\"].append(precision_score(y_test,y_pred7))\n",
    "model_scores[\"Bagging Classifier\"].append(recall_score(y_test,y_pred7))\n",
    "model_scores[\"Bagging Classifier\"].append(f1_score(y_test,y_pred7))\n",
    "model_scores[\"Bagging Classifier\"]"
   ]
  },
  {
   "cell_type": "code",
   "execution_count": 51,
   "id": "648cc762",
   "metadata": {},
   "outputs": [
    {
     "data": {
      "text/plain": [
       "AdaBoostClassifier(n_estimators=100)"
      ]
     },
     "execution_count": 51,
     "metadata": {},
     "output_type": "execute_result"
    }
   ],
   "source": [
    "from sklearn.ensemble import AdaBoostClassifier\n",
    "clf1 = AdaBoostClassifier(n_estimators=100)\n",
    "clf1.fit(X_train,y_train)"
   ]
  },
  {
   "cell_type": "code",
   "execution_count": 52,
   "id": "83c9cc20",
   "metadata": {},
   "outputs": [
    {
     "data": {
      "text/plain": [
       "[0.9553805774278216,\n",
       " 0.9444722361180591,\n",
       " 0.9530540131246845,\n",
       " 0.9487437185929648]"
      ]
     },
     "execution_count": 52,
     "metadata": {},
     "output_type": "execute_result"
    }
   ],
   "source": [
    "y_pred8=clf1.predict(X_test)\n",
    "model_scores[\"AdaBoost Classifier\"]=[]\n",
    "model_scores[\"AdaBoost Classifier\"].append(accuracy_score(y_test,y_pred8))\n",
    "model_scores[\"AdaBoost Classifier\"].append(precision_score(y_test,y_pred8))\n",
    "model_scores[\"AdaBoost Classifier\"].append(recall_score(y_test,y_pred8))\n",
    "model_scores[\"AdaBoost Classifier\"].append(f1_score(y_test,y_pred8))\n",
    "model_scores[\"AdaBoost Classifier\"]"
   ]
  },
  {
   "cell_type": "code",
   "execution_count": 53,
   "id": "0149cda9",
   "metadata": {},
   "outputs": [
    {
     "data": {
      "text/plain": [
       "GradientBoostingClassifier(learning_rate=1.0, max_depth=1)"
      ]
     },
     "execution_count": 53,
     "metadata": {},
     "output_type": "execute_result"
    }
   ],
   "source": [
    "from sklearn.ensemble import GradientBoostingClassifier\n",
    "clf2=GradientBoostingClassifier(n_estimators=100, learning_rate=1.0,max_depth=1)\n",
    "clf2.fit(X_train,y_train)"
   ]
  },
  {
   "cell_type": "code",
   "execution_count": 54,
   "id": "cf009c91",
   "metadata": {},
   "outputs": [
    {
     "data": {
      "text/plain": [
       "[0.9566929133858267, 0.955079122001021, 0.9444724886421, 0.949746192893401]"
      ]
     },
     "execution_count": 54,
     "metadata": {},
     "output_type": "execute_result"
    }
   ],
   "source": [
    "y_pred9=clf2.predict(X_test)\n",
    "model_scores[\"XGBoost Classifier\"]=[]\n",
    "model_scores[\"XGBoost Classifier\"].append(accuracy_score(y_test,y_pred9))\n",
    "model_scores[\"XGBoost Classifier\"].append(precision_score(y_test,y_pred9))\n",
    "model_scores[\"XGBoost Classifier\"].append(recall_score(y_test,y_pred9))\n",
    "model_scores[\"XGBoost Classifier\"].append(f1_score(y_test,y_pred9))\n",
    "model_scores[\"XGBoost Classifier\"]"
   ]
  },
  {
   "cell_type": "code",
   "execution_count": 55,
   "id": "62d8eb5c",
   "metadata": {},
   "outputs": [],
   "source": [
    "model_compare = pd.DataFrame(model_scores, index=['accuracy','precision','recall','f1-score'])"
   ]
  },
  {
   "cell_type": "code",
   "execution_count": 56,
   "id": "84ea5ecb",
   "metadata": {},
   "outputs": [
    {
     "data": {
      "text/html": [
       "<div>\n",
       "<style scoped>\n",
       "    .dataframe tbody tr th:only-of-type {\n",
       "        vertical-align: middle;\n",
       "    }\n",
       "\n",
       "    .dataframe tbody tr th {\n",
       "        vertical-align: top;\n",
       "    }\n",
       "\n",
       "    .dataframe thead th {\n",
       "        text-align: right;\n",
       "    }\n",
       "</style>\n",
       "<table border=\"1\" class=\"dataframe\">\n",
       "  <thead>\n",
       "    <tr style=\"text-align: right;\">\n",
       "      <th></th>\n",
       "      <th>Logistic Regression</th>\n",
       "      <th>Random Forest Classifier</th>\n",
       "      <th>K-Nearest Neighbors Classifier</th>\n",
       "      <th>Decision Tree Classifier</th>\n",
       "      <th>Linear SVM Classifier</th>\n",
       "      <th>Naive-bayes Classifier</th>\n",
       "      <th>Bagging Classifier</th>\n",
       "      <th>AdaBoost Classifier</th>\n",
       "      <th>XGBoost Classifier</th>\n",
       "    </tr>\n",
       "  </thead>\n",
       "  <tbody>\n",
       "    <tr>\n",
       "      <th>accuracy</th>\n",
       "      <td>0.940507</td>\n",
       "      <td>0.877297</td>\n",
       "      <td>0.450350</td>\n",
       "      <td>0.909230</td>\n",
       "      <td>0.965223</td>\n",
       "      <td>0.697507</td>\n",
       "      <td>0.943351</td>\n",
       "      <td>0.955381</td>\n",
       "      <td>0.956693</td>\n",
       "    </tr>\n",
       "    <tr>\n",
       "      <th>precision</th>\n",
       "      <td>0.963144</td>\n",
       "      <td>0.967721</td>\n",
       "      <td>0.440651</td>\n",
       "      <td>0.887240</td>\n",
       "      <td>0.968140</td>\n",
       "      <td>0.996678</td>\n",
       "      <td>0.967427</td>\n",
       "      <td>0.944472</td>\n",
       "      <td>0.955079</td>\n",
       "    </tr>\n",
       "    <tr>\n",
       "      <th>recall</th>\n",
       "      <td>0.897022</td>\n",
       "      <td>0.741545</td>\n",
       "      <td>0.996971</td>\n",
       "      <td>0.905603</td>\n",
       "      <td>0.951035</td>\n",
       "      <td>0.302877</td>\n",
       "      <td>0.899546</td>\n",
       "      <td>0.953054</td>\n",
       "      <td>0.944472</td>\n",
       "    </tr>\n",
       "    <tr>\n",
       "      <th>f1-score</th>\n",
       "      <td>0.928907</td>\n",
       "      <td>0.839668</td>\n",
       "      <td>0.611171</td>\n",
       "      <td>0.896328</td>\n",
       "      <td>0.959511</td>\n",
       "      <td>0.464576</td>\n",
       "      <td>0.932252</td>\n",
       "      <td>0.948744</td>\n",
       "      <td>0.949746</td>\n",
       "    </tr>\n",
       "  </tbody>\n",
       "</table>\n",
       "</div>"
      ],
      "text/plain": [
       "           Logistic Regression  Random Forest Classifier  \\\n",
       "accuracy              0.940507                  0.877297   \n",
       "precision             0.963144                  0.967721   \n",
       "recall                0.897022                  0.741545   \n",
       "f1-score              0.928907                  0.839668   \n",
       "\n",
       "           K-Nearest Neighbors Classifier  Decision Tree Classifier  \\\n",
       "accuracy                         0.450350                  0.909230   \n",
       "precision                        0.440651                  0.887240   \n",
       "recall                           0.996971                  0.905603   \n",
       "f1-score                         0.611171                  0.896328   \n",
       "\n",
       "           Linear SVM Classifier  Naive-bayes Classifier  Bagging Classifier  \\\n",
       "accuracy                0.965223                0.697507            0.943351   \n",
       "precision               0.968140                0.996678            0.967427   \n",
       "recall                  0.951035                0.302877            0.899546   \n",
       "f1-score                0.959511                0.464576            0.932252   \n",
       "\n",
       "           AdaBoost Classifier  XGBoost Classifier  \n",
       "accuracy              0.955381            0.956693  \n",
       "precision             0.944472            0.955079  \n",
       "recall                0.953054            0.944472  \n",
       "f1-score              0.948744            0.949746  "
      ]
     },
     "execution_count": 56,
     "metadata": {},
     "output_type": "execute_result"
    }
   ],
   "source": [
    "model_compare"
   ]
  },
  {
   "cell_type": "code",
   "execution_count": null,
   "id": "b47f446f",
   "metadata": {},
   "outputs": [],
   "source": []
  }
 ],
 "metadata": {
  "kernelspec": {
   "display_name": "Python 3",
   "language": "python",
   "name": "python3"
  },
  "language_info": {
   "codemirror_mode": {
    "name": "ipython",
    "version": 3
   },
   "file_extension": ".py",
   "mimetype": "text/x-python",
   "name": "python",
   "nbconvert_exporter": "python",
   "pygments_lexer": "ipython3",
   "version": "3.8.8"
  },
  "papermill": {
   "default_parameters": {},
   "duration": 423.159981,
   "end_time": "2022-05-25T13:16:26.794894",
   "environment_variables": {},
   "exception": null,
   "input_path": "__notebook__.ipynb",
   "output_path": "__notebook__.ipynb",
   "parameters": {},
   "start_time": "2022-05-25T13:09:23.634913",
   "version": "2.3.4"
  }
 },
 "nbformat": 4,
 "nbformat_minor": 5
}
